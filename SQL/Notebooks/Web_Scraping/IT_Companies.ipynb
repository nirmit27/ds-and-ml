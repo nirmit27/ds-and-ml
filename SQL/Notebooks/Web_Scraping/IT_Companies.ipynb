{
 "cells": [
  {
   "cell_type": "markdown",
   "id": "944df155",
   "metadata": {},
   "source": [
    "# Web Scraping Demo\n",
    "> **Feb 2, 2024**"
   ]
  },
  {
   "cell_type": "code",
   "execution_count": 1,
   "id": "5fc1ad0a",
   "metadata": {},
   "outputs": [],
   "source": [
    "import re\n",
    "import numpy as np\n",
    "\n",
    "import pandas as pd\n",
    "\n",
    "import requests\n",
    "\n",
    "import json\n",
    "\n",
    "from bs4 import BeautifulSoup as bs\n",
    "from sqlalchemy import create_engine as sqleng\n",
    "\n",
    "import mysql.connector as msc\n",
    "from mysql.connector import Error"
   ]
  },
  {
   "cell_type": "markdown",
   "id": "4a70ae71",
   "metadata": {},
   "source": [
    "### For reponse code : _403_\n",
    "\n",
    "> Use the headers to make a successful request."
   ]
  },
  {
   "cell_type": "code",
   "execution_count": 2,
   "id": "d17419b7",
   "metadata": {},
   "outputs": [],
   "source": [
    "connect_data = {}\n",
    "\n",
    "with open('utils.json') as f:\n",
    "    connect_data = json.load(f)\n",
    "\n",
    "rating_review_reg_ex = r'(\\d+\\.\\d+)|[\\d]+'\n",
    "\n",
    "webpage = requests.get(\n",
    "    connect_data['url'], headers=connect_data['headers']).text"
   ]
  },
  {
   "cell_type": "markdown",
   "id": "d9713ae2",
   "metadata": {},
   "source": [
    "### Parsing the webpage content"
   ]
  },
  {
   "cell_type": "code",
   "execution_count": 3,
   "id": "71c86c94",
   "metadata": {},
   "outputs": [],
   "source": [
    "soup = bs(webpage, 'lxml')"
   ]
  },
  {
   "cell_type": "markdown",
   "id": "f301c9d1",
   "metadata": {},
   "source": [
    "> Utility function"
   ]
  },
  {
   "cell_type": "code",
   "execution_count": 4,
   "id": "0417b508",
   "metadata": {},
   "outputs": [],
   "source": [
    "def show(items):\n",
    "    for item in items:\n",
    "        print(item)"
   ]
  },
  {
   "cell_type": "markdown",
   "id": "0952c494",
   "metadata": {},
   "source": [
    " ## _Extracting web content_"
   ]
  },
  {
   "cell_type": "markdown",
   "id": "b0fff6a4",
   "metadata": {},
   "source": [
    "### Company **names**"
   ]
  },
  {
   "cell_type": "code",
   "execution_count": 5,
   "id": "a74a0912",
   "metadata": {},
   "outputs": [
    {
     "data": {
      "text/plain": [
       "['TCS',\n",
       " 'Accenture',\n",
       " 'Cognizant',\n",
       " 'Wipro',\n",
       " 'HDFC Bank',\n",
       " 'ICICI Bank',\n",
       " 'Infosys',\n",
       " 'Capgemini',\n",
       " 'HCLTech',\n",
       " 'Tech Mahindra',\n",
       " 'Genpact',\n",
       " 'Axis Bank',\n",
       " 'Teleperformance',\n",
       " 'Concentrix Corporation',\n",
       " 'Jio',\n",
       " 'Amazon',\n",
       " 'IBM',\n",
       " 'Larsen & Toubro Limited',\n",
       " 'Reliance Retail',\n",
       " 'HDB Financial Services']"
      ]
     },
     "execution_count": 5,
     "metadata": {},
     "output_type": "execute_result"
    }
   ],
   "source": [
    "names, names_query = [], []\n",
    "\n",
    "h2 = soup.find_all('h2')\n",
    "\n",
    "for name in h2:\n",
    "    name = name.text.strip()\n",
    "    names.append(name)\n",
    "\n",
    "    name = name.lower().replace(' ', '-')\n",
    "    names_query.append(name)\n",
    "    \n",
    "names = names[:-4]\n",
    "names_query = names_query[:-4]\n",
    "\n",
    "names"
   ]
  },
  {
   "cell_type": "markdown",
   "id": "1de9ff53",
   "metadata": {},
   "source": [
    "> Exceptional changes ..."
   ]
  },
  {
   "cell_type": "code",
   "execution_count": 6,
   "id": "ffc5e10a",
   "metadata": {},
   "outputs": [
    {
     "data": {
      "text/plain": [
       "['tcs',\n",
       " 'accenture',\n",
       " 'cognizant',\n",
       " 'wipro',\n",
       " 'hdfc-bank',\n",
       " 'icici-bank',\n",
       " 'infosys',\n",
       " 'capgemini',\n",
       " 'hcltech',\n",
       " 'tech-mahindra',\n",
       " 'genpact',\n",
       " 'axis-bank',\n",
       " 'teleperformance',\n",
       " 'concentrix-corporation',\n",
       " 'jio',\n",
       " 'amazon',\n",
       " 'ibm',\n",
       " 'l-and-t',\n",
       " 'reliance-retail',\n",
       " 'hdb-financial-services']"
      ]
     },
     "execution_count": 6,
     "metadata": {},
     "output_type": "execute_result"
    }
   ],
   "source": [
    "names_query[-3] = 'l-and-t'\n",
    "\n",
    "names_query"
   ]
  },
  {
   "cell_type": "markdown",
   "id": "43b0be56",
   "metadata": {},
   "source": [
    "### Class for representing **each company's data**"
   ]
  },
  {
   "cell_type": "code",
   "execution_count": 7,
   "id": "37f5549c",
   "metadata": {},
   "outputs": [],
   "source": [
    "class Company:\n",
    "\n",
    "    def __init__(self, name):\n",
    "        self.name = name\n",
    "        self.review = float()\n",
    "        self.rating = float()\n",
    "        self.hq = ''\n",
    "        self.ownership = ''\n",
    "        self.founded_in = int()\n",
    "        self.global_emp_count = float()\n",
    "        self.india_emp_count = float()\n",
    "\n",
    "    def fetch_page(self, name):\n",
    "        url = f\"https://www.ambitionbox.com/overview/{name}-overview\"\n",
    "        res = requests.get(url, headers=connect_data[\"headers\"])\n",
    "        return res\n",
    "\n",
    "    def fetch_details(self):\n",
    "        res = self.fetch_page(self.name)\n",
    "        if res.status_code == 200:\n",
    "            page = bs(res.text, 'lxml')\n",
    "\n",
    "            review = page.find('p', class_='newHInfo__rc')\n",
    "            rating = page.find('span', class_='newHInfo__rating')\n",
    "\n",
    "            if review is not None and rating is not None:\n",
    "                review = re.search(rating_review_reg_ex, review.text)\n",
    "                rating = re.search(rating_review_reg_ex, rating.text)\n",
    "\n",
    "                if review is not None and rating is not None:\n",
    "                    self.review =  float(review.group()) * 1000\n",
    "                    self.rating =  float(rating.group())\n",
    "                else:\n",
    "                    return\n",
    "            else:\n",
    "                return\n",
    "        else:\n",
    "            return\n",
    "        \n",
    "    def __str__(self) -> str:\n",
    "        self.fetch_details()\n",
    "        return f\"Name : {self.name}\\tRating : {self.rating}\\tNumber of reviews : {self.review}\\tHQ : {self.hq}\""
   ]
  },
  {
   "cell_type": "markdown",
   "id": "e1729d03",
   "metadata": {},
   "source": [
    "### _**Company details**_"
   ]
  },
  {
   "cell_type": "code",
   "execution_count": 8,
   "id": "ca5ed463",
   "metadata": {},
   "outputs": [],
   "source": [
    "companies = []\n",
    "\n",
    "for name in names_query:\n",
    "    c = Company(name)\n",
    "    c.fetch_details()\n",
    "    \n",
    "    companies.append(c)"
   ]
  },
  {
   "cell_type": "markdown",
   "id": "163c33d4",
   "metadata": {},
   "source": [
    "#### _Replacing the names_"
   ]
  },
  {
   "cell_type": "code",
   "execution_count": 9,
   "id": "de7be4bf",
   "metadata": {},
   "outputs": [],
   "source": [
    "i = 0\n",
    "for company in companies:\n",
    "    company.name = names[i]\n",
    "    i+=1"
   ]
  },
  {
   "cell_type": "markdown",
   "id": "53a4faf9",
   "metadata": {},
   "source": [
    "### Company **card details**"
   ]
  },
  {
   "cell_type": "code",
   "execution_count": null,
   "id": "41374cc9",
   "metadata": {},
   "outputs": [],
   "source": [
    "company_cards = soup.find_all('div', class_='companyCardWrapper__companyDetails')\n",
    "\n",
    "company_cards_details = []\n",
    "\n",
    "for card in company_cards:\n",
    "    txt = card.text.strip().replace('\\n', ' ').replace('\\t', ' ')\n",
    "    company_cards_details.append(txt)\n",
    "    print(txt)\n",
    "\n",
    "print(f\"\\nNumber of Companies = {len(company_cards_details)}\")"
   ]
  },
  {
   "cell_type": "markdown",
   "id": "770b79c6",
   "metadata": {},
   "source": [
    "### Company **Data Collection**"
   ]
  },
  {
   "cell_type": "code",
   "execution_count": 11,
   "id": "53c828f4",
   "metadata": {},
   "outputs": [],
   "source": [
    "hq_data, founded_in_data, ownership, emp_count, ratings, reviews = [], [], [], [], [], []\n",
    "\n",
    "cities = {\n",
    "    'Bengaluru/Bangalore': 'Bangalore',\n",
    "    'Bangalore/Bengaluru': 'Bangalore',\n",
    "    'Teaneck.': 'New Jersey',\n",
    "    'New': 'New York',\n",
    "    'Navi': 'Navi Mumbai'\n",
    "}\n",
    "\n",
    "for cc in company_cards:\n",
    "    data = cc.find(\n",
    "        'span', class_=\"companyCardWrapper__interLinking\").text.strip().split('|')\n",
    "\n",
    "    hq_ = data[-1].split()[0]\n",
    "    fd_ = 2024 - int(data[-2].split()[0])\n",
    "    own_ = data[-3].strip()\n",
    "    emp_ = ' '.join(data[1].split()[:-1])\n",
    "\n",
    "    if hq_ in cities.keys():\n",
    "        hq_ = cities[hq_]\n",
    "\n",
    "    if own_.startswith('1') or own_.startswith('F'):\n",
    "        own_ = 'Private'\n",
    "\n",
    "    hq_data.append(hq_)\n",
    "    founded_in_data.append(fd_)\n",
    "    ownership.append(own_)\n",
    "    emp_count.append(emp_)\n",
    "\n",
    "\n",
    "for c in companies:\n",
    "    ratings.append(c.rating)\n",
    "    reviews.append(int(c.review))"
   ]
  },
  {
   "cell_type": "markdown",
   "id": "c1686b6f",
   "metadata": {},
   "source": [
    "### Making the **DataFrame**"
   ]
  },
  {
   "cell_type": "code",
   "execution_count": 12,
   "id": "4f91b514",
   "metadata": {},
   "outputs": [
    {
     "data": {
      "text/html": [
       "<div>\n",
       "<style scoped>\n",
       "    .dataframe tbody tr th:only-of-type {\n",
       "        vertical-align: middle;\n",
       "    }\n",
       "\n",
       "    .dataframe tbody tr th {\n",
       "        vertical-align: top;\n",
       "    }\n",
       "\n",
       "    .dataframe thead th {\n",
       "        text-align: right;\n",
       "    }\n",
       "</style>\n",
       "<table border=\"1\" class=\"dataframe\">\n",
       "  <thead>\n",
       "    <tr style=\"text-align: right;\">\n",
       "      <th></th>\n",
       "      <th>company_name</th>\n",
       "      <th>rating</th>\n",
       "      <th>no_of_reviews</th>\n",
       "      <th>hq</th>\n",
       "      <th>founded_in</th>\n",
       "      <th>ownership</th>\n",
       "      <th>employee_count</th>\n",
       "    </tr>\n",
       "  </thead>\n",
       "  <tbody>\n",
       "    <tr>\n",
       "      <th>0</th>\n",
       "      <td>TCS</td>\n",
       "      <td>3.7</td>\n",
       "      <td>72800</td>\n",
       "      <td>Mumbai</td>\n",
       "      <td>1968</td>\n",
       "      <td>Public</td>\n",
       "      <td>1 Lakh+</td>\n",
       "    </tr>\n",
       "    <tr>\n",
       "      <th>1</th>\n",
       "      <td>Accenture</td>\n",
       "      <td>4.0</td>\n",
       "      <td>46100</td>\n",
       "      <td>Dublin</td>\n",
       "      <td>1989</td>\n",
       "      <td>Public</td>\n",
       "      <td>1 Lakh+</td>\n",
       "    </tr>\n",
       "    <tr>\n",
       "      <th>2</th>\n",
       "      <td>Cognizant</td>\n",
       "      <td>3.8</td>\n",
       "      <td>41400</td>\n",
       "      <td>New Jersey</td>\n",
       "      <td>1994</td>\n",
       "      <td>Private</td>\n",
       "      <td>1 Lakh+</td>\n",
       "    </tr>\n",
       "    <tr>\n",
       "      <th>3</th>\n",
       "      <td>Wipro</td>\n",
       "      <td>3.7</td>\n",
       "      <td>38800</td>\n",
       "      <td>Bangalore</td>\n",
       "      <td>1945</td>\n",
       "      <td>Public</td>\n",
       "      <td>1 Lakh+</td>\n",
       "    </tr>\n",
       "    <tr>\n",
       "      <th>4</th>\n",
       "      <td>HDFC Bank</td>\n",
       "      <td>3.8</td>\n",
       "      <td>33700</td>\n",
       "      <td>Mumbai</td>\n",
       "      <td>1994</td>\n",
       "      <td>Public</td>\n",
       "      <td>1 Lakh+</td>\n",
       "    </tr>\n",
       "  </tbody>\n",
       "</table>\n",
       "</div>"
      ],
      "text/plain": [
       "  company_name  rating  no_of_reviews          hq  founded_in ownership  \\\n",
       "0          TCS     3.7          72800      Mumbai        1968    Public   \n",
       "1    Accenture     4.0          46100      Dublin        1989    Public   \n",
       "2    Cognizant     3.8          41400  New Jersey        1994   Private   \n",
       "3        Wipro     3.7          38800   Bangalore        1945    Public   \n",
       "4    HDFC Bank     3.8          33700      Mumbai        1994    Public   \n",
       "\n",
       "  employee_count  \n",
       "0        1 Lakh+  \n",
       "1        1 Lakh+  \n",
       "2        1 Lakh+  \n",
       "3        1 Lakh+  \n",
       "4        1 Lakh+  "
      ]
     },
     "execution_count": 12,
     "metadata": {},
     "output_type": "execute_result"
    }
   ],
   "source": [
    "df = pd.DataFrame({\n",
    "    'company_name': names,\n",
    "    'rating': ratings,\n",
    "    'no_of_reviews': reviews,\n",
    "    'hq': hq_data,\n",
    "    'founded_in': founded_in_data,\n",
    "    'ownership': ownership,\n",
    "    'employee_count': emp_count,\n",
    "})\n",
    "\n",
    "df.head()"
   ]
  },
  {
   "cell_type": "markdown",
   "id": "ddc61842",
   "metadata": {},
   "source": [
    "### **Uploading** the DataFrame to the local **SQL** Database \n",
    "> Make sure to create the database first!"
   ]
  },
  {
   "cell_type": "code",
   "execution_count": 13,
   "id": "b2ef76da",
   "metadata": {},
   "outputs": [
    {
     "data": {
      "text/plain": [
       "20"
      ]
     },
     "execution_count": 13,
     "metadata": {},
     "output_type": "execute_result"
    }
   ],
   "source": [
    "pwd = input(\"Enter root password : \")\n",
    "db_name = input(\"Enter the database name : \")\n",
    "tb_name = input(\"Enter the table name : \")\n",
    "\n",
    "eng = sqleng(f\"{connect_data['sql'].replace('<pwd>', pwd)}{db_name}\")\n",
    "rows = df.to_sql(tb_name, con=eng, if_exists='append')\n",
    "\n",
    "rows"
   ]
  },
  {
   "cell_type": "markdown",
   "id": "5e53c6a7",
   "metadata": {},
   "source": [
    "### SQL Connection **Class**"
   ]
  },
  {
   "cell_type": "code",
   "execution_count": 3,
   "id": "b881664e",
   "metadata": {},
   "outputs": [],
   "source": [
    "class SQL_Connection:\n",
    "\n",
    "    def __init__(self):\n",
    "        self._connection_error = \"\"\n",
    "        self._connection = None\n",
    "        self._host = \"\"\n",
    "        self._user = \"\"\n",
    "        self._pwd = \"\"\n",
    "        self._db = \"\"\n",
    "\n",
    "        self.set_connection_params()\n",
    "\n",
    "    def set_connection_params(self):\n",
    "        self._user = input(\"Enter username : \")\n",
    "        self._pwd = input(\"Enter password : \")\n",
    "        self._host = input(\"Enter host : \")\n",
    "        self._db = input(\"Enter database name : \")\n",
    "\n",
    "    def connect(self):\n",
    "        try:\n",
    "            self._connection = msc.connect(\n",
    "                host=self._host,\n",
    "                database=self._db,\n",
    "                user=self._user,\n",
    "                password=self._pwd\n",
    "            )\n",
    "            print(f\"Connected to database : {self._db}\")\n",
    "\n",
    "        except Error as e:\n",
    "            print(f\"Error : {e}\")\n",
    "            self._connection_error = e\n",
    "\n",
    "    def execute_query(self, query):\n",
    "        if self._connection is not None:\n",
    "            cursor = self._connection.cursor(dictionary=True)\n",
    "            cursor.execute(query)\n",
    "            res = cursor.fetchall()\n",
    "            print(\"\\nQuery ran successfully! Result :\\n\")\n",
    "            for row in res:\n",
    "                print(row)\n",
    "        else:\n",
    "            print(f\"\\nCannot run query due to : {self._connection_error}!\\n\")\n",
    "\n",
    "    def query(self):\n",
    "        q = input(\"Enter your query : \")\n",
    "        self.execute_query(q)"
   ]
  },
  {
   "cell_type": "markdown",
   "id": "ea8f3dea",
   "metadata": {},
   "source": [
    "### **Establishing** the connection"
   ]
  },
  {
   "cell_type": "code",
   "execution_count": 4,
   "id": "c378c237",
   "metadata": {},
   "outputs": [
    {
     "name": "stdout",
     "output_type": "stream",
     "text": [
      "Connected to database : web_scrape\n"
     ]
    }
   ],
   "source": [
    "sql = SQL_Connection()\n",
    "sql.connect()"
   ]
  },
  {
   "cell_type": "markdown",
   "id": "74d5b5d2",
   "metadata": {},
   "source": [
    "### **Running** the queries"
   ]
  },
  {
   "cell_type": "code",
   "execution_count": 7,
   "id": "1ec502b5",
   "metadata": {},
   "outputs": [
    {
     "name": "stdout",
     "output_type": "stream",
     "text": [
      "\n",
      "Query ran successfully! Result :\n",
      "\n",
      "{'index': 2, 'company_name': 'Cognizant', 'rating': 3.8, 'no_of_reviews': 41400, 'hq': 'New Jersey', 'founded_in': 1994, 'ownership': 'Private', 'employee_count': '1 Lakh+'}\n",
      "{'index': 12, 'company_name': 'Teleperformance', 'rating': 3.7, 'no_of_reviews': 21800, 'hq': 'Paris', 'founded_in': 1978, 'ownership': 'Private', 'employee_count': '50k-1 Lakh'}\n",
      "{'index': 18, 'company_name': 'Reliance Retail', 'rating': 3.8, 'no_of_reviews': 18600, 'hq': 'Navi Mumbai', 'founded_in': 2006, 'ownership': 'Private', 'employee_count': '1 Lakh+'}\n",
      "{'index': 19, 'company_name': 'HDB Financial Services', 'rating': 4.0, 'no_of_reviews': 18100, 'hq': 'Ahmedabad', 'founded_in': 2007, 'ownership': 'Private', 'employee_count': '1 Lakh+'}\n"
     ]
    }
   ],
   "source": [
    "sql.query()"
   ]
  }
 ],
 "metadata": {
  "kernelspec": {
   "display_name": "Python 3 (ipykernel)",
   "language": "python",
   "name": "python3"
  },
  "language_info": {
   "codemirror_mode": {
    "name": "ipython",
    "version": 3
   },
   "file_extension": ".py",
   "mimetype": "text/x-python",
   "name": "python",
   "nbconvert_exporter": "python",
   "pygments_lexer": "ipython3",
   "version": "3.11.7"
  }
 },
 "nbformat": 4,
 "nbformat_minor": 5
}
