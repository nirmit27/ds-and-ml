{
 "cells": [
  {
   "cell_type": "markdown",
   "id": "5e4de6d7",
   "metadata": {
    "papermill": {
     "duration": 0.009551,
     "end_time": "2024-02-18T04:51:33.751749",
     "exception": false,
     "start_time": "2024-02-18T04:51:33.742198",
     "status": "completed"
    },
    "tags": []
   },
   "source": [
    "**This notebook is an exercise in the [Data Visualization](https://www.kaggle.com/learn/data-visualization) course.  You can reference the tutorial at [this link](https://www.kaggle.com/alexisbcook/distributions).**\n",
    "\n",
    "---\n"
   ]
  },
  {
   "cell_type": "markdown",
   "id": "dfb491fe",
   "metadata": {
    "papermill": {
     "duration": 0.007557,
     "end_time": "2024-02-18T04:51:33.767829",
     "exception": false,
     "start_time": "2024-02-18T04:51:33.760272",
     "status": "completed"
    },
    "tags": []
   },
   "source": [
    "In this exercise, you will use your new knowledge to propose a solution to a real-world scenario.  To succeed, you will need to import data into Python, answer questions using the data, and generate **histograms** and **density plots** to understand patterns in the data.\n",
    "\n",
    "## Scenario\n",
    "\n",
    "You'll work with a real-world dataset containing information collected from microscopic images of breast cancer tumors, similar to the image below.\n",
    "\n",
    "![ex4_cancer_image](https://storage.googleapis.com/kaggle-media/learn/images/qUESsJe.png)\n",
    "\n",
    "Each tumor has been labeled as either [**benign**](https://en.wikipedia.org/wiki/Benign_tumor) (_noncancerous_) or **malignant** (_cancerous_).\n",
    "\n",
    "To learn more about how this kind of data is used to create intelligent algorithms to classify tumors in medical settings, **watch the short video [at this link](https://www.youtube.com/watch?v=9Mz84cwVmS0)**."
   ]
  },
  {
   "cell_type": "markdown",
   "id": "700fa396",
   "metadata": {
    "papermill": {
     "duration": 0.00744,
     "end_time": "2024-02-18T04:51:33.783072",
     "exception": false,
     "start_time": "2024-02-18T04:51:33.775632",
     "status": "completed"
    },
    "tags": []
   },
   "source": [
    "\n",
    "\n",
    "## Setup\n",
    "\n",
    "Run the next cell to import and configure the Python libraries that you need to complete the exercise."
   ]
  },
  {
   "cell_type": "code",
   "execution_count": 1,
   "id": "2e3112d0",
   "metadata": {
    "execution": {
     "iopub.execute_input": "2024-02-18T04:51:33.800137Z",
     "iopub.status.busy": "2024-02-18T04:51:33.799748Z",
     "iopub.status.idle": "2024-02-18T04:51:36.329373Z",
     "shell.execute_reply": "2024-02-18T04:51:36.328168Z"
    },
    "papermill": {
     "duration": 2.541036,
     "end_time": "2024-02-18T04:51:36.331939",
     "exception": false,
     "start_time": "2024-02-18T04:51:33.790903",
     "status": "completed"
    },
    "tags": []
   },
   "outputs": [
    {
     "name": "stdout",
     "output_type": "stream",
     "text": [
      "Setup Complete\n"
     ]
    }
   ],
   "source": [
    "import pandas as pd\n",
    "pd.plotting.register_matplotlib_converters()\n",
    "import matplotlib.pyplot as plt\n",
    "%matplotlib inline\n",
    "import seaborn as sns\n",
    "print(\"Setup Complete\")"
   ]
  },
  {
   "cell_type": "markdown",
   "id": "7f3527fd",
   "metadata": {
    "papermill": {
     "duration": 0.00764,
     "end_time": "2024-02-18T04:51:36.347704",
     "exception": false,
     "start_time": "2024-02-18T04:51:36.340064",
     "status": "completed"
    },
    "tags": []
   },
   "source": [
    "The questions below will give you feedback on your work. Run the following cell to set up our feedback system."
   ]
  },
  {
   "cell_type": "code",
   "execution_count": 2,
   "id": "990add91",
   "metadata": {
    "execution": {
     "iopub.execute_input": "2024-02-18T04:51:36.365594Z",
     "iopub.status.busy": "2024-02-18T04:51:36.365099Z",
     "iopub.status.idle": "2024-02-18T04:51:36.443567Z",
     "shell.execute_reply": "2024-02-18T04:51:36.442334Z"
    },
    "papermill": {
     "duration": 0.090271,
     "end_time": "2024-02-18T04:51:36.445937",
     "exception": false,
     "start_time": "2024-02-18T04:51:36.355666",
     "status": "completed"
    },
    "tags": []
   },
   "outputs": [
    {
     "name": "stdout",
     "output_type": "stream",
     "text": [
      "Setup Complete\n"
     ]
    }
   ],
   "source": [
    "# Set up code checking\n",
    "from learntools.core import binder\n",
    "binder.bind(globals())\n",
    "from learntools.data_viz_to_coder.ex5 import *\n",
    "print(\"Setup Complete\")"
   ]
  },
  {
   "cell_type": "markdown",
   "id": "0c760ab9",
   "metadata": {
    "papermill": {
     "duration": 0.007996,
     "end_time": "2024-02-18T04:51:36.462587",
     "exception": false,
     "start_time": "2024-02-18T04:51:36.454591",
     "status": "completed"
    },
    "tags": []
   },
   "source": [
    "## Step 1: Load the data\n",
    "\n",
    "In this step, you will load the data.\n",
    "- Load the data file into a DataFrame called `cancer_data`.  \n",
    "- The corresponding filepath is `cancer_filepath`.  \n",
    "- Use the `\"Id\"` column to label the rows."
   ]
  },
  {
   "cell_type": "code",
   "execution_count": 3,
   "id": "3ce8616e",
   "metadata": {
    "execution": {
     "iopub.execute_input": "2024-02-18T04:51:36.481599Z",
     "iopub.status.busy": "2024-02-18T04:51:36.480698Z",
     "iopub.status.idle": "2024-02-18T04:51:36.506231Z",
     "shell.execute_reply": "2024-02-18T04:51:36.505229Z"
    },
    "papermill": {
     "duration": 0.037761,
     "end_time": "2024-02-18T04:51:36.508700",
     "exception": false,
     "start_time": "2024-02-18T04:51:36.470939",
     "status": "completed"
    },
    "tags": []
   },
   "outputs": [
    {
     "data": {
      "application/javascript": [
       "parent.postMessage({\"jupyterEvent\": \"custom.exercise_interaction\", \"data\": {\"outcomeType\": 1, \"valueTowardsCompletion\": 0.5, \"interactionType\": 1, \"questionType\": 1, \"questionId\": \"1_LoadCancerData\", \"learnToolsVersion\": \"0.3.4\", \"failureMessage\": \"\", \"exceptionClass\": \"\", \"trace\": \"\"}}, \"*\")"
      ],
      "text/plain": [
       "<IPython.core.display.Javascript object>"
      ]
     },
     "metadata": {},
     "output_type": "display_data"
    },
    {
     "data": {
      "text/markdown": [
       "<span style=\"color:#33cc33\">Correct</span>"
      ],
      "text/plain": [
       "Correct"
      ]
     },
     "metadata": {},
     "output_type": "display_data"
    }
   ],
   "source": [
    "# Path of the files to read\n",
    "cancer_filepath = \"../input/cancer.csv\"\n",
    "\n",
    "# Fill in the line below to read the file into a variable cancer_data\n",
    "cancer_data = pd.read_csv(cancer_filepath, index_col=\"Id\")\n",
    "\n",
    "# Run the line below with no changes to check that you've loaded the data correctly\n",
    "step_1.check()"
   ]
  },
  {
   "cell_type": "markdown",
   "id": "515b0e8a",
   "metadata": {
    "papermill": {
     "duration": 0.008238,
     "end_time": "2024-02-18T04:51:36.525653",
     "exception": false,
     "start_time": "2024-02-18T04:51:36.517415",
     "status": "completed"
    },
    "tags": []
   },
   "source": [
    "## Step 2: Review the data\n",
    "\n",
    "Use a Python command to print the first 5 rows of the data."
   ]
  },
  {
   "cell_type": "code",
   "execution_count": 4,
   "id": "e5879b2b",
   "metadata": {
    "execution": {
     "iopub.execute_input": "2024-02-18T04:51:36.545005Z",
     "iopub.status.busy": "2024-02-18T04:51:36.544109Z",
     "iopub.status.idle": "2024-02-18T04:51:36.581307Z",
     "shell.execute_reply": "2024-02-18T04:51:36.580108Z"
    },
    "papermill": {
     "duration": 0.049843,
     "end_time": "2024-02-18T04:51:36.583960",
     "exception": false,
     "start_time": "2024-02-18T04:51:36.534117",
     "status": "completed"
    },
    "tags": []
   },
   "outputs": [
    {
     "data": {
      "text/html": [
       "<div>\n",
       "<style scoped>\n",
       "    .dataframe tbody tr th:only-of-type {\n",
       "        vertical-align: middle;\n",
       "    }\n",
       "\n",
       "    .dataframe tbody tr th {\n",
       "        vertical-align: top;\n",
       "    }\n",
       "\n",
       "    .dataframe thead th {\n",
       "        text-align: right;\n",
       "    }\n",
       "</style>\n",
       "<table border=\"1\" class=\"dataframe\">\n",
       "  <thead>\n",
       "    <tr style=\"text-align: right;\">\n",
       "      <th></th>\n",
       "      <th>Diagnosis</th>\n",
       "      <th>Radius (mean)</th>\n",
       "      <th>Texture (mean)</th>\n",
       "      <th>Perimeter (mean)</th>\n",
       "      <th>Area (mean)</th>\n",
       "      <th>Smoothness (mean)</th>\n",
       "      <th>Compactness (mean)</th>\n",
       "      <th>Concavity (mean)</th>\n",
       "      <th>Concave points (mean)</th>\n",
       "      <th>Symmetry (mean)</th>\n",
       "      <th>...</th>\n",
       "      <th>Radius (worst)</th>\n",
       "      <th>Texture (worst)</th>\n",
       "      <th>Perimeter (worst)</th>\n",
       "      <th>Area (worst)</th>\n",
       "      <th>Smoothness (worst)</th>\n",
       "      <th>Compactness (worst)</th>\n",
       "      <th>Concavity (worst)</th>\n",
       "      <th>Concave points (worst)</th>\n",
       "      <th>Symmetry (worst)</th>\n",
       "      <th>Fractal dimension (worst)</th>\n",
       "    </tr>\n",
       "    <tr>\n",
       "      <th>Id</th>\n",
       "      <th></th>\n",
       "      <th></th>\n",
       "      <th></th>\n",
       "      <th></th>\n",
       "      <th></th>\n",
       "      <th></th>\n",
       "      <th></th>\n",
       "      <th></th>\n",
       "      <th></th>\n",
       "      <th></th>\n",
       "      <th></th>\n",
       "      <th></th>\n",
       "      <th></th>\n",
       "      <th></th>\n",
       "      <th></th>\n",
       "      <th></th>\n",
       "      <th></th>\n",
       "      <th></th>\n",
       "      <th></th>\n",
       "      <th></th>\n",
       "      <th></th>\n",
       "    </tr>\n",
       "  </thead>\n",
       "  <tbody>\n",
       "    <tr>\n",
       "      <th>8510426</th>\n",
       "      <td>B</td>\n",
       "      <td>13.540</td>\n",
       "      <td>14.36</td>\n",
       "      <td>87.46</td>\n",
       "      <td>566.3</td>\n",
       "      <td>0.09779</td>\n",
       "      <td>0.08129</td>\n",
       "      <td>0.06664</td>\n",
       "      <td>0.047810</td>\n",
       "      <td>0.1885</td>\n",
       "      <td>...</td>\n",
       "      <td>15.110</td>\n",
       "      <td>19.26</td>\n",
       "      <td>99.70</td>\n",
       "      <td>711.2</td>\n",
       "      <td>0.14400</td>\n",
       "      <td>0.17730</td>\n",
       "      <td>0.23900</td>\n",
       "      <td>0.12880</td>\n",
       "      <td>0.2977</td>\n",
       "      <td>0.07259</td>\n",
       "    </tr>\n",
       "    <tr>\n",
       "      <th>8510653</th>\n",
       "      <td>B</td>\n",
       "      <td>13.080</td>\n",
       "      <td>15.71</td>\n",
       "      <td>85.63</td>\n",
       "      <td>520.0</td>\n",
       "      <td>0.10750</td>\n",
       "      <td>0.12700</td>\n",
       "      <td>0.04568</td>\n",
       "      <td>0.031100</td>\n",
       "      <td>0.1967</td>\n",
       "      <td>...</td>\n",
       "      <td>14.500</td>\n",
       "      <td>20.49</td>\n",
       "      <td>96.09</td>\n",
       "      <td>630.5</td>\n",
       "      <td>0.13120</td>\n",
       "      <td>0.27760</td>\n",
       "      <td>0.18900</td>\n",
       "      <td>0.07283</td>\n",
       "      <td>0.3184</td>\n",
       "      <td>0.08183</td>\n",
       "    </tr>\n",
       "    <tr>\n",
       "      <th>8510824</th>\n",
       "      <td>B</td>\n",
       "      <td>9.504</td>\n",
       "      <td>12.44</td>\n",
       "      <td>60.34</td>\n",
       "      <td>273.9</td>\n",
       "      <td>0.10240</td>\n",
       "      <td>0.06492</td>\n",
       "      <td>0.02956</td>\n",
       "      <td>0.020760</td>\n",
       "      <td>0.1815</td>\n",
       "      <td>...</td>\n",
       "      <td>10.230</td>\n",
       "      <td>15.66</td>\n",
       "      <td>65.13</td>\n",
       "      <td>314.9</td>\n",
       "      <td>0.13240</td>\n",
       "      <td>0.11480</td>\n",
       "      <td>0.08867</td>\n",
       "      <td>0.06227</td>\n",
       "      <td>0.2450</td>\n",
       "      <td>0.07773</td>\n",
       "    </tr>\n",
       "    <tr>\n",
       "      <th>854941</th>\n",
       "      <td>B</td>\n",
       "      <td>13.030</td>\n",
       "      <td>18.42</td>\n",
       "      <td>82.61</td>\n",
       "      <td>523.8</td>\n",
       "      <td>0.08983</td>\n",
       "      <td>0.03766</td>\n",
       "      <td>0.02562</td>\n",
       "      <td>0.029230</td>\n",
       "      <td>0.1467</td>\n",
       "      <td>...</td>\n",
       "      <td>13.300</td>\n",
       "      <td>22.81</td>\n",
       "      <td>84.46</td>\n",
       "      <td>545.9</td>\n",
       "      <td>0.09701</td>\n",
       "      <td>0.04619</td>\n",
       "      <td>0.04833</td>\n",
       "      <td>0.05013</td>\n",
       "      <td>0.1987</td>\n",
       "      <td>0.06169</td>\n",
       "    </tr>\n",
       "    <tr>\n",
       "      <th>85713702</th>\n",
       "      <td>B</td>\n",
       "      <td>8.196</td>\n",
       "      <td>16.84</td>\n",
       "      <td>51.71</td>\n",
       "      <td>201.9</td>\n",
       "      <td>0.08600</td>\n",
       "      <td>0.05943</td>\n",
       "      <td>0.01588</td>\n",
       "      <td>0.005917</td>\n",
       "      <td>0.1769</td>\n",
       "      <td>...</td>\n",
       "      <td>8.964</td>\n",
       "      <td>21.96</td>\n",
       "      <td>57.26</td>\n",
       "      <td>242.2</td>\n",
       "      <td>0.12970</td>\n",
       "      <td>0.13570</td>\n",
       "      <td>0.06880</td>\n",
       "      <td>0.02564</td>\n",
       "      <td>0.3105</td>\n",
       "      <td>0.07409</td>\n",
       "    </tr>\n",
       "  </tbody>\n",
       "</table>\n",
       "<p>5 rows × 31 columns</p>\n",
       "</div>"
      ],
      "text/plain": [
       "         Diagnosis  Radius (mean)  Texture (mean)  Perimeter (mean)  \\\n",
       "Id                                                                    \n",
       "8510426          B         13.540           14.36             87.46   \n",
       "8510653          B         13.080           15.71             85.63   \n",
       "8510824          B          9.504           12.44             60.34   \n",
       "854941           B         13.030           18.42             82.61   \n",
       "85713702         B          8.196           16.84             51.71   \n",
       "\n",
       "          Area (mean)  Smoothness (mean)  Compactness (mean)  \\\n",
       "Id                                                             \n",
       "8510426         566.3            0.09779             0.08129   \n",
       "8510653         520.0            0.10750             0.12700   \n",
       "8510824         273.9            0.10240             0.06492   \n",
       "854941          523.8            0.08983             0.03766   \n",
       "85713702        201.9            0.08600             0.05943   \n",
       "\n",
       "          Concavity (mean)  Concave points (mean)  Symmetry (mean)  ...  \\\n",
       "Id                                                                  ...   \n",
       "8510426            0.06664               0.047810           0.1885  ...   \n",
       "8510653            0.04568               0.031100           0.1967  ...   \n",
       "8510824            0.02956               0.020760           0.1815  ...   \n",
       "854941             0.02562               0.029230           0.1467  ...   \n",
       "85713702           0.01588               0.005917           0.1769  ...   \n",
       "\n",
       "          Radius (worst)  Texture (worst)  Perimeter (worst)  Area (worst)  \\\n",
       "Id                                                                           \n",
       "8510426           15.110            19.26              99.70         711.2   \n",
       "8510653           14.500            20.49              96.09         630.5   \n",
       "8510824           10.230            15.66              65.13         314.9   \n",
       "854941            13.300            22.81              84.46         545.9   \n",
       "85713702           8.964            21.96              57.26         242.2   \n",
       "\n",
       "          Smoothness (worst)  Compactness (worst)  Concavity (worst)  \\\n",
       "Id                                                                     \n",
       "8510426              0.14400              0.17730            0.23900   \n",
       "8510653              0.13120              0.27760            0.18900   \n",
       "8510824              0.13240              0.11480            0.08867   \n",
       "854941               0.09701              0.04619            0.04833   \n",
       "85713702             0.12970              0.13570            0.06880   \n",
       "\n",
       "          Concave points (worst)  Symmetry (worst)  Fractal dimension (worst)  \n",
       "Id                                                                             \n",
       "8510426                  0.12880            0.2977                    0.07259  \n",
       "8510653                  0.07283            0.3184                    0.08183  \n",
       "8510824                  0.06227            0.2450                    0.07773  \n",
       "854941                   0.05013            0.1987                    0.06169  \n",
       "85713702                 0.02564            0.3105                    0.07409  \n",
       "\n",
       "[5 rows x 31 columns]"
      ]
     },
     "execution_count": 4,
     "metadata": {},
     "output_type": "execute_result"
    }
   ],
   "source": [
    "# Print the first five rows of the data\n",
    "temp = cancer_data.head()\n",
    "temp"
   ]
  },
  {
   "cell_type": "markdown",
   "id": "5763c613",
   "metadata": {
    "papermill": {
     "duration": 0.009358,
     "end_time": "2024-02-18T04:51:36.603111",
     "exception": false,
     "start_time": "2024-02-18T04:51:36.593753",
     "status": "completed"
    },
    "tags": []
   },
   "source": [
    "In the dataset, each row corresponds to a different image.  The dataset has 31 different columns, corresponding to:\n",
    "- 1 column (`'Diagnosis'`) that classifies tumors as either benign (which appears in the dataset as **`B`**) or malignant (__`M`__), and\n",
    "- 30 columns containing different measurements collected from the images.\n",
    "\n",
    "Use the first 5 rows of the data to answer the questions below."
   ]
  },
  {
   "cell_type": "markdown",
   "id": "3f3adaaf",
   "metadata": {
    "papermill": {
     "duration": 0.008699,
     "end_time": "2024-02-18T04:51:36.621916",
     "exception": false,
     "start_time": "2024-02-18T04:51:36.613217",
     "status": "completed"
    },
    "tags": []
   },
   "source": [
    "### Solving the **Questions**"
   ]
  },
  {
   "cell_type": "code",
   "execution_count": 5,
   "id": "582a3827",
   "metadata": {
    "execution": {
     "iopub.execute_input": "2024-02-18T04:51:36.641744Z",
     "iopub.status.busy": "2024-02-18T04:51:36.641372Z",
     "iopub.status.idle": "2024-02-18T04:51:36.653192Z",
     "shell.execute_reply": "2024-02-18T04:51:36.651919Z"
    },
    "papermill": {
     "duration": 0.02456,
     "end_time": "2024-02-18T04:51:36.655575",
     "exception": false,
     "start_time": "2024-02-18T04:51:36.631015",
     "status": "completed"
    },
    "tags": []
   },
   "outputs": [
    {
     "data": {
      "text/plain": [
       "9.504"
      ]
     },
     "execution_count": 5,
     "metadata": {},
     "output_type": "execute_result"
    }
   ],
   "source": [
    "# Q.1\n",
    "temp.loc[temp['Perimeter (mean)'] == temp['Perimeter (mean)'].max()].index[0]\n",
    "\n",
    "# Q.2\n",
    "temp.loc[8510824]['Radius (mean)']"
   ]
  },
  {
   "cell_type": "code",
   "execution_count": 6,
   "id": "c0fd7b5d",
   "metadata": {
    "execution": {
     "iopub.execute_input": "2024-02-18T04:51:36.676214Z",
     "iopub.status.busy": "2024-02-18T04:51:36.675508Z",
     "iopub.status.idle": "2024-02-18T04:51:36.685569Z",
     "shell.execute_reply": "2024-02-18T04:51:36.684797Z"
    },
    "papermill": {
     "duration": 0.022646,
     "end_time": "2024-02-18T04:51:36.687452",
     "exception": false,
     "start_time": "2024-02-18T04:51:36.664806",
     "status": "completed"
    },
    "tags": []
   },
   "outputs": [
    {
     "data": {
      "application/javascript": [
       "parent.postMessage({\"jupyterEvent\": \"custom.exercise_interaction\", \"data\": {\"outcomeType\": 1, \"valueTowardsCompletion\": 0.5, \"interactionType\": 1, \"questionType\": 1, \"questionId\": \"2_ReviewData\", \"learnToolsVersion\": \"0.3.4\", \"failureMessage\": \"\", \"exceptionClass\": \"\", \"trace\": \"\"}}, \"*\")"
      ],
      "text/plain": [
       "<IPython.core.display.Javascript object>"
      ]
     },
     "metadata": {},
     "output_type": "display_data"
    },
    {
     "data": {
      "text/markdown": [
       "<span style=\"color:#33cc33\">Correct</span>"
      ],
      "text/plain": [
       "Correct"
      ]
     },
     "metadata": {},
     "output_type": "display_data"
    }
   ],
   "source": [
    "# Fill in the line below: In the first five rows of the data, what is the\n",
    "# largest value for 'Perimeter (mean)'?\n",
    "max_perim = temp['Perimeter (mean)'].max()\n",
    "\n",
    "# Fill in the line below: What is the value for 'Radius (mean)' for the tumor with Id 8510824?\n",
    "mean_radius = temp.loc[8510824]['Radius (mean)']\n",
    "\n",
    "# Check your answers\n",
    "step_2.check()"
   ]
  },
  {
   "cell_type": "markdown",
   "id": "cffe28cd",
   "metadata": {
    "papermill": {
     "duration": 0.009176,
     "end_time": "2024-02-18T04:51:36.706382",
     "exception": false,
     "start_time": "2024-02-18T04:51:36.697206",
     "status": "completed"
    },
    "tags": []
   },
   "source": [
    "## Step 3: Investigating differences"
   ]
  },
  {
   "cell_type": "markdown",
   "id": "0c7469a0",
   "metadata": {
    "papermill": {
     "duration": 0.009194,
     "end_time": "2024-02-18T04:51:36.724966",
     "exception": false,
     "start_time": "2024-02-18T04:51:36.715772",
     "status": "completed"
    },
    "tags": []
   },
   "source": [
    "#### Part A\n",
    "\n",
    "Use the code cell below to create two histograms that show the distribution in values for `'Area (mean)'`, separately for both benign and malignant tumors.  (_To permit easy comparison, create a single figure containing both histograms in the code cell below._)"
   ]
  },
  {
   "cell_type": "code",
   "execution_count": 7,
   "id": "4bec0e69",
   "metadata": {
    "execution": {
     "iopub.execute_input": "2024-02-18T04:51:36.746173Z",
     "iopub.status.busy": "2024-02-18T04:51:36.745468Z",
     "iopub.status.idle": "2024-02-18T04:51:37.231213Z",
     "shell.execute_reply": "2024-02-18T04:51:37.229913Z"
    },
    "papermill": {
     "duration": 0.499248,
     "end_time": "2024-02-18T04:51:37.233731",
     "exception": false,
     "start_time": "2024-02-18T04:51:36.734483",
     "status": "completed"
    },
    "tags": []
   },
   "outputs": [
    {
     "name": "stderr",
     "output_type": "stream",
     "text": [
      "/opt/conda/lib/python3.10/site-packages/seaborn/_oldcore.py:1119: FutureWarning: use_inf_as_na option is deprecated and will be removed in a future version. Convert inf values to NaN before operating instead.\n",
      "  with pd.option_context('mode.use_inf_as_na', True):\n",
      "/opt/conda/lib/python3.10/site-packages/seaborn/_oldcore.py:1075: FutureWarning: When grouping with a length-1 list-like, you will need to pass a length-1 tuple to get_group in a future version of pandas. Pass `(name,)` instead of `name` to silence this warning.\n",
      "  data_subset = grouped_data.get_group(pd_key)\n",
      "/opt/conda/lib/python3.10/site-packages/seaborn/_oldcore.py:1075: FutureWarning: When grouping with a length-1 list-like, you will need to pass a length-1 tuple to get_group in a future version of pandas. Pass `(name,)` instead of `name` to silence this warning.\n",
      "  data_subset = grouped_data.get_group(pd_key)\n",
      "/opt/conda/lib/python3.10/site-packages/seaborn/_oldcore.py:1075: FutureWarning: When grouping with a length-1 list-like, you will need to pass a length-1 tuple to get_group in a future version of pandas. Pass `(name,)` instead of `name` to silence this warning.\n",
      "  data_subset = grouped_data.get_group(pd_key)\n"
     ]
    },
    {
     "data": {
      "application/javascript": [
       "parent.postMessage({\"jupyterEvent\": \"custom.exercise_interaction\", \"data\": {\"outcomeType\": 1, \"valueTowardsCompletion\": 0.5, \"interactionType\": 1, \"questionType\": 2, \"questionId\": \"3.1_PlotHist\", \"learnToolsVersion\": \"0.3.4\", \"failureMessage\": \"\", \"exceptionClass\": \"\", \"trace\": \"\"}}, \"*\")"
      ],
      "text/plain": [
       "<IPython.core.display.Javascript object>"
      ]
     },
     "metadata": {},
     "output_type": "display_data"
    },
    {
     "data": {
      "text/markdown": [
       "<span style=\"color:#33cc33\">Correct</span>"
      ],
      "text/plain": [
       "Correct"
      ]
     },
     "metadata": {},
     "output_type": "display_data"
    },
    {
     "data": {
      "image/png": "[encoded data removed]",
      "text/plain": [
       "<Figure size 800x600 with 1 Axes>"
      ]
     },
     "metadata": {},
     "output_type": "display_data"
    }
   ],
   "source": [
    "plt.figure(figsize=(8, 6))\n",
    "\n",
    "sns.histplot(data=cancer_data, x='Area (mean)', hue='Diagnosis')\n",
    "\n",
    "plt.title('Mean area of tumors')\n",
    "plt.ylabel('Count')\n",
    "plt.legend(title='Diagnosis', loc='upper right', labels=['Benign', 'Malignant'])\n",
    "\n",
    "# Check your answer\n",
    "step_3.a.check()\n",
    "\n",
    "plt.show()"
   ]
  },
  {
   "cell_type": "markdown",
   "id": "aa051c8b",
   "metadata": {
    "papermill": {
     "duration": 0.010269,
     "end_time": "2024-02-18T04:51:37.254404",
     "exception": false,
     "start_time": "2024-02-18T04:51:37.244135",
     "status": "completed"
    },
    "tags": []
   },
   "source": [
    "#### Part B\n",
    "\n",
    "A researcher approaches you for help with identifying how the `'Area (mean)'` column can be used to understand the difference between benign and malignant tumors.  Based on the histograms above, \n",
    "1. ##### Do malignant tumors have higher or lower values for `'Area (mean)'` (relative to benign tumors), on average?\n",
    "2. ##### Which tumor type seems to have a larger range of potential values?"
   ]
  },
  {
   "cell_type": "markdown",
   "id": "b4ad28ec",
   "metadata": {
    "papermill": {
     "duration": 0.009804,
     "end_time": "2024-02-18T04:51:37.274750",
     "exception": false,
     "start_time": "2024-02-18T04:51:37.264946",
     "status": "completed"
    },
    "tags": []
   },
   "source": [
    "### `Q.1` solution"
   ]
  },
  {
   "cell_type": "code",
   "execution_count": 8,
   "id": "c9c71a8c",
   "metadata": {
    "execution": {
     "iopub.execute_input": "2024-02-18T04:51:37.297721Z",
     "iopub.status.busy": "2024-02-18T04:51:37.296584Z",
     "iopub.status.idle": "2024-02-18T04:51:37.305703Z",
     "shell.execute_reply": "2024-02-18T04:51:37.304448Z"
    },
    "papermill": {
     "duration": 0.023155,
     "end_time": "2024-02-18T04:51:37.308108",
     "exception": false,
     "start_time": "2024-02-18T04:51:37.284953",
     "status": "completed"
    },
    "tags": []
   },
   "outputs": [
    {
     "name": "stdout",
     "output_type": "stream",
     "text": [
      "Malignant tumors have HIGHER values and Benign tumors have LOWER values of mean Area.\n"
     ]
    }
   ],
   "source": [
    "benign_mean_area = cancer_data[cancer_data['Diagnosis'] == 'B']['Area (mean)'].mean()\n",
    "malignant_mean_area = cancer_data[cancer_data['Diagnosis'] == 'M']['Area (mean)'].mean()\n",
    "\n",
    "print('Benign tumors have HIGHER values and Malignant tumors have LOWER values of mean Area.') if benign_mean_area > malignant_mean_area \\\n",
    "else print('Malignant tumors have HIGHER values and Benign tumors have LOWER values of mean Area.')"
   ]
  },
  {
   "cell_type": "markdown",
   "id": "23c4a62f",
   "metadata": {
    "papermill": {
     "duration": 0.01017,
     "end_time": "2024-02-18T04:51:37.328683",
     "exception": false,
     "start_time": "2024-02-18T04:51:37.318513",
     "status": "completed"
    },
    "tags": []
   },
   "source": [
    "### `Q.2` solution"
   ]
  },
  {
   "cell_type": "code",
   "execution_count": 9,
   "id": "adf2e547",
   "metadata": {
    "execution": {
     "iopub.execute_input": "2024-02-18T04:51:37.351783Z",
     "iopub.status.busy": "2024-02-18T04:51:37.350978Z",
     "iopub.status.idle": "2024-02-18T04:51:37.365914Z",
     "shell.execute_reply": "2024-02-18T04:51:37.364740Z"
    },
    "papermill": {
     "duration": 0.029152,
     "end_time": "2024-02-18T04:51:37.368318",
     "exception": false,
     "start_time": "2024-02-18T04:51:37.339166",
     "status": "completed"
    },
    "tags": []
   },
   "outputs": [
    {
     "name": "stdout",
     "output_type": "stream",
     "text": [
      "Malignant tumors have a larger range of potential values.\n"
     ]
    }
   ],
   "source": [
    "max_values = cancer_data.groupby('Diagnosis')['Area (mean)'].max()\n",
    "min_values = cancer_data.groupby('Diagnosis')['Area (mean)'].min()\n",
    "\n",
    "range_of_values = max_values - min_values\n",
    "\n",
    "print('Malignant tumors have a larger range of potential values.') if range_of_values[range_of_values == range_of_values.max()].index[0] == 'M' \\\n",
    "else print('Benign tumors have a larger range of potential values.')"
   ]
  },
  {
   "cell_type": "markdown",
   "id": "0311c034",
   "metadata": {
    "papermill": {
     "duration": 0.010203,
     "end_time": "2024-02-18T04:51:37.389150",
     "exception": false,
     "start_time": "2024-02-18T04:51:37.378947",
     "status": "completed"
    },
    "tags": []
   },
   "source": [
    "## Step 4: A very useful column\n",
    "\n",
    "#### Part A\n",
    "\n",
    "Use the code cell below to create two KDE plots that show the distribution in values for `'Radius (worst)'`, separately for both benign and malignant tumors.  (_To permit easy comparison, create a single figure containing both KDE plots in the code cell below._)"
   ]
  },
  {
   "cell_type": "code",
   "execution_count": 10,
   "id": "9466b5ca",
   "metadata": {
    "execution": {
     "iopub.execute_input": "2024-02-18T04:51:37.412775Z",
     "iopub.status.busy": "2024-02-18T04:51:37.411708Z",
     "iopub.status.idle": "2024-02-18T04:51:37.812967Z",
     "shell.execute_reply": "2024-02-18T04:51:37.811564Z"
    },
    "papermill": {
     "duration": 0.415894,
     "end_time": "2024-02-18T04:51:37.815664",
     "exception": false,
     "start_time": "2024-02-18T04:51:37.399770",
     "status": "completed"
    },
    "tags": []
   },
   "outputs": [
    {
     "name": "stderr",
     "output_type": "stream",
     "text": [
      "/opt/conda/lib/python3.10/site-packages/seaborn/_oldcore.py:1119: FutureWarning: use_inf_as_na option is deprecated and will be removed in a future version. Convert inf values to NaN before operating instead.\n",
      "  with pd.option_context('mode.use_inf_as_na', True):\n",
      "/opt/conda/lib/python3.10/site-packages/seaborn/_oldcore.py:1075: FutureWarning: When grouping with a length-1 list-like, you will need to pass a length-1 tuple to get_group in a future version of pandas. Pass `(name,)` instead of `name` to silence this warning.\n",
      "  data_subset = grouped_data.get_group(pd_key)\n",
      "/opt/conda/lib/python3.10/site-packages/seaborn/_oldcore.py:1075: FutureWarning: When grouping with a length-1 list-like, you will need to pass a length-1 tuple to get_group in a future version of pandas. Pass `(name,)` instead of `name` to silence this warning.\n",
      "  data_subset = grouped_data.get_group(pd_key)\n",
      "/opt/conda/lib/python3.10/site-packages/seaborn/_oldcore.py:1075: FutureWarning: When grouping with a length-1 list-like, you will need to pass a length-1 tuple to get_group in a future version of pandas. Pass `(name,)` instead of `name` to silence this warning.\n",
      "  data_subset = grouped_data.get_group(pd_key)\n"
     ]
    },
    {
     "data": {
      "application/javascript": [
       "parent.postMessage({\"jupyterEvent\": \"custom.exercise_interaction\", \"data\": {\"outcomeType\": 1, \"valueTowardsCompletion\": 0.5, \"interactionType\": 1, \"questionType\": 2, \"questionId\": \"4.1_PlotThreshold\", \"learnToolsVersion\": \"0.3.4\", \"failureMessage\": \"\", \"exceptionClass\": \"\", \"trace\": \"\"}}, \"*\")"
      ],
      "text/plain": [
       "<IPython.core.display.Javascript object>"
      ]
     },
     "metadata": {},
     "output_type": "display_data"
    },
    {
     "data": {
      "text/markdown": [
       "<span style=\"color:#33cc33\">Correct</span>"
      ],
      "text/plain": [
       "Correct"
      ]
     },
     "metadata": {},
     "output_type": "display_data"
    },
    {
     "data": {
      "image/png": "[encoded data removed]",
      "text/plain": [
       "<Figure size 800x600 with 1 Axes>"
      ]
     },
     "metadata": {},
     "output_type": "display_data"
    }
   ],
   "source": [
    "plt.figure(figsize=(8, 6))\n",
    "\n",
    "sns.kdeplot(data=cancer_data, x='Radius (worst)', hue='Diagnosis', fill=True)\n",
    "\n",
    "plt.title('Worst radii of benign and malignant tumors')\n",
    "plt.xlabel('Radius (worst)')\n",
    "plt.ylabel('Density')\n",
    "plt.legend(title='Diagnosis', loc='upper right', labels=['Benign', 'Malignant'])\n",
    "\n",
    "# Check your answer\n",
    "step_4.a.check()\n",
    "\n",
    "plt.show()"
   ]
  },
  {
   "cell_type": "markdown",
   "id": "f84e4046",
   "metadata": {
    "papermill": {
     "duration": 0.012034,
     "end_time": "2024-02-18T04:51:37.840150",
     "exception": false,
     "start_time": "2024-02-18T04:51:37.828116",
     "status": "completed"
    },
    "tags": []
   },
   "source": [
    "#### Part B\n",
    "\n",
    "A hospital has recently started using an algorithm that can diagnose tumors with high accuracy.  Given a tumor with a value for `'Radius (worst)'` of 25, do you think the algorithm is more likely to classify the tumor as benign or malignant?"
   ]
  },
  {
   "cell_type": "code",
   "execution_count": 11,
   "id": "5bf29b5a",
   "metadata": {
    "execution": {
     "iopub.execute_input": "2024-02-18T04:51:37.866651Z",
     "iopub.status.busy": "2024-02-18T04:51:37.865814Z",
     "iopub.status.idle": "2024-02-18T04:51:37.877073Z",
     "shell.execute_reply": "2024-02-18T04:51:37.875928Z"
    },
    "papermill": {
     "duration": 0.027269,
     "end_time": "2024-02-18T04:51:37.879536",
     "exception": false,
     "start_time": "2024-02-18T04:51:37.852267",
     "status": "completed"
    },
    "tags": []
   },
   "outputs": [
    {
     "name": "stdout",
     "output_type": "stream",
     "text": [
      "Classification : MALIGNANT\n"
     ]
    }
   ],
   "source": [
    "m_df = cancer_data[cancer_data['Diagnosis'] == 'M']\n",
    "b_df = cancer_data[cancer_data['Diagnosis'] == 'B']\n",
    "\n",
    "radius = 25\n",
    "\n",
    "m_likelihood = m_df[m_df['Radius (worst)'] >= radius].shape[0]/m_df.shape[0]\n",
    "b_likelihood = b_df[b_df['Radius (worst)'] >= radius].shape[0]/b_df.shape[0]\n",
    "\n",
    "print(\"Classification : MALIGNANT\") if m_likelihood > b_likelihood else print(\"Classification : BENIGN\")"
   ]
  },
  {
   "cell_type": "markdown",
   "id": "ff00425d",
   "metadata": {
    "papermill": {
     "duration": 0.012144,
     "end_time": "2024-02-18T04:51:37.903658",
     "exception": false,
     "start_time": "2024-02-18T04:51:37.891514",
     "status": "completed"
    },
    "tags": []
   },
   "source": [
    "## Keep going\n",
    "\n",
    "Review all that you've learned and explore how to further customize your plots in the **[next tutorial](https://www.kaggle.com/alexisbcook/choosing-plot-types-and-custom-styles)**!"
   ]
  },
  {
   "cell_type": "markdown",
   "id": "d0c35dd5",
   "metadata": {
    "papermill": {
     "duration": 0.012069,
     "end_time": "2024-02-18T04:51:37.927756",
     "exception": false,
     "start_time": "2024-02-18T04:51:37.915687",
     "status": "completed"
    },
    "tags": []
   },
   "source": [
    "---\n",
    "\n",
    "\n",
    "\n",
    "\n",
    "*Have questions or comments? Visit the [course discussion forum](https://www.kaggle.com/learn/data-visualization/discussion) to chat with other learners.*"
   ]
  }
 ],
 "metadata": {
  "kaggle": {
   "accelerator": "none",
   "dataSources": [
    {
     "datasetId": 116573,
     "sourceId": 3551030,
     "sourceType": "datasetVersion"
    }
   ],
   "isGpuEnabled": false,
   "isInternetEnabled": false,
   "language": "python",
   "sourceType": "notebook"
  },
  "kernelspec": {
   "display_name": "Python 3",
   "language": "python",
   "name": "python3"
  },
  "language_info": {
   "codemirror_mode": {
    "name": "ipython",
    "version": 3
   },
   "file_extension": ".py",
   "mimetype": "text/x-python",
   "name": "python",
   "nbconvert_exporter": "python",
   "pygments_lexer": "ipython3",
   "version": "3.10.13"
  },
  "papermill": {
   "default_parameters": {},
   "duration": 7.850448,
   "end_time": "2024-02-18T04:51:38.561873",
   "environment_variables": {},
   "exception": null,
   "input_path": "__notebook__.ipynb",
   "output_path": "__notebook__.ipynb",
   "parameters": {},
   "start_time": "2024-02-18T04:51:30.711425",
   "version": "2.5.0"
  }
 },
 "nbformat": 4,
 "nbformat_minor": 5
}
