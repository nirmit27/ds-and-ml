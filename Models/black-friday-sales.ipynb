{
 "cells": [
  {
   "cell_type": "code",
   "execution_count": 1,
   "id": "f1bf3c8c",
   "metadata": {
    "_cell_guid": "b1076dfc-b9ad-4769-8c92-a6c4dae69d19",
    "_uuid": "8f2839f25d086af736a60e9eeb907d3b93b6e0e5",
    "execution": {
     "iopub.execute_input": "2024-05-25T04:50:47.302385Z",
     "iopub.status.busy": "2024-05-25T04:50:47.301387Z",
     "iopub.status.idle": "2024-05-25T04:50:49.656813Z",
     "shell.execute_reply": "2024-05-25T04:50:49.655776Z"
    },
    "papermill": {
     "duration": 2.367226,
     "end_time": "2024-05-25T04:50:49.659544",
     "exception": false,
     "start_time": "2024-05-25T04:50:47.292318",
     "status": "completed"
    },
    "tags": []
   },
   "outputs": [],
   "source": [
    "import os\n",
    "\n",
    "import numpy as np\n",
    "import pandas as pd\n",
    "\n",
    "import seaborn as sns\n",
    "import matplotlib.pyplot as plt\n",
    "%matplotlib inline\n",
    "\n",
    "# "
   ]
  },
  {
   "cell_type": "markdown",
   "id": "f2e66f84",
   "metadata": {
    "papermill": {
     "duration": 0.00658,
     "end_time": "2024-05-25T04:50:49.673406",
     "exception": false,
     "start_time": "2024-05-25T04:50:49.666826",
     "status": "completed"
    },
    "tags": []
   },
   "source": [
    "# Problem Statement\n",
    "\n",
    "A retail company “ABC Private Limited” wants to understand the **customer purchase behaviour** (specifically, **purchase amount**) against various products of different categories. They have shared purchase summary of various customers for selected high volume products from last month. The data set also contains customer demographics (age, gender, marital status, city_type, stay_in_current_city), product details (product_id and product category) and Total purchase_amount from last month.\n",
    "\n",
    "Now, **they want to build a model to predict the purchase amount of customer against various products** which will help them to create personalized offer for customers against different products."
   ]
  },
  {
   "cell_type": "markdown",
   "id": "50223db1",
   "metadata": {
    "papermill": {
     "duration": 0.006588,
     "end_time": "2024-05-25T04:50:49.686917",
     "exception": false,
     "start_time": "2024-05-25T04:50:49.680329",
     "status": "completed"
    },
    "tags": []
   },
   "source": [
    "### Importing the datasets"
   ]
  },
  {
   "cell_type": "code",
   "execution_count": 2,
   "id": "c2aabc69",
   "metadata": {
    "execution": {
     "iopub.execute_input": "2024-05-25T04:50:49.702369Z",
     "iopub.status.busy": "2024-05-25T04:50:49.701862Z",
     "iopub.status.idle": "2024-05-25T04:50:49.717932Z",
     "shell.execute_reply": "2024-05-25T04:50:49.716784Z"
    },
    "papermill": {
     "duration": 0.026307,
     "end_time": "2024-05-25T04:50:49.720123",
     "exception": false,
     "start_time": "2024-05-25T04:50:49.693816",
     "status": "completed"
    },
    "tags": []
   },
   "outputs": [
    {
     "data": {
      "text/plain": [
       "['/kaggle/input/black-friday/train.csv', '/kaggle/input/black-friday/test.csv']"
      ]
     },
     "execution_count": 2,
     "metadata": {},
     "output_type": "execute_result"
    }
   ],
   "source": [
    "paths: list[str] = []\n",
    "\n",
    "for dirname, _, filenames in os.walk('/kaggle/input'):\n",
    "    for filename in filenames:\n",
    "        if filename.endswith(\".csv\"):\n",
    "            paths.append(os.path.join(dirname, filename))\n",
    "\n",
    "paths"
   ]
  },
  {
   "cell_type": "code",
   "execution_count": 3,
   "id": "908bd702",
   "metadata": {
    "execution": {
     "iopub.execute_input": "2024-05-25T04:50:49.736130Z",
     "iopub.status.busy": "2024-05-25T04:50:49.735727Z",
     "iopub.status.idle": "2024-05-25T04:50:51.082099Z",
     "shell.execute_reply": "2024-05-25T04:50:51.080955Z"
    },
    "papermill": {
     "duration": 1.357438,
     "end_time": "2024-05-25T04:50:51.084835",
     "exception": false,
     "start_time": "2024-05-25T04:50:49.727397",
     "status": "completed"
    },
    "tags": []
   },
   "outputs": [],
   "source": [
    "df_train = pd.read_csv(paths[0])\n",
    "df_test = pd.read_csv(paths[1])"
   ]
  },
  {
   "cell_type": "markdown",
   "id": "e903bc23",
   "metadata": {
    "papermill": {
     "duration": 0.006852,
     "end_time": "2024-05-25T04:50:51.099248",
     "exception": false,
     "start_time": "2024-05-25T04:50:51.092396",
     "status": "completed"
    },
    "tags": []
   },
   "source": [
    "## Preprocessing and Cleaning"
   ]
  },
  {
   "cell_type": "markdown",
   "id": "e6a57c0c",
   "metadata": {
    "papermill": {
     "duration": 0.006789,
     "end_time": "2024-05-25T04:50:51.114966",
     "exception": false,
     "start_time": "2024-05-25T04:50:51.108177",
     "status": "completed"
    },
    "tags": []
   },
   "source": [
    "### Training dataset"
   ]
  },
  {
   "cell_type": "code",
   "execution_count": 4,
   "id": "4590f77b",
   "metadata": {
    "execution": {
     "iopub.execute_input": "2024-05-25T04:50:51.130771Z",
     "iopub.status.busy": "2024-05-25T04:50:51.130369Z",
     "iopub.status.idle": "2024-05-25T04:50:51.157671Z",
     "shell.execute_reply": "2024-05-25T04:50:51.156538Z"
    },
    "papermill": {
     "duration": 0.037922,
     "end_time": "2024-05-25T04:50:51.159881",
     "exception": false,
     "start_time": "2024-05-25T04:50:51.121959",
     "status": "completed"
    },
    "tags": []
   },
   "outputs": [
    {
     "data": {
      "text/html": [
       "<div>\n",
       "<style scoped>\n",
       "    .dataframe tbody tr th:only-of-type {\n",
       "        vertical-align: middle;\n",
       "    }\n",
       "\n",
       "    .dataframe tbody tr th {\n",
       "        vertical-align: top;\n",
       "    }\n",
       "\n",
       "    .dataframe thead th {\n",
       "        text-align: right;\n",
       "    }\n",
       "</style>\n",
       "<table border=\"1\" class=\"dataframe\">\n",
       "  <thead>\n",
       "    <tr style=\"text-align: right;\">\n",
       "      <th></th>\n",
       "      <th>User_ID</th>\n",
       "      <th>Product_ID</th>\n",
       "      <th>Gender</th>\n",
       "      <th>Age</th>\n",
       "      <th>Occupation</th>\n",
       "      <th>City_Category</th>\n",
       "      <th>Stay_In_Current_City_Years</th>\n",
       "      <th>Marital_Status</th>\n",
       "      <th>Product_Category_1</th>\n",
       "      <th>Product_Category_2</th>\n",
       "      <th>Product_Category_3</th>\n",
       "      <th>Purchase</th>\n",
       "    </tr>\n",
       "  </thead>\n",
       "  <tbody>\n",
       "    <tr>\n",
       "      <th>0</th>\n",
       "      <td>1000001</td>\n",
       "      <td>P00069042</td>\n",
       "      <td>F</td>\n",
       "      <td>0-17</td>\n",
       "      <td>10</td>\n",
       "      <td>A</td>\n",
       "      <td>2</td>\n",
       "      <td>0</td>\n",
       "      <td>3</td>\n",
       "      <td>NaN</td>\n",
       "      <td>NaN</td>\n",
       "      <td>8370</td>\n",
       "    </tr>\n",
       "    <tr>\n",
       "      <th>1</th>\n",
       "      <td>1000001</td>\n",
       "      <td>P00248942</td>\n",
       "      <td>F</td>\n",
       "      <td>0-17</td>\n",
       "      <td>10</td>\n",
       "      <td>A</td>\n",
       "      <td>2</td>\n",
       "      <td>0</td>\n",
       "      <td>1</td>\n",
       "      <td>6.0</td>\n",
       "      <td>14.0</td>\n",
       "      <td>15200</td>\n",
       "    </tr>\n",
       "    <tr>\n",
       "      <th>2</th>\n",
       "      <td>1000001</td>\n",
       "      <td>P00087842</td>\n",
       "      <td>F</td>\n",
       "      <td>0-17</td>\n",
       "      <td>10</td>\n",
       "      <td>A</td>\n",
       "      <td>2</td>\n",
       "      <td>0</td>\n",
       "      <td>12</td>\n",
       "      <td>NaN</td>\n",
       "      <td>NaN</td>\n",
       "      <td>1422</td>\n",
       "    </tr>\n",
       "    <tr>\n",
       "      <th>3</th>\n",
       "      <td>1000001</td>\n",
       "      <td>P00085442</td>\n",
       "      <td>F</td>\n",
       "      <td>0-17</td>\n",
       "      <td>10</td>\n",
       "      <td>A</td>\n",
       "      <td>2</td>\n",
       "      <td>0</td>\n",
       "      <td>12</td>\n",
       "      <td>14.0</td>\n",
       "      <td>NaN</td>\n",
       "      <td>1057</td>\n",
       "    </tr>\n",
       "    <tr>\n",
       "      <th>4</th>\n",
       "      <td>1000002</td>\n",
       "      <td>P00285442</td>\n",
       "      <td>M</td>\n",
       "      <td>55+</td>\n",
       "      <td>16</td>\n",
       "      <td>C</td>\n",
       "      <td>4+</td>\n",
       "      <td>0</td>\n",
       "      <td>8</td>\n",
       "      <td>NaN</td>\n",
       "      <td>NaN</td>\n",
       "      <td>7969</td>\n",
       "    </tr>\n",
       "  </tbody>\n",
       "</table>\n",
       "</div>"
      ],
      "text/plain": [
       "   User_ID Product_ID Gender   Age  Occupation City_Category  \\\n",
       "0  1000001  P00069042      F  0-17          10             A   \n",
       "1  1000001  P00248942      F  0-17          10             A   \n",
       "2  1000001  P00087842      F  0-17          10             A   \n",
       "3  1000001  P00085442      F  0-17          10             A   \n",
       "4  1000002  P00285442      M   55+          16             C   \n",
       "\n",
       "  Stay_In_Current_City_Years  Marital_Status  Product_Category_1  \\\n",
       "0                          2               0                   3   \n",
       "1                          2               0                   1   \n",
       "2                          2               0                  12   \n",
       "3                          2               0                  12   \n",
       "4                         4+               0                   8   \n",
       "\n",
       "   Product_Category_2  Product_Category_3  Purchase  \n",
       "0                 NaN                 NaN      8370  \n",
       "1                 6.0                14.0     15200  \n",
       "2                 NaN                 NaN      1422  \n",
       "3                14.0                 NaN      1057  \n",
       "4                 NaN                 NaN      7969  "
      ]
     },
     "execution_count": 4,
     "metadata": {},
     "output_type": "execute_result"
    }
   ],
   "source": [
    "df_train.head()"
   ]
  },
  {
   "cell_type": "code",
   "execution_count": 5,
   "id": "030df4a9",
   "metadata": {
    "execution": {
     "iopub.execute_input": "2024-05-25T04:50:51.176151Z",
     "iopub.status.busy": "2024-05-25T04:50:51.175764Z",
     "iopub.status.idle": "2024-05-25T04:50:51.328998Z",
     "shell.execute_reply": "2024-05-25T04:50:51.327915Z"
    },
    "papermill": {
     "duration": 0.1642,
     "end_time": "2024-05-25T04:50:51.331491",
     "exception": false,
     "start_time": "2024-05-25T04:50:51.167291",
     "status": "completed"
    },
    "tags": []
   },
   "outputs": [
    {
     "name": "stdout",
     "output_type": "stream",
     "text": [
      "<class 'pandas.core.frame.DataFrame'>\n",
      "RangeIndex: 550068 entries, 0 to 550067\n",
      "Data columns (total 12 columns):\n",
      " #   Column                      Non-Null Count   Dtype  \n",
      "---  ------                      --------------   -----  \n",
      " 0   User_ID                     550068 non-null  int64  \n",
      " 1   Product_ID                  550068 non-null  object \n",
      " 2   Gender                      550068 non-null  object \n",
      " 3   Age                         550068 non-null  object \n",
      " 4   Occupation                  550068 non-null  int64  \n",
      " 5   City_Category               550068 non-null  object \n",
      " 6   Stay_In_Current_City_Years  550068 non-null  object \n",
      " 7   Marital_Status              550068 non-null  int64  \n",
      " 8   Product_Category_1          550068 non-null  int64  \n",
      " 9   Product_Category_2          376430 non-null  float64\n",
      " 10  Product_Category_3          166821 non-null  float64\n",
      " 11  Purchase                    550068 non-null  int64  \n",
      "dtypes: float64(2), int64(5), object(5)\n",
      "memory usage: 50.4+ MB\n"
     ]
    }
   ],
   "source": [
    "df_train.info()"
   ]
  },
  {
   "cell_type": "markdown",
   "id": "b3c3e421",
   "metadata": {
    "papermill": {
     "duration": 0.007269,
     "end_time": "2024-05-25T04:50:51.346750",
     "exception": false,
     "start_time": "2024-05-25T04:50:51.339481",
     "status": "completed"
    },
    "tags": []
   },
   "source": [
    "### Testing dataset"
   ]
  },
  {
   "cell_type": "code",
   "execution_count": 6,
   "id": "5a9e9909",
   "metadata": {
    "execution": {
     "iopub.execute_input": "2024-05-25T04:50:51.363923Z",
     "iopub.status.busy": "2024-05-25T04:50:51.363104Z",
     "iopub.status.idle": "2024-05-25T04:50:51.379455Z",
     "shell.execute_reply": "2024-05-25T04:50:51.378241Z"
    },
    "papermill": {
     "duration": 0.027525,
     "end_time": "2024-05-25T04:50:51.381837",
     "exception": false,
     "start_time": "2024-05-25T04:50:51.354312",
     "status": "completed"
    },
    "tags": []
   },
   "outputs": [
    {
     "data": {
      "text/html": [
       "<div>\n",
       "<style scoped>\n",
       "    .dataframe tbody tr th:only-of-type {\n",
       "        vertical-align: middle;\n",
       "    }\n",
       "\n",
       "    .dataframe tbody tr th {\n",
       "        vertical-align: top;\n",
       "    }\n",
       "\n",
       "    .dataframe thead th {\n",
       "        text-align: right;\n",
       "    }\n",
       "</style>\n",
       "<table border=\"1\" class=\"dataframe\">\n",
       "  <thead>\n",
       "    <tr style=\"text-align: right;\">\n",
       "      <th></th>\n",
       "      <th>User_ID</th>\n",
       "      <th>Product_ID</th>\n",
       "      <th>Gender</th>\n",
       "      <th>Age</th>\n",
       "      <th>Occupation</th>\n",
       "      <th>City_Category</th>\n",
       "      <th>Stay_In_Current_City_Years</th>\n",
       "      <th>Marital_Status</th>\n",
       "      <th>Product_Category_1</th>\n",
       "      <th>Product_Category_2</th>\n",
       "      <th>Product_Category_3</th>\n",
       "    </tr>\n",
       "  </thead>\n",
       "  <tbody>\n",
       "    <tr>\n",
       "      <th>0</th>\n",
       "      <td>1000004</td>\n",
       "      <td>P00128942</td>\n",
       "      <td>M</td>\n",
       "      <td>46-50</td>\n",
       "      <td>7</td>\n",
       "      <td>B</td>\n",
       "      <td>2</td>\n",
       "      <td>1</td>\n",
       "      <td>1</td>\n",
       "      <td>11.0</td>\n",
       "      <td>NaN</td>\n",
       "    </tr>\n",
       "    <tr>\n",
       "      <th>1</th>\n",
       "      <td>1000009</td>\n",
       "      <td>P00113442</td>\n",
       "      <td>M</td>\n",
       "      <td>26-35</td>\n",
       "      <td>17</td>\n",
       "      <td>C</td>\n",
       "      <td>0</td>\n",
       "      <td>0</td>\n",
       "      <td>3</td>\n",
       "      <td>5.0</td>\n",
       "      <td>NaN</td>\n",
       "    </tr>\n",
       "    <tr>\n",
       "      <th>2</th>\n",
       "      <td>1000010</td>\n",
       "      <td>P00288442</td>\n",
       "      <td>F</td>\n",
       "      <td>36-45</td>\n",
       "      <td>1</td>\n",
       "      <td>B</td>\n",
       "      <td>4+</td>\n",
       "      <td>1</td>\n",
       "      <td>5</td>\n",
       "      <td>14.0</td>\n",
       "      <td>NaN</td>\n",
       "    </tr>\n",
       "    <tr>\n",
       "      <th>3</th>\n",
       "      <td>1000010</td>\n",
       "      <td>P00145342</td>\n",
       "      <td>F</td>\n",
       "      <td>36-45</td>\n",
       "      <td>1</td>\n",
       "      <td>B</td>\n",
       "      <td>4+</td>\n",
       "      <td>1</td>\n",
       "      <td>4</td>\n",
       "      <td>9.0</td>\n",
       "      <td>NaN</td>\n",
       "    </tr>\n",
       "    <tr>\n",
       "      <th>4</th>\n",
       "      <td>1000011</td>\n",
       "      <td>P00053842</td>\n",
       "      <td>F</td>\n",
       "      <td>26-35</td>\n",
       "      <td>1</td>\n",
       "      <td>C</td>\n",
       "      <td>1</td>\n",
       "      <td>0</td>\n",
       "      <td>4</td>\n",
       "      <td>5.0</td>\n",
       "      <td>12.0</td>\n",
       "    </tr>\n",
       "  </tbody>\n",
       "</table>\n",
       "</div>"
      ],
      "text/plain": [
       "   User_ID Product_ID Gender    Age  Occupation City_Category  \\\n",
       "0  1000004  P00128942      M  46-50           7             B   \n",
       "1  1000009  P00113442      M  26-35          17             C   \n",
       "2  1000010  P00288442      F  36-45           1             B   \n",
       "3  1000010  P00145342      F  36-45           1             B   \n",
       "4  1000011  P00053842      F  26-35           1             C   \n",
       "\n",
       "  Stay_In_Current_City_Years  Marital_Status  Product_Category_1  \\\n",
       "0                          2               1                   1   \n",
       "1                          0               0                   3   \n",
       "2                         4+               1                   5   \n",
       "3                         4+               1                   4   \n",
       "4                          1               0                   4   \n",
       "\n",
       "   Product_Category_2  Product_Category_3  \n",
       "0                11.0                 NaN  \n",
       "1                 5.0                 NaN  \n",
       "2                14.0                 NaN  \n",
       "3                 9.0                 NaN  \n",
       "4                 5.0                12.0  "
      ]
     },
     "execution_count": 6,
     "metadata": {},
     "output_type": "execute_result"
    }
   ],
   "source": [
    "df_test.head()"
   ]
  },
  {
   "cell_type": "code",
   "execution_count": 7,
   "id": "e81343f5",
   "metadata": {
    "execution": {
     "iopub.execute_input": "2024-05-25T04:50:51.399412Z",
     "iopub.status.busy": "2024-05-25T04:50:51.398987Z",
     "iopub.status.idle": "2024-05-25T04:50:51.467375Z",
     "shell.execute_reply": "2024-05-25T04:50:51.465847Z"
    },
    "papermill": {
     "duration": 0.079911,
     "end_time": "2024-05-25T04:50:51.469808",
     "exception": false,
     "start_time": "2024-05-25T04:50:51.389897",
     "status": "completed"
    },
    "tags": []
   },
   "outputs": [
    {
     "name": "stdout",
     "output_type": "stream",
     "text": [
      "<class 'pandas.core.frame.DataFrame'>\n",
      "RangeIndex: 233599 entries, 0 to 233598\n",
      "Data columns (total 11 columns):\n",
      " #   Column                      Non-Null Count   Dtype  \n",
      "---  ------                      --------------   -----  \n",
      " 0   User_ID                     233599 non-null  int64  \n",
      " 1   Product_ID                  233599 non-null  object \n",
      " 2   Gender                      233599 non-null  object \n",
      " 3   Age                         233599 non-null  object \n",
      " 4   Occupation                  233599 non-null  int64  \n",
      " 5   City_Category               233599 non-null  object \n",
      " 6   Stay_In_Current_City_Years  233599 non-null  object \n",
      " 7   Marital_Status              233599 non-null  int64  \n",
      " 8   Product_Category_1          233599 non-null  int64  \n",
      " 9   Product_Category_2          161255 non-null  float64\n",
      " 10  Product_Category_3          71037 non-null   float64\n",
      "dtypes: float64(2), int64(4), object(5)\n",
      "memory usage: 19.6+ MB\n"
     ]
    }
   ],
   "source": [
    "df_test.info()"
   ]
  },
  {
   "cell_type": "markdown",
   "id": "c34d2fc4",
   "metadata": {
    "papermill": {
     "duration": 0.007805,
     "end_time": "2024-05-25T04:50:51.485552",
     "exception": false,
     "start_time": "2024-05-25T04:50:51.477747",
     "status": "completed"
    },
    "tags": []
   },
   "source": [
    "### Merging the _training_ and _testing_ data"
   ]
  },
  {
   "cell_type": "code",
   "execution_count": 8,
   "id": "edea15ae",
   "metadata": {
    "execution": {
     "iopub.execute_input": "2024-05-25T04:50:51.503518Z",
     "iopub.status.busy": "2024-05-25T04:50:51.503110Z",
     "iopub.status.idle": "2024-05-25T04:50:51.735685Z",
     "shell.execute_reply": "2024-05-25T04:50:51.734597Z"
    },
    "papermill": {
     "duration": 0.244604,
     "end_time": "2024-05-25T04:50:51.738096",
     "exception": false,
     "start_time": "2024-05-25T04:50:51.493492",
     "status": "completed"
    },
    "tags": []
   },
   "outputs": [
    {
     "name": "stdout",
     "output_type": "stream",
     "text": [
      "<class 'pandas.core.frame.DataFrame'>\n",
      "RangeIndex: 783667 entries, 0 to 783666\n",
      "Data columns (total 12 columns):\n",
      " #   Column                      Non-Null Count   Dtype  \n",
      "---  ------                      --------------   -----  \n",
      " 0   User_ID                     783667 non-null  int64  \n",
      " 1   Product_ID                  783667 non-null  object \n",
      " 2   Gender                      783667 non-null  object \n",
      " 3   Age                         783667 non-null  object \n",
      " 4   Occupation                  783667 non-null  int64  \n",
      " 5   City_Category               783667 non-null  object \n",
      " 6   Stay_In_Current_City_Years  783667 non-null  object \n",
      " 7   Marital_Status              783667 non-null  int64  \n",
      " 8   Product_Category_1          783667 non-null  int64  \n",
      " 9   Product_Category_2          537685 non-null  float64\n",
      " 10  Product_Category_3          237858 non-null  float64\n",
      " 11  Purchase                    550068 non-null  float64\n",
      "dtypes: float64(3), int64(4), object(5)\n",
      "memory usage: 71.7+ MB\n"
     ]
    }
   ],
   "source": [
    "df = pd.concat([df_train, df_test], axis=0, ignore_index=True)\n",
    "\n",
    "df.info()"
   ]
  },
  {
   "cell_type": "code",
   "execution_count": 9,
   "id": "88ab3040",
   "metadata": {
    "execution": {
     "iopub.execute_input": "2024-05-25T04:50:51.756202Z",
     "iopub.status.busy": "2024-05-25T04:50:51.755197Z",
     "iopub.status.idle": "2024-05-25T04:50:52.074970Z",
     "shell.execute_reply": "2024-05-25T04:50:52.073787Z"
    },
    "papermill": {
     "duration": 0.331329,
     "end_time": "2024-05-25T04:50:52.077455",
     "exception": false,
     "start_time": "2024-05-25T04:50:51.746126",
     "status": "completed"
    },
    "tags": []
   },
   "outputs": [
    {
     "data": {
      "text/html": [
       "<div>\n",
       "<style scoped>\n",
       "    .dataframe tbody tr th:only-of-type {\n",
       "        vertical-align: middle;\n",
       "    }\n",
       "\n",
       "    .dataframe tbody tr th {\n",
       "        vertical-align: top;\n",
       "    }\n",
       "\n",
       "    .dataframe thead th {\n",
       "        text-align: right;\n",
       "    }\n",
       "</style>\n",
       "<table border=\"1\" class=\"dataframe\">\n",
       "  <thead>\n",
       "    <tr style=\"text-align: right;\">\n",
       "      <th></th>\n",
       "      <th>User_ID</th>\n",
       "      <th>Occupation</th>\n",
       "      <th>Marital_Status</th>\n",
       "      <th>Product_Category_1</th>\n",
       "      <th>Product_Category_2</th>\n",
       "      <th>Product_Category_3</th>\n",
       "      <th>Purchase</th>\n",
       "    </tr>\n",
       "  </thead>\n",
       "  <tbody>\n",
       "    <tr>\n",
       "      <th>count</th>\n",
       "      <td>7.836670e+05</td>\n",
       "      <td>783667.000000</td>\n",
       "      <td>783667.000000</td>\n",
       "      <td>783667.000000</td>\n",
       "      <td>537685.000000</td>\n",
       "      <td>237858.000000</td>\n",
       "      <td>550068.000000</td>\n",
       "    </tr>\n",
       "    <tr>\n",
       "      <th>mean</th>\n",
       "      <td>1.003029e+06</td>\n",
       "      <td>8.079300</td>\n",
       "      <td>0.409777</td>\n",
       "      <td>5.366196</td>\n",
       "      <td>9.844506</td>\n",
       "      <td>12.668605</td>\n",
       "      <td>9263.968713</td>\n",
       "    </tr>\n",
       "    <tr>\n",
       "      <th>std</th>\n",
       "      <td>1.727267e+03</td>\n",
       "      <td>6.522206</td>\n",
       "      <td>0.491793</td>\n",
       "      <td>3.878160</td>\n",
       "      <td>5.089093</td>\n",
       "      <td>4.125510</td>\n",
       "      <td>5023.065394</td>\n",
       "    </tr>\n",
       "    <tr>\n",
       "      <th>min</th>\n",
       "      <td>1.000001e+06</td>\n",
       "      <td>0.000000</td>\n",
       "      <td>0.000000</td>\n",
       "      <td>1.000000</td>\n",
       "      <td>2.000000</td>\n",
       "      <td>3.000000</td>\n",
       "      <td>12.000000</td>\n",
       "    </tr>\n",
       "    <tr>\n",
       "      <th>25%</th>\n",
       "      <td>1.001519e+06</td>\n",
       "      <td>2.000000</td>\n",
       "      <td>0.000000</td>\n",
       "      <td>1.000000</td>\n",
       "      <td>5.000000</td>\n",
       "      <td>9.000000</td>\n",
       "      <td>5823.000000</td>\n",
       "    </tr>\n",
       "    <tr>\n",
       "      <th>50%</th>\n",
       "      <td>1.003075e+06</td>\n",
       "      <td>7.000000</td>\n",
       "      <td>0.000000</td>\n",
       "      <td>5.000000</td>\n",
       "      <td>9.000000</td>\n",
       "      <td>14.000000</td>\n",
       "      <td>8047.000000</td>\n",
       "    </tr>\n",
       "    <tr>\n",
       "      <th>75%</th>\n",
       "      <td>1.004478e+06</td>\n",
       "      <td>14.000000</td>\n",
       "      <td>1.000000</td>\n",
       "      <td>8.000000</td>\n",
       "      <td>15.000000</td>\n",
       "      <td>16.000000</td>\n",
       "      <td>12054.000000</td>\n",
       "    </tr>\n",
       "    <tr>\n",
       "      <th>max</th>\n",
       "      <td>1.006040e+06</td>\n",
       "      <td>20.000000</td>\n",
       "      <td>1.000000</td>\n",
       "      <td>20.000000</td>\n",
       "      <td>18.000000</td>\n",
       "      <td>18.000000</td>\n",
       "      <td>23961.000000</td>\n",
       "    </tr>\n",
       "  </tbody>\n",
       "</table>\n",
       "</div>"
      ],
      "text/plain": [
       "            User_ID     Occupation  Marital_Status  Product_Category_1  \\\n",
       "count  7.836670e+05  783667.000000   783667.000000       783667.000000   \n",
       "mean   1.003029e+06       8.079300        0.409777            5.366196   \n",
       "std    1.727267e+03       6.522206        0.491793            3.878160   \n",
       "min    1.000001e+06       0.000000        0.000000            1.000000   \n",
       "25%    1.001519e+06       2.000000        0.000000            1.000000   \n",
       "50%    1.003075e+06       7.000000        0.000000            5.000000   \n",
       "75%    1.004478e+06      14.000000        1.000000            8.000000   \n",
       "max    1.006040e+06      20.000000        1.000000           20.000000   \n",
       "\n",
       "       Product_Category_2  Product_Category_3       Purchase  \n",
       "count       537685.000000       237858.000000  550068.000000  \n",
       "mean             9.844506           12.668605    9263.968713  \n",
       "std              5.089093            4.125510    5023.065394  \n",
       "min              2.000000            3.000000      12.000000  \n",
       "25%              5.000000            9.000000    5823.000000  \n",
       "50%              9.000000           14.000000    8047.000000  \n",
       "75%             15.000000           16.000000   12054.000000  \n",
       "max             18.000000           18.000000   23961.000000  "
      ]
     },
     "execution_count": 9,
     "metadata": {},
     "output_type": "execute_result"
    }
   ],
   "source": [
    "df.describe()"
   ]
  },
  {
   "cell_type": "code",
   "execution_count": 10,
   "id": "8eb46876",
   "metadata": {
    "execution": {
     "iopub.execute_input": "2024-05-25T04:50:52.095699Z",
     "iopub.status.busy": "2024-05-25T04:50:52.095316Z",
     "iopub.status.idle": "2024-05-25T04:50:55.031274Z",
     "shell.execute_reply": "2024-05-25T04:50:55.029986Z"
    },
    "papermill": {
     "duration": 2.948229,
     "end_time": "2024-05-25T04:50:55.033953",
     "exception": false,
     "start_time": "2024-05-25T04:50:52.085724",
     "status": "completed"
    },
    "tags": []
   },
   "outputs": [
    {
     "name": "stderr",
     "output_type": "stream",
     "text": [
      "/opt/conda/lib/python3.10/site-packages/seaborn/_oldcore.py:1119: FutureWarning: use_inf_as_na option is deprecated and will be removed in a future version. Convert inf values to NaN before operating instead.\n",
      "  with pd.option_context('mode.use_inf_as_na', True):\n"
     ]
    },
    {
     "data": {
      "image/png": "[encoded data removed]",
      "text/plain": [
       "<Figure size 800x600 with 1 Axes>"
      ]
     },
     "metadata": {},
     "output_type": "display_data"
    }
   ],
   "source": [
    "plt.figure(figsize=(8, 6))\n",
    "\n",
    "sns.kdeplot(x='Purchase', data=df, fill=True)\n",
    "\n",
    "plt.title(\"Purchase Description\", fontweight=\"bold\")\n",
    "\n",
    "plt.show()"
   ]
  },
  {
   "cell_type": "markdown",
   "id": "f71bcc7e",
   "metadata": {
    "papermill": {
     "duration": 0.008901,
     "end_time": "2024-05-25T04:50:55.052291",
     "exception": false,
     "start_time": "2024-05-25T04:50:55.043390",
     "status": "completed"
    },
    "tags": []
   },
   "source": [
    "### Interpreting the description from `df.info()`\n",
    "\n",
    "- The `Purchase` data is quite **spread out**, with values ranging from 12 to 23,961.\n",
    "- The **majority** of purchases (50%) are **less than or equal to 8,047**, indicating that **most purchase amounts are relatively lower compared to the `max` value.**\n",
    "- The upper quartile (75%) is at 12,054, showing that **the top 25% of purchase amounts are significantly higher than the `median`**, suggesting that there are some relatively high purchase amounts that **pull the mean upwards.**\n",
    "- The mean (9,263.97) is higher than the median (8,047), which typically indicates a **right-skewed distribution**, where a few high values are affecting the average."
   ]
  },
  {
   "cell_type": "markdown",
   "id": "bc464f2a",
   "metadata": {
    "papermill": {
     "duration": 0.008966,
     "end_time": "2024-05-25T04:50:55.070699",
     "exception": false,
     "start_time": "2024-05-25T04:50:55.061733",
     "status": "completed"
    },
    "tags": []
   },
   "source": [
    "### Dropping the `User_ID` column"
   ]
  },
  {
   "cell_type": "code",
   "execution_count": 11,
   "id": "62ea8645",
   "metadata": {
    "execution": {
     "iopub.execute_input": "2024-05-25T04:50:55.090852Z",
     "iopub.status.busy": "2024-05-25T04:50:55.090481Z",
     "iopub.status.idle": "2024-05-25T04:50:55.163970Z",
     "shell.execute_reply": "2024-05-25T04:50:55.162799Z"
    },
    "papermill": {
     "duration": 0.086169,
     "end_time": "2024-05-25T04:50:55.166129",
     "exception": false,
     "start_time": "2024-05-25T04:50:55.079960",
     "status": "completed"
    },
    "tags": []
   },
   "outputs": [
    {
     "data": {
      "text/html": [
       "<div>\n",
       "<style scoped>\n",
       "    .dataframe tbody tr th:only-of-type {\n",
       "        vertical-align: middle;\n",
       "    }\n",
       "\n",
       "    .dataframe tbody tr th {\n",
       "        vertical-align: top;\n",
       "    }\n",
       "\n",
       "    .dataframe thead th {\n",
       "        text-align: right;\n",
       "    }\n",
       "</style>\n",
       "<table border=\"1\" class=\"dataframe\">\n",
       "  <thead>\n",
       "    <tr style=\"text-align: right;\">\n",
       "      <th></th>\n",
       "      <th>Product_ID</th>\n",
       "      <th>Gender</th>\n",
       "      <th>Age</th>\n",
       "      <th>Occupation</th>\n",
       "      <th>City_Category</th>\n",
       "      <th>Stay_In_Current_City_Years</th>\n",
       "      <th>Marital_Status</th>\n",
       "      <th>Product_Category_1</th>\n",
       "      <th>Product_Category_2</th>\n",
       "      <th>Product_Category_3</th>\n",
       "      <th>Purchase</th>\n",
       "    </tr>\n",
       "  </thead>\n",
       "  <tbody>\n",
       "    <tr>\n",
       "      <th>0</th>\n",
       "      <td>P00069042</td>\n",
       "      <td>F</td>\n",
       "      <td>0-17</td>\n",
       "      <td>10</td>\n",
       "      <td>A</td>\n",
       "      <td>2</td>\n",
       "      <td>0</td>\n",
       "      <td>3</td>\n",
       "      <td>NaN</td>\n",
       "      <td>NaN</td>\n",
       "      <td>8370.0</td>\n",
       "    </tr>\n",
       "    <tr>\n",
       "      <th>1</th>\n",
       "      <td>P00248942</td>\n",
       "      <td>F</td>\n",
       "      <td>0-17</td>\n",
       "      <td>10</td>\n",
       "      <td>A</td>\n",
       "      <td>2</td>\n",
       "      <td>0</td>\n",
       "      <td>1</td>\n",
       "      <td>6.0</td>\n",
       "      <td>14.0</td>\n",
       "      <td>15200.0</td>\n",
       "    </tr>\n",
       "    <tr>\n",
       "      <th>2</th>\n",
       "      <td>P00087842</td>\n",
       "      <td>F</td>\n",
       "      <td>0-17</td>\n",
       "      <td>10</td>\n",
       "      <td>A</td>\n",
       "      <td>2</td>\n",
       "      <td>0</td>\n",
       "      <td>12</td>\n",
       "      <td>NaN</td>\n",
       "      <td>NaN</td>\n",
       "      <td>1422.0</td>\n",
       "    </tr>\n",
       "    <tr>\n",
       "      <th>3</th>\n",
       "      <td>P00085442</td>\n",
       "      <td>F</td>\n",
       "      <td>0-17</td>\n",
       "      <td>10</td>\n",
       "      <td>A</td>\n",
       "      <td>2</td>\n",
       "      <td>0</td>\n",
       "      <td>12</td>\n",
       "      <td>14.0</td>\n",
       "      <td>NaN</td>\n",
       "      <td>1057.0</td>\n",
       "    </tr>\n",
       "    <tr>\n",
       "      <th>4</th>\n",
       "      <td>P00285442</td>\n",
       "      <td>M</td>\n",
       "      <td>55+</td>\n",
       "      <td>16</td>\n",
       "      <td>C</td>\n",
       "      <td>4+</td>\n",
       "      <td>0</td>\n",
       "      <td>8</td>\n",
       "      <td>NaN</td>\n",
       "      <td>NaN</td>\n",
       "      <td>7969.0</td>\n",
       "    </tr>\n",
       "  </tbody>\n",
       "</table>\n",
       "</div>"
      ],
      "text/plain": [
       "  Product_ID Gender   Age  Occupation City_Category  \\\n",
       "0  P00069042      F  0-17          10             A   \n",
       "1  P00248942      F  0-17          10             A   \n",
       "2  P00087842      F  0-17          10             A   \n",
       "3  P00085442      F  0-17          10             A   \n",
       "4  P00285442      M   55+          16             C   \n",
       "\n",
       "  Stay_In_Current_City_Years  Marital_Status  Product_Category_1  \\\n",
       "0                          2               0                   3   \n",
       "1                          2               0                   1   \n",
       "2                          2               0                  12   \n",
       "3                          2               0                  12   \n",
       "4                         4+               0                   8   \n",
       "\n",
       "   Product_Category_2  Product_Category_3  Purchase  \n",
       "0                 NaN                 NaN    8370.0  \n",
       "1                 6.0                14.0   15200.0  \n",
       "2                 NaN                 NaN    1422.0  \n",
       "3                14.0                 NaN    1057.0  \n",
       "4                 NaN                 NaN    7969.0  "
      ]
     },
     "execution_count": 11,
     "metadata": {},
     "output_type": "execute_result"
    }
   ],
   "source": [
    "df.drop(columns=['User_ID'], inplace=True)\n",
    "\n",
    "df.head()"
   ]
  },
  {
   "cell_type": "markdown",
   "id": "b457db25",
   "metadata": {
    "papermill": {
     "duration": 0.009087,
     "end_time": "2024-05-25T04:50:55.184708",
     "exception": false,
     "start_time": "2024-05-25T04:50:55.175621",
     "status": "completed"
    },
    "tags": []
   },
   "source": [
    "### Handling categorical variables"
   ]
  },
  {
   "cell_type": "code",
   "execution_count": 12,
   "id": "42d43d9a",
   "metadata": {
    "execution": {
     "iopub.execute_input": "2024-05-25T04:50:55.206014Z",
     "iopub.status.busy": "2024-05-25T04:50:55.205058Z",
     "iopub.status.idle": "2024-05-25T04:50:55.260236Z",
     "shell.execute_reply": "2024-05-25T04:50:55.258957Z"
    },
    "papermill": {
     "duration": 0.068408,
     "end_time": "2024-05-25T04:50:55.262690",
     "exception": false,
     "start_time": "2024-05-25T04:50:55.194282",
     "status": "completed"
    },
    "tags": []
   },
   "outputs": [
    {
     "data": {
      "text/plain": [
       "Product_ID                    object\n",
       "Gender                        object\n",
       "Age                           object\n",
       "City_Category                 object\n",
       "Stay_In_Current_City_Years    object\n",
       "dtype: object"
      ]
     },
     "execution_count": 12,
     "metadata": {},
     "output_type": "execute_result"
    }
   ],
   "source": [
    "cat_feats = []\n",
    "\n",
    "for col in df.columns:\n",
    "    if df[col].dtype == \"object\":\n",
    "        cat_feats.append(col)\n",
    "\n",
    "df[cat_feats].dtypes"
   ]
  },
  {
   "cell_type": "markdown",
   "id": "bd453466",
   "metadata": {
    "papermill": {
     "duration": 0.009309,
     "end_time": "2024-05-25T04:50:55.281647",
     "exception": false,
     "start_time": "2024-05-25T04:50:55.272338",
     "status": "completed"
    },
    "tags": []
   },
   "source": [
    "#### `Gender`\n",
    "- `F` mapped to **0**\n",
    "- `M` mapped to **1**"
   ]
  },
  {
   "cell_type": "code",
   "execution_count": 13,
   "id": "c9917f47",
   "metadata": {
    "execution": {
     "iopub.execute_input": "2024-05-25T04:50:55.303011Z",
     "iopub.status.busy": "2024-05-25T04:50:55.302194Z",
     "iopub.status.idle": "2024-05-25T04:50:55.346754Z",
     "shell.execute_reply": "2024-05-25T04:50:55.345712Z"
    },
    "papermill": {
     "duration": 0.058174,
     "end_time": "2024-05-25T04:50:55.349255",
     "exception": false,
     "start_time": "2024-05-25T04:50:55.291081",
     "status": "completed"
    },
    "tags": []
   },
   "outputs": [
    {
     "data": {
      "text/plain": [
       "Gender\n",
       "1    590031\n",
       "0    193636\n",
       "Name: count, dtype: int64"
      ]
     },
     "execution_count": 13,
     "metadata": {},
     "output_type": "execute_result"
    }
   ],
   "source": [
    "df['Gender'] = df['Gender'].map({\"F\": 0, \"M\": 1})\n",
    "\n",
    "df['Gender'].value_counts()"
   ]
  },
  {
   "cell_type": "markdown",
   "id": "d3b62207",
   "metadata": {
    "papermill": {
     "duration": 0.009546,
     "end_time": "2024-05-25T04:50:55.368511",
     "exception": false,
     "start_time": "2024-05-25T04:50:55.358965",
     "status": "completed"
    },
    "tags": []
   },
   "source": [
    "#### `City_Category`\n",
    "Obtaining dummy variable encodings:\n",
    "- `City A` : **0 0**\n",
    "- `City B` : **1 0**\n",
    "- `City C` : **0 1**"
   ]
  },
  {
   "cell_type": "code",
   "execution_count": 14,
   "id": "67e08775",
   "metadata": {
    "execution": {
     "iopub.execute_input": "2024-05-25T04:50:55.389766Z",
     "iopub.status.busy": "2024-05-25T04:50:55.389395Z",
     "iopub.status.idle": "2024-05-25T04:50:55.459310Z",
     "shell.execute_reply": "2024-05-25T04:50:55.458115Z"
    },
    "papermill": {
     "duration": 0.083598,
     "end_time": "2024-05-25T04:50:55.461930",
     "exception": false,
     "start_time": "2024-05-25T04:50:55.378332",
     "status": "completed"
    },
    "tags": []
   },
   "outputs": [
    {
     "data": {
      "text/html": [
       "<div>\n",
       "<style scoped>\n",
       "    .dataframe tbody tr th:only-of-type {\n",
       "        vertical-align: middle;\n",
       "    }\n",
       "\n",
       "    .dataframe tbody tr th {\n",
       "        vertical-align: top;\n",
       "    }\n",
       "\n",
       "    .dataframe thead th {\n",
       "        text-align: right;\n",
       "    }\n",
       "</style>\n",
       "<table border=\"1\" class=\"dataframe\">\n",
       "  <thead>\n",
       "    <tr style=\"text-align: right;\">\n",
       "      <th></th>\n",
       "      <th>City_Dummy_1</th>\n",
       "      <th>City_Dummy_2</th>\n",
       "    </tr>\n",
       "  </thead>\n",
       "  <tbody>\n",
       "    <tr>\n",
       "      <th>0</th>\n",
       "      <td>0</td>\n",
       "      <td>0</td>\n",
       "    </tr>\n",
       "    <tr>\n",
       "      <th>1</th>\n",
       "      <td>0</td>\n",
       "      <td>0</td>\n",
       "    </tr>\n",
       "    <tr>\n",
       "      <th>2</th>\n",
       "      <td>0</td>\n",
       "      <td>0</td>\n",
       "    </tr>\n",
       "    <tr>\n",
       "      <th>3</th>\n",
       "      <td>0</td>\n",
       "      <td>0</td>\n",
       "    </tr>\n",
       "    <tr>\n",
       "      <th>4</th>\n",
       "      <td>0</td>\n",
       "      <td>1</td>\n",
       "    </tr>\n",
       "  </tbody>\n",
       "</table>\n",
       "</div>"
      ],
      "text/plain": [
       "   City_Dummy_1  City_Dummy_2\n",
       "0             0             0\n",
       "1             0             0\n",
       "2             0             0\n",
       "3             0             0\n",
       "4             0             1"
      ]
     },
     "execution_count": 14,
     "metadata": {},
     "output_type": "execute_result"
    }
   ],
   "source": [
    "df_city = pd.get_dummies(df['City_Category'], drop_first=True).astype(int)\n",
    "df_city.rename(columns={'B': \"City_Dummy_1\", 'C': \"City_Dummy_2\"}, inplace=True)\n",
    "\n",
    "df_city.head()"
   ]
  },
  {
   "cell_type": "code",
   "execution_count": 15,
   "id": "649aa176",
   "metadata": {
    "execution": {
     "iopub.execute_input": "2024-05-25T04:50:55.483395Z",
     "iopub.status.busy": "2024-05-25T04:50:55.482958Z",
     "iopub.status.idle": "2024-05-25T04:50:55.673465Z",
     "shell.execute_reply": "2024-05-25T04:50:55.672288Z"
    },
    "papermill": {
     "duration": 0.203832,
     "end_time": "2024-05-25T04:50:55.675683",
     "exception": false,
     "start_time": "2024-05-25T04:50:55.471851",
     "status": "completed"
    },
    "tags": []
   },
   "outputs": [
    {
     "data": {
      "text/html": [
       "<div>\n",
       "<style scoped>\n",
       "    .dataframe tbody tr th:only-of-type {\n",
       "        vertical-align: middle;\n",
       "    }\n",
       "\n",
       "    .dataframe tbody tr th {\n",
       "        vertical-align: top;\n",
       "    }\n",
       "\n",
       "    .dataframe thead th {\n",
       "        text-align: right;\n",
       "    }\n",
       "</style>\n",
       "<table border=\"1\" class=\"dataframe\">\n",
       "  <thead>\n",
       "    <tr style=\"text-align: right;\">\n",
       "      <th></th>\n",
       "      <th>Product_ID</th>\n",
       "      <th>Gender</th>\n",
       "      <th>Age</th>\n",
       "      <th>Occupation</th>\n",
       "      <th>Stay_In_Current_City_Years</th>\n",
       "      <th>Marital_Status</th>\n",
       "      <th>Product_Category_1</th>\n",
       "      <th>Product_Category_2</th>\n",
       "      <th>Product_Category_3</th>\n",
       "      <th>Purchase</th>\n",
       "      <th>City_Dummy_1</th>\n",
       "      <th>City_Dummy_2</th>\n",
       "    </tr>\n",
       "  </thead>\n",
       "  <tbody>\n",
       "    <tr>\n",
       "      <th>0</th>\n",
       "      <td>P00069042</td>\n",
       "      <td>0</td>\n",
       "      <td>0-17</td>\n",
       "      <td>10</td>\n",
       "      <td>2</td>\n",
       "      <td>0</td>\n",
       "      <td>3</td>\n",
       "      <td>NaN</td>\n",
       "      <td>NaN</td>\n",
       "      <td>8370.0</td>\n",
       "      <td>0</td>\n",
       "      <td>0</td>\n",
       "    </tr>\n",
       "    <tr>\n",
       "      <th>1</th>\n",
       "      <td>P00248942</td>\n",
       "      <td>0</td>\n",
       "      <td>0-17</td>\n",
       "      <td>10</td>\n",
       "      <td>2</td>\n",
       "      <td>0</td>\n",
       "      <td>1</td>\n",
       "      <td>6.0</td>\n",
       "      <td>14.0</td>\n",
       "      <td>15200.0</td>\n",
       "      <td>0</td>\n",
       "      <td>0</td>\n",
       "    </tr>\n",
       "    <tr>\n",
       "      <th>2</th>\n",
       "      <td>P00087842</td>\n",
       "      <td>0</td>\n",
       "      <td>0-17</td>\n",
       "      <td>10</td>\n",
       "      <td>2</td>\n",
       "      <td>0</td>\n",
       "      <td>12</td>\n",
       "      <td>NaN</td>\n",
       "      <td>NaN</td>\n",
       "      <td>1422.0</td>\n",
       "      <td>0</td>\n",
       "      <td>0</td>\n",
       "    </tr>\n",
       "    <tr>\n",
       "      <th>3</th>\n",
       "      <td>P00085442</td>\n",
       "      <td>0</td>\n",
       "      <td>0-17</td>\n",
       "      <td>10</td>\n",
       "      <td>2</td>\n",
       "      <td>0</td>\n",
       "      <td>12</td>\n",
       "      <td>14.0</td>\n",
       "      <td>NaN</td>\n",
       "      <td>1057.0</td>\n",
       "      <td>0</td>\n",
       "      <td>0</td>\n",
       "    </tr>\n",
       "    <tr>\n",
       "      <th>4</th>\n",
       "      <td>P00285442</td>\n",
       "      <td>1</td>\n",
       "      <td>55+</td>\n",
       "      <td>16</td>\n",
       "      <td>4+</td>\n",
       "      <td>0</td>\n",
       "      <td>8</td>\n",
       "      <td>NaN</td>\n",
       "      <td>NaN</td>\n",
       "      <td>7969.0</td>\n",
       "      <td>0</td>\n",
       "      <td>1</td>\n",
       "    </tr>\n",
       "  </tbody>\n",
       "</table>\n",
       "</div>"
      ],
      "text/plain": [
       "  Product_ID  Gender   Age  Occupation Stay_In_Current_City_Years  \\\n",
       "0  P00069042       0  0-17          10                          2   \n",
       "1  P00248942       0  0-17          10                          2   \n",
       "2  P00087842       0  0-17          10                          2   \n",
       "3  P00085442       0  0-17          10                          2   \n",
       "4  P00285442       1   55+          16                         4+   \n",
       "\n",
       "   Marital_Status  Product_Category_1  Product_Category_2  Product_Category_3  \\\n",
       "0               0                   3                 NaN                 NaN   \n",
       "1               0                   1                 6.0                14.0   \n",
       "2               0                  12                 NaN                 NaN   \n",
       "3               0                  12                14.0                 NaN   \n",
       "4               0                   8                 NaN                 NaN   \n",
       "\n",
       "   Purchase  City_Dummy_1  City_Dummy_2  \n",
       "0    8370.0             0             0  \n",
       "1   15200.0             0             0  \n",
       "2    1422.0             0             0  \n",
       "3    1057.0             0             0  \n",
       "4    7969.0             0             1  "
      ]
     },
     "execution_count": 15,
     "metadata": {},
     "output_type": "execute_result"
    }
   ],
   "source": [
    "df = df.drop(columns=['City_Category'])\n",
    "df = pd.concat([df, df_city], axis=1)\n",
    "\n",
    "df.head()"
   ]
  },
  {
   "cell_type": "markdown",
   "id": "b18073af",
   "metadata": {
    "papermill": {
     "duration": 0.009653,
     "end_time": "2024-05-25T04:50:55.695541",
     "exception": false,
     "start_time": "2024-05-25T04:50:55.685888",
     "status": "completed"
    },
    "tags": []
   },
   "source": [
    "#### `Age`"
   ]
  },
  {
   "cell_type": "code",
   "execution_count": 16,
   "id": "d38c1d06",
   "metadata": {
    "execution": {
     "iopub.execute_input": "2024-05-25T04:50:55.717652Z",
     "iopub.status.busy": "2024-05-25T04:50:55.717253Z",
     "iopub.status.idle": "2024-05-25T04:50:55.782914Z",
     "shell.execute_reply": "2024-05-25T04:50:55.781775Z"
    },
    "papermill": {
     "duration": 0.079691,
     "end_time": "2024-05-25T04:50:55.785393",
     "exception": false,
     "start_time": "2024-05-25T04:50:55.705702",
     "status": "completed"
    },
    "tags": []
   },
   "outputs": [
    {
     "data": {
      "text/plain": [
       "Age\n",
       "26-35    313015\n",
       "36-45    156724\n",
       "18-25    141953\n",
       "46-50     65278\n",
       "51-55     54784\n",
       "55+       30579\n",
       "0-17      21334\n",
       "Name: count, dtype: int64"
      ]
     },
     "execution_count": 16,
     "metadata": {},
     "output_type": "execute_result"
    }
   ],
   "source": [
    "df['Age'].value_counts()"
   ]
  },
  {
   "cell_type": "code",
   "execution_count": 17,
   "id": "ba29732b",
   "metadata": {
    "execution": {
     "iopub.execute_input": "2024-05-25T04:50:55.808017Z",
     "iopub.status.busy": "2024-05-25T04:50:55.807554Z",
     "iopub.status.idle": "2024-05-25T04:50:55.872833Z",
     "shell.execute_reply": "2024-05-25T04:50:55.871309Z"
    },
    "papermill": {
     "duration": 0.079317,
     "end_time": "2024-05-25T04:50:55.875363",
     "exception": false,
     "start_time": "2024-05-25T04:50:55.796046",
     "status": "completed"
    },
    "tags": []
   },
   "outputs": [
    {
     "data": {
      "text/plain": [
       "Age\n",
       "3    313015\n",
       "4    156724\n",
       "2    141953\n",
       "5     65278\n",
       "6     54784\n",
       "7     30579\n",
       "1     21334\n",
       "Name: count, dtype: int64"
      ]
     },
     "execution_count": 17,
     "metadata": {},
     "output_type": "execute_result"
    }
   ],
   "source": [
    "df['Age'] = df['Age'].map({'0-17': 1, '18-25': 2, '26-35': 3, '36-45': 4, '46-50': 5, '51-55': 6, '55+': 7})\n",
    "\n",
    "df['Age'].value_counts()"
   ]
  },
  {
   "cell_type": "markdown",
   "id": "28ab7fc5",
   "metadata": {
    "papermill": {
     "duration": 0.010105,
     "end_time": "2024-05-25T04:50:55.895698",
     "exception": false,
     "start_time": "2024-05-25T04:50:55.885593",
     "status": "completed"
    },
    "tags": []
   },
   "source": [
    "#### `Stay_In_Current_City_Years`"
   ]
  },
  {
   "cell_type": "code",
   "execution_count": 18,
   "id": "d9cb4f53",
   "metadata": {
    "execution": {
     "iopub.execute_input": "2024-05-25T04:50:55.917949Z",
     "iopub.status.busy": "2024-05-25T04:50:55.917547Z",
     "iopub.status.idle": "2024-05-25T04:50:56.228475Z",
     "shell.execute_reply": "2024-05-25T04:50:56.227430Z"
    },
    "papermill": {
     "duration": 0.324921,
     "end_time": "2024-05-25T04:50:56.230838",
     "exception": false,
     "start_time": "2024-05-25T04:50:55.905917",
     "status": "completed"
    },
    "tags": []
   },
   "outputs": [
    {
     "data": {
      "text/plain": [
       "0    2\n",
       "1    2\n",
       "2    2\n",
       "3    2\n",
       "4    4\n",
       "Name: Stay_In_Current_City_Years, dtype: int64"
      ]
     },
     "execution_count": 18,
     "metadata": {},
     "output_type": "execute_result"
    }
   ],
   "source": [
    "df['Stay_In_Current_City_Years'] = df['Stay_In_Current_City_Years'].str.replace('+', '')\n",
    "df['Stay_In_Current_City_Years'] = df['Stay_In_Current_City_Years'].astype(int)\n",
    "\n",
    "df['Stay_In_Current_City_Years'].head()"
   ]
  },
  {
   "cell_type": "code",
   "execution_count": 19,
   "id": "3cd1fd2c",
   "metadata": {
    "execution": {
     "iopub.execute_input": "2024-05-25T04:50:56.253344Z",
     "iopub.status.busy": "2024-05-25T04:50:56.252935Z",
     "iopub.status.idle": "2024-05-25T04:50:56.310062Z",
     "shell.execute_reply": "2024-05-25T04:50:56.308837Z"
    },
    "papermill": {
     "duration": 0.071138,
     "end_time": "2024-05-25T04:50:56.312399",
     "exception": false,
     "start_time": "2024-05-25T04:50:56.241261",
     "status": "completed"
    },
    "tags": []
   },
   "outputs": [
    {
     "name": "stdout",
     "output_type": "stream",
     "text": [
      "<class 'pandas.core.frame.DataFrame'>\n",
      "RangeIndex: 783667 entries, 0 to 783666\n",
      "Data columns (total 12 columns):\n",
      " #   Column                      Non-Null Count   Dtype  \n",
      "---  ------                      --------------   -----  \n",
      " 0   Product_ID                  783667 non-null  object \n",
      " 1   Gender                      783667 non-null  int64  \n",
      " 2   Age                         783667 non-null  int64  \n",
      " 3   Occupation                  783667 non-null  int64  \n",
      " 4   Stay_In_Current_City_Years  783667 non-null  int64  \n",
      " 5   Marital_Status              783667 non-null  int64  \n",
      " 6   Product_Category_1          783667 non-null  int64  \n",
      " 7   Product_Category_2          537685 non-null  float64\n",
      " 8   Product_Category_3          237858 non-null  float64\n",
      " 9   Purchase                    550068 non-null  float64\n",
      " 10  City_Dummy_1                783667 non-null  int64  \n",
      " 11  City_Dummy_2                783667 non-null  int64  \n",
      "dtypes: float64(3), int64(8), object(1)\n",
      "memory usage: 71.7+ MB\n"
     ]
    }
   ],
   "source": [
    "df.info()"
   ]
  },
  {
   "cell_type": "markdown",
   "id": "ef9f7ad9",
   "metadata": {
    "papermill": {
     "duration": 0.010298,
     "end_time": "2024-05-25T04:50:56.333171",
     "exception": false,
     "start_time": "2024-05-25T04:50:56.322873",
     "status": "completed"
    },
    "tags": []
   },
   "source": []
  },
  {
   "cell_type": "code",
   "execution_count": null,
   "id": "8283f167",
   "metadata": {
    "papermill": {
     "duration": 0.010152,
     "end_time": "2024-05-25T04:50:56.354142",
     "exception": false,
     "start_time": "2024-05-25T04:50:56.343990",
     "status": "completed"
    },
    "tags": []
   },
   "outputs": [],
   "source": []
  }
 ],
 "metadata": {
  "kaggle": {
   "accelerator": "none",
   "dataSources": [
    {
     "datasetId": 10479,
     "sourceId": 14692,
     "sourceType": "datasetVersion"
    }
   ],
   "dockerImageVersionId": 30698,
   "isGpuEnabled": false,
   "isInternetEnabled": true,
   "language": "python",
   "sourceType": "notebook"
  },
  "kernelspec": {
   "display_name": "Python 3",
   "language": "python",
   "name": "python3"
  },
  "language_info": {
   "codemirror_mode": {
    "name": "ipython",
    "version": 3
   },
   "file_extension": ".py",
   "mimetype": "text/x-python",
   "name": "python",
   "nbconvert_exporter": "python",
   "pygments_lexer": "ipython3",
   "version": "3.10.13"
  },
  "papermill": {
   "default_parameters": {},
   "duration": 12.594687,
   "end_time": "2024-05-25T04:50:56.985794",
   "environment_variables": {},
   "exception": null,
   "input_path": "__notebook__.ipynb",
   "output_path": "__notebook__.ipynb",
   "parameters": {},
   "start_time": "2024-05-25T04:50:44.391107",
   "version": "2.5.0"
  }
 },
 "nbformat": 4,
 "nbformat_minor": 5
}
