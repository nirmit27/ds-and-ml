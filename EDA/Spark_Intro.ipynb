{
 "cells": [
  {
   "cell_type": "markdown",
   "id": "5240a61a-b7f4-4b2d-8177-6ddd53cb2390",
   "metadata": {},
   "source": [
    "# Introduction to Spark"
   ]
  },
  {
   "cell_type": "markdown",
   "id": "cd5c2e9b-172b-4904-a930-04c364ce5e77",
   "metadata": {},
   "source": [
    "### Importing the necessary libraries"
   ]
  },
  {
   "cell_type": "code",
   "execution_count": 1,
   "id": "03dd510f-de4a-4335-8e59-2c4965f23a9f",
   "metadata": {},
   "outputs": [],
   "source": [
    "import os\n",
    "import re\n",
    "import json\n",
    "\n",
    "import warnings\n",
    "from pprint import pprint\n",
    "\n",
    "# DML\n",
    "import numpy as np\n",
    "import pandas as pd\n",
    "\n",
    "# Spark\n",
    "from pyspark.sql import SparkSession\n",
    "from pyspark.ml.feature import Imputer\n",
    "\n",
    "# TODO: TBD"
   ]
  },
  {
   "cell_type": "markdown",
   "id": "29a588b6-916d-4da5-ac79-e3ed1668faca",
   "metadata": {},
   "source": [
    "### Setup and configuration"
   ]
  },
  {
   "cell_type": "code",
   "execution_count": 2,
   "id": "27153456-6e6f-4e98-8945-fd2e31e4730e",
   "metadata": {},
   "outputs": [
    {
     "data": {
      "text/html": [
       "\n",
       "            <div>\n",
       "                <p><b>SparkSession - in-memory</b></p>\n",
       "                \n",
       "        <div>\n",
       "            <p><b>SparkContext</b></p>\n",
       "\n",
       "            <p><a href=\"http://192.168.1.5:4040\">Spark UI</a></p>\n",
       "\n",
       "            <dl>\n",
       "              <dt>Version</dt>\n",
       "                <dd><code>v4.0.1</code></dd>\n",
       "              <dt>Master</dt>\n",
       "                <dd><code>local[*]</code></dd>\n",
       "              <dt>AppName</dt>\n",
       "                <dd><code>Test0</code></dd>\n",
       "            </dl>\n",
       "        </div>\n",
       "        \n",
       "            </div>\n",
       "        "
      ],
      "text/plain": [
       "<pyspark.sql.session.SparkSession at 0x1d835e25ee0>"
      ]
     },
     "execution_count": 2,
     "metadata": {},
     "output_type": "execute_result"
    }
   ],
   "source": [
    "spark = SparkSession.builder \\\n",
    "            .appName('Test0') \\\n",
    "            .getOrCreate()\n",
    "\n",
    "spark"
   ]
  },
  {
   "cell_type": "markdown",
   "id": "07d80e94-428d-411c-9fb1-12237759e4c9",
   "metadata": {},
   "source": [
    "## DQL"
   ]
  },
  {
   "cell_type": "code",
   "execution_count": 80,
   "id": "0b044a60-efdd-4c00-a0d5-4ea03a836ec5",
   "metadata": {},
   "outputs": [
    {
     "name": "stdout",
     "output_type": "stream",
     "text": [
      "+---------+----+----------+------+\n",
      "|     Name| Age|Experience|Salary|\n",
      "+---------+----+----------+------+\n",
      "|  Himmler|  34|         8| 54000|\n",
      "|     NULL|  23|         3| 16000|\n",
      "|  Hermann|  30|         1| 12000|\n",
      "|     Hans|NULL|      NULL| 22500|\n",
      "|Hellstrom|  32|         7| 45000|\n",
      "|     Eric|  35|         1| 20000|\n",
      "|     Hugo|  45|        10| 67000|\n",
      "|   Joseph|  27|         9|  NULL|\n",
      "|     NULL|  32|         6|  NULL|\n",
      "+---------+----+----------+------+\n",
      "\n"
     ]
    }
   ],
   "source": [
    "filepath1 = r\"./datasets/Sample1.csv\"\n",
    "\n",
    "df = spark.read \\\n",
    "        .option('header', 'true') \\\n",
    "        .csv(filepath1, inferSchema=True)\n",
    "\n",
    "df.show()"
   ]
  },
  {
   "cell_type": "code",
   "execution_count": 81,
   "id": "4dba13f5-4583-4911-9bcf-73e8646d77c8",
   "metadata": {},
   "outputs": [
    {
     "data": {
      "text/plain": [
       "pyspark.sql.classic.dataframe.DataFrame"
      ]
     },
     "execution_count": 81,
     "metadata": {},
     "output_type": "execute_result"
    }
   ],
   "source": [
    "type(df)"
   ]
  },
  {
   "cell_type": "markdown",
   "id": "d746225e-be52-4778-9a6d-a12f56fe62b7",
   "metadata": {},
   "source": [
    "### Fetching records"
   ]
  },
  {
   "cell_type": "code",
   "execution_count": 82,
   "id": "d6a62c43-0964-46d2-a7ec-b7ef8c0f8475",
   "metadata": {},
   "outputs": [
    {
     "name": "stdout",
     "output_type": "stream",
     "text": [
      "Himmler, 34, 8, 54000\n",
      "None, 23, 3, 16000\n",
      "Hermann, 30, 1, 12000\n",
      "Hans, None, None, 22500\n",
      "Hellstrom, 32, 7, 45000\n"
     ]
    }
   ],
   "source": [
    "for row in df.head(5):\n",
    "    name, age, exp, sal = row\n",
    "    print(f\"{name}, {age}, {exp}, {sal}\")"
   ]
  },
  {
   "cell_type": "markdown",
   "id": "66bb4edf-52bb-43d5-8c20-b10ac30eb2a5",
   "metadata": {},
   "source": [
    "### Visualizing schema"
   ]
  },
  {
   "cell_type": "code",
   "execution_count": 83,
   "id": "ecd21b5b-eac6-480e-ae75-f731bf91df78",
   "metadata": {},
   "outputs": [
    {
     "name": "stdout",
     "output_type": "stream",
     "text": [
      "root\n",
      " |-- Name: string (nullable = true)\n",
      " |-- Age: integer (nullable = true)\n",
      " |-- Experience: integer (nullable = true)\n",
      " |-- Salary: integer (nullable = true)\n",
      "\n"
     ]
    }
   ],
   "source": [
    "df.printSchema()"
   ]
  },
  {
   "cell_type": "code",
   "execution_count": 84,
   "id": "6d167afc-043f-4dff-8bdd-9fd8f6b6f393",
   "metadata": {},
   "outputs": [
    {
     "data": {
      "text/plain": [
       "['Name', 'Age', 'Experience', 'Salary']"
      ]
     },
     "execution_count": 84,
     "metadata": {},
     "output_type": "execute_result"
    }
   ],
   "source": [
    "df.columns"
   ]
  },
  {
   "cell_type": "markdown",
   "id": "d0a366f1-6a63-4f42-b504-9c10b74caeb6",
   "metadata": {},
   "source": [
    "### Selecting columns"
   ]
  },
  {
   "cell_type": "code",
   "execution_count": 85,
   "id": "33304c86-1741-49d6-a39a-349b9bf8ee11",
   "metadata": {},
   "outputs": [
    {
     "name": "stdout",
     "output_type": "stream",
     "text": [
      "+---------+\n",
      "|     Name|\n",
      "+---------+\n",
      "|  Himmler|\n",
      "|     NULL|\n",
      "|  Hermann|\n",
      "|     Hans|\n",
      "|Hellstrom|\n",
      "|     Eric|\n",
      "|     Hugo|\n",
      "|   Joseph|\n",
      "|     NULL|\n",
      "+---------+\n",
      "\n",
      "+----+\n",
      "| Age|\n",
      "+----+\n",
      "|  34|\n",
      "|  23|\n",
      "|  30|\n",
      "|NULL|\n",
      "|  32|\n",
      "|  35|\n",
      "|  45|\n",
      "|  27|\n",
      "|  32|\n",
      "+----+\n",
      "\n",
      "+----------+\n",
      "|Experience|\n",
      "+----------+\n",
      "|         8|\n",
      "|         3|\n",
      "|         1|\n",
      "|      NULL|\n",
      "|         7|\n",
      "|         1|\n",
      "|        10|\n",
      "|         9|\n",
      "|         6|\n",
      "+----------+\n",
      "\n",
      "+------+\n",
      "|Salary|\n",
      "+------+\n",
      "| 54000|\n",
      "| 16000|\n",
      "| 12000|\n",
      "| 22500|\n",
      "| 45000|\n",
      "| 20000|\n",
      "| 67000|\n",
      "|  NULL|\n",
      "|  NULL|\n",
      "+------+\n",
      "\n"
     ]
    }
   ],
   "source": [
    "for column in df.columns:\n",
    "    df.select(column).show()"
   ]
  },
  {
   "cell_type": "code",
   "execution_count": 86,
   "id": "464d3c36-2282-477c-ac1f-90de743bcbab",
   "metadata": {},
   "outputs": [
    {
     "data": {
      "text/plain": [
       "[('Name', 'string'), ('Age', 'int'), ('Experience', 'int'), ('Salary', 'int')]"
      ]
     },
     "execution_count": 86,
     "metadata": {},
     "output_type": "execute_result"
    }
   ],
   "source": [
    "df.dtypes"
   ]
  },
  {
   "cell_type": "code",
   "execution_count": 87,
   "id": "98d8be5c-878e-4af8-94fa-430cafea783b",
   "metadata": {},
   "outputs": [
    {
     "name": "stdout",
     "output_type": "stream",
     "text": [
      "+-------+------+----------------+------------------+-----------------+\n",
      "|summary|  Name|             Age|        Experience|           Salary|\n",
      "+-------+------+----------------+------------------+-----------------+\n",
      "|  count|     7|               8|                 8|                7|\n",
      "|   mean|  NULL|           32.25|             5.625|33785.71428571428|\n",
      "| stddev|  NULL|6.45312770235156|3.5431019500674026|21392.86708005175|\n",
      "|    min|  Eric|              23|                 1|            12000|\n",
      "|    max|Joseph|              45|                10|            67000|\n",
      "+-------+------+----------------+------------------+-----------------+\n",
      "\n"
     ]
    }
   ],
   "source": [
    "df.describe().show()"
   ]
  },
  {
   "cell_type": "markdown",
   "id": "65e27b66-aa67-4bef-a125-84d5ad090899",
   "metadata": {},
   "source": [
    "## DML"
   ]
  },
  {
   "cell_type": "markdown",
   "id": "447500bd-9b14-4c05-b10e-af7264be5265",
   "metadata": {},
   "source": [
    "### Adding columns with operations\n",
    "> Adding **2 years** of experience to the experience column values"
   ]
  },
  {
   "cell_type": "code",
   "execution_count": 88,
   "id": "258aafc0-11ef-4764-9598-b7b7f8e01c61",
   "metadata": {},
   "outputs": [
    {
     "name": "stdout",
     "output_type": "stream",
     "text": [
      "+---------+----+----------+------+------------------------+\n",
      "|     Name| Age|Experience|Salary|Experience After 2 Years|\n",
      "+---------+----+----------+------+------------------------+\n",
      "|  Himmler|  34|         8| 54000|                      10|\n",
      "|     NULL|  23|         3| 16000|                       5|\n",
      "|  Hermann|  30|         1| 12000|                       3|\n",
      "|     Hans|NULL|      NULL| 22500|                    NULL|\n",
      "|Hellstrom|  32|         7| 45000|                       9|\n",
      "|     Eric|  35|         1| 20000|                       3|\n",
      "|     Hugo|  45|        10| 67000|                      12|\n",
      "|   Joseph|  27|         9|  NULL|                      11|\n",
      "|     NULL|  32|         6|  NULL|                       8|\n",
      "+---------+----+----------+------+------------------------+\n",
      "\n"
     ]
    }
   ],
   "source": [
    "df_exp_2 = df.withColumn('Experience After 2 Years', df['Experience'] + 2)\n",
    "df_exp_2.show()"
   ]
  },
  {
   "cell_type": "markdown",
   "id": "ba5acfa5-72f9-46b9-b3bc-b1e3f322a5fb",
   "metadata": {},
   "source": [
    "### Dropping columns\n",
    "> Dropping the **`Experience After 2 Years`** column"
   ]
  },
  {
   "cell_type": "code",
   "execution_count": 89,
   "id": "b737a485-62ce-454a-bbb4-00ce5ca2e81f",
   "metadata": {},
   "outputs": [
    {
     "name": "stdout",
     "output_type": "stream",
     "text": [
      "+---------+----+----------+------+\n",
      "|     Name| Age|Experience|Salary|\n",
      "+---------+----+----------+------+\n",
      "|  Himmler|  34|         8| 54000|\n",
      "|     NULL|  23|         3| 16000|\n",
      "|  Hermann|  30|         1| 12000|\n",
      "|     Hans|NULL|      NULL| 22500|\n",
      "|Hellstrom|  32|         7| 45000|\n",
      "|     Eric|  35|         1| 20000|\n",
      "|     Hugo|  45|        10| 67000|\n",
      "|   Joseph|  27|         9|  NULL|\n",
      "|     NULL|  32|         6|  NULL|\n",
      "+---------+----+----------+------+\n",
      "\n"
     ]
    }
   ],
   "source": [
    "df_exp_2 = df_exp_2.drop('Experience After 2 Years')\n",
    "df_exp_2.show()"
   ]
  },
  {
   "cell_type": "markdown",
   "id": "dbbb2974-80e2-4dd8-8839-5c298c509ff7",
   "metadata": {},
   "source": [
    "### Renaming columns"
   ]
  },
  {
   "cell_type": "code",
   "execution_count": 90,
   "id": "bdcdcebc-9af2-4683-b26f-6fd4ccdf8f8b",
   "metadata": {},
   "outputs": [
    {
     "name": "stdout",
     "output_type": "stream",
     "text": [
      "+----------+----+----------+------+\n",
      "|First Name| Age|Experience|Salary|\n",
      "+----------+----+----------+------+\n",
      "|   Himmler|  34|         8| 54000|\n",
      "|      NULL|  23|         3| 16000|\n",
      "|   Hermann|  30|         1| 12000|\n",
      "|      Hans|NULL|      NULL| 22500|\n",
      "| Hellstrom|  32|         7| 45000|\n",
      "|      Eric|  35|         1| 20000|\n",
      "|      Hugo|  45|        10| 67000|\n",
      "|    Joseph|  27|         9|  NULL|\n",
      "|      NULL|  32|         6|  NULL|\n",
      "+----------+----+----------+------+\n",
      "\n"
     ]
    }
   ],
   "source": [
    "df_exp_2 = df_exp_2.withColumnRenamed('Name', 'First Name')\n",
    "df_exp_2.show()"
   ]
  },
  {
   "cell_type": "markdown",
   "id": "1167c879-9431-4a46-87c3-d373c064c958",
   "metadata": {},
   "source": [
    "### Handling missing values"
   ]
  },
  {
   "cell_type": "code",
   "execution_count": 91,
   "id": "86b8c025-d598-44da-903c-0ffbc1aaccc5",
   "metadata": {},
   "outputs": [
    {
     "name": "stdout",
     "output_type": "stream",
     "text": [
      "+---------+---+----------+------+\n",
      "|     Name|Age|Experience|Salary|\n",
      "+---------+---+----------+------+\n",
      "|  Himmler| 34|         8| 54000|\n",
      "|  Hermann| 30|         1| 12000|\n",
      "|Hellstrom| 32|         7| 45000|\n",
      "|     Eric| 35|         1| 20000|\n",
      "|     Hugo| 45|        10| 67000|\n",
      "+---------+---+----------+------+\n",
      "\n"
     ]
    }
   ],
   "source": [
    "df.na.drop().show()"
   ]
  },
  {
   "cell_type": "markdown",
   "id": "2b88666d-debc-45e0-adbe-b5010c528e40",
   "metadata": {},
   "source": [
    "### Dropping options\n",
    "- Whether to drop the row if `\"any\"` or `\"all\"` values in it's columns are `NULL`\n",
    "- Keep the row if it has atleast `thresh` number of **non-null** values\n",
    "- Choosing which `subset` of columns are to be checked for null values"
   ]
  },
  {
   "cell_type": "code",
   "execution_count": 96,
   "id": "446ca8b1-4a31-4ad8-8e4b-af375f6a349b",
   "metadata": {},
   "outputs": [
    {
     "name": "stdout",
     "output_type": "stream",
     "text": [
      "+---------+---+----------+------+\n",
      "|     Name|Age|Experience|Salary|\n",
      "+---------+---+----------+------+\n",
      "|  Himmler| 34|         8| 54000|\n",
      "|     NULL| 23|         3| 16000|\n",
      "|  Hermann| 30|         1| 12000|\n",
      "|Hellstrom| 32|         7| 45000|\n",
      "|     Eric| 35|         1| 20000|\n",
      "|     Hugo| 45|        10| 67000|\n",
      "|   Joseph| 27|         9|  NULL|\n",
      "+---------+---+----------+------+\n",
      "\n"
     ]
    }
   ],
   "source": [
    "df.na.drop(how='any', thresh=3).show()"
   ]
  },
  {
   "cell_type": "markdown",
   "id": "d08efeff-d28e-4e74-bd10-04aa4020eca4",
   "metadata": {},
   "source": [
    "* **`how=\"any\"`** will drop row(s) if **ANY** of their column(s) are `NULL`\n",
    "\n",
    "* **`how=\"all\"`** will drop row(s) if **ALL** of their column(s) are `NULL`"
   ]
  },
  {
   "cell_type": "markdown",
   "id": "13a03e95-0cce-4ef4-bc75-d636ba733a41",
   "metadata": {},
   "source": [
    "### Imputation strategies"
   ]
  },
  {
   "cell_type": "markdown",
   "id": "c942919e-e6f8-4023-90b3-ca79668035ef",
   "metadata": {},
   "source": [
    "#### 1. Using **default** values as per the inferred type of the column"
   ]
  },
  {
   "cell_type": "code",
   "execution_count": 93,
   "id": "7ff71a48-8a0f-40f3-a1fc-2d30652b4991",
   "metadata": {},
   "outputs": [
    {
     "name": "stdout",
     "output_type": "stream",
     "text": [
      "+---------+---+----------+------+\n",
      "|     Name|Age|Experience|Salary|\n",
      "+---------+---+----------+------+\n",
      "|  Himmler| 34|         8| 54000|\n",
      "|    nicht| 23|         3| 16000|\n",
      "|  Hermann| 30|         1| 12000|\n",
      "|     Hans|  0|         0| 22500|\n",
      "|Hellstrom| 32|         7| 45000|\n",
      "|     Eric| 35|         1| 20000|\n",
      "|     Hugo| 45|        10| 67000|\n",
      "|   Joseph| 27|         9|  NULL|\n",
      "|    nicht| 32|         6|  NULL|\n",
      "+---------+---+----------+------+\n",
      "\n"
     ]
    }
   ],
   "source": [
    "df.na.fill({\"Age\": 0, \"Experience\": 0, \"Name\": \"nicht\"}).show()"
   ]
  },
  {
   "cell_type": "markdown",
   "id": "33cdfa52-c955-411e-801a-8ba48b9ee369",
   "metadata": {},
   "source": [
    "#### 2. Using **ML**\n",
    "- Mindfully pick a strategy, such as `\"mean\"` or `\"median\"`"
   ]
  },
  {
   "cell_type": "code",
   "execution_count": 98,
   "id": "3dc7828a-edbe-4196-8050-5cd4cccdd67e",
   "metadata": {},
   "outputs": [],
   "source": [
    "imputer = Imputer(\n",
    "    inputCols=['Age', 'Experience', 'Salary'],\n",
    "    outputCols=[f\"{column}_imputed\" for column in df.columns[1:]],\n",
    ").setStrategy('mean')"
   ]
  },
  {
   "cell_type": "code",
   "execution_count": 99,
   "id": "ede178b5-dcd7-40fe-ad15-b01b5d1ac3a6",
   "metadata": {},
   "outputs": [
    {
     "name": "stdout",
     "output_type": "stream",
     "text": [
      "+---------+----+----------+------+-----------+------------------+--------------+\n",
      "|     Name| Age|Experience|Salary|Age_imputed|Experience_imputed|Salary_imputed|\n",
      "+---------+----+----------+------+-----------+------------------+--------------+\n",
      "|  Himmler|  34|         8| 54000|         34|                 8|         54000|\n",
      "|     NULL|  23|         3| 16000|         23|                 3|         16000|\n",
      "|  Hermann|  30|         1| 12000|         30|                 1|         12000|\n",
      "|     Hans|NULL|      NULL| 22500|         32|                 5|         22500|\n",
      "|Hellstrom|  32|         7| 45000|         32|                 7|         45000|\n",
      "|     Eric|  35|         1| 20000|         35|                 1|         20000|\n",
      "|     Hugo|  45|        10| 67000|         45|                10|         67000|\n",
      "|   Joseph|  27|         9|  NULL|         27|                 9|         33785|\n",
      "|     NULL|  32|         6|  NULL|         32|                 6|         33785|\n",
      "+---------+----+----------+------+-----------+------------------+--------------+\n",
      "\n"
     ]
    }
   ],
   "source": [
    "imputer.fit(df).transform(df).show()"
   ]
  },
  {
   "cell_type": "markdown",
   "id": "213b947c-b46f-4e59-9d37-94b2a0f34a39",
   "metadata": {},
   "source": [
    "### Filters"
   ]
  },
  {
   "cell_type": "code",
   "execution_count": 105,
   "id": "0b4ded40-cbb3-4f6b-956d-5007dca42fc9",
   "metadata": {},
   "outputs": [
    {
     "name": "stdout",
     "output_type": "stream",
     "text": [
      "+-------+---+----------+------+\n",
      "|   Name|Age|Experience|Salary|\n",
      "+-------+---+----------+------+\n",
      "|   NULL| 23|         3| 16000|\n",
      "|Hermann| 30|         1| 12000|\n",
      "|   Eric| 35|         1| 20000|\n",
      "+-------+---+----------+------+\n",
      "\n",
      "+---------+---+----------+------+\n",
      "|     Name|Age|Experience|Salary|\n",
      "+---------+---+----------+------+\n",
      "|  Himmler| 34|         8| 54000|\n",
      "|Hellstrom| 32|         7| 45000|\n",
      "|     Hugo| 45|        10| 67000|\n",
      "+---------+---+----------+------+\n",
      "\n"
     ]
    }
   ],
   "source": [
    "q1 = \"Salary<=20000\"\n",
    "q2 = \"Salary>=40000\"\n",
    "\n",
    "df.filter(q1).show()\n",
    "df.filter(q2).show()"
   ]
  },
  {
   "cell_type": "markdown",
   "id": "182b3f10-40c5-408b-9e21-4d5cb35298c5",
   "metadata": {},
   "source": [
    "#### Joining two filter queries"
   ]
  },
  {
   "cell_type": "code",
   "execution_count": 110,
   "id": "03dec967-070d-44d4-b50d-ec3af0dd176a",
   "metadata": {},
   "outputs": [
    {
     "name": "stdout",
     "output_type": "stream",
     "text": [
      "+---------+---+----------+------+\n",
      "|     Name|Age|Experience|Salary|\n",
      "+---------+---+----------+------+\n",
      "|  Himmler| 34|         8| 54000|\n",
      "|     NULL| 23|         3| 16000|\n",
      "|  Hermann| 30|         1| 12000|\n",
      "|Hellstrom| 32|         7| 45000|\n",
      "|     Eric| 35|         1| 20000|\n",
      "|     Hugo| 45|        10| 67000|\n",
      "+---------+---+----------+------+\n",
      "\n"
     ]
    }
   ],
   "source": [
    "df.filter((df['Salary'] <= 20000) | (df['Salary'] >= 40000)).show()"
   ]
  },
  {
   "cell_type": "markdown",
   "id": "0d2f1a33-da8d-4692-9a6e-476596c7c3f3",
   "metadata": {},
   "source": [
    "#### Negating a filter query"
   ]
  },
  {
   "cell_type": "code",
   "execution_count": 114,
   "id": "677c0563-1bda-4883-879a-7be1adb25e32",
   "metadata": {},
   "outputs": [
    {
     "name": "stdout",
     "output_type": "stream",
     "text": [
      "+-------+---+----------+------+\n",
      "|   Name|Age|Experience|Salary|\n",
      "+-------+---+----------+------+\n",
      "|   NULL| 23|         3| 16000|\n",
      "|Hermann| 30|         1| 12000|\n",
      "+-------+---+----------+------+\n",
      "\n"
     ]
    }
   ],
   "source": [
    "df.filter(~(df['Salary'] >= 20000)).show()"
   ]
  },
  {
   "cell_type": "markdown",
   "id": "66adcb03-f706-41b1-8d52-0f3efa34bd55",
   "metadata": {},
   "source": [
    "### Aggregations"
   ]
  },
  {
   "cell_type": "markdown",
   "id": "9faa536f-bc02-4700-a6f9-c630d22567e1",
   "metadata": {},
   "source": [
    "#### New sample dataset\n",
    "> One that is more suitable for aggregation use cases."
   ]
  },
  {
   "cell_type": "code",
   "execution_count": 28,
   "id": "09ff204e-bf42-4d5a-a83f-5fd20cb8fbe5",
   "metadata": {},
   "outputs": [
    {
     "name": "stdout",
     "output_type": "stream",
     "text": [
      "+------+----------------+------+\n",
      "|  Name|      Department|Salary|\n",
      "+------+----------------+------+\n",
      "|  Eric|  Data Analytics| 15000|\n",
      "|  Eric|  Infrastructure|  8000|\n",
      "|  Karl|Data Warehousing|  9500|\n",
      "|  Hans|Data Warehousing| 10000|\n",
      "|  Karl|  Data Analytics| 12500|\n",
      "|Thomas|  Data Analytics| 12500|\n",
      "|Thomas|  Infrastructure|  9000|\n",
      "|Thomas|Data Warehousing|  8000|\n",
      "|   Max|  Data Analytics| 15000|\n",
      "|   Max|Data Warehousing|  8000|\n",
      "+------+----------------+------+\n",
      "\n"
     ]
    }
   ],
   "source": [
    "filepath2 = r\"../ML/Data/Sample2.csv\"\n",
    "\n",
    "df2 = spark.read \\\n",
    "        .option('header', 'true') \\\n",
    "        .csv(filepath2, inferSchema=True)\n",
    "\n",
    "df2.show()"
   ]
  },
  {
   "cell_type": "code",
   "execution_count": 29,
   "id": "058dcf59",
   "metadata": {},
   "outputs": [
    {
     "name": "stdout",
     "output_type": "stream",
     "text": [
      "+------+----------------+------+\n",
      "|  Name|            Dept|Salary|\n",
      "+------+----------------+------+\n",
      "|  Eric|  Data Analytics| 15000|\n",
      "|  Eric|  Infrastructure|  8000|\n",
      "|  Karl|Data Warehousing|  9500|\n",
      "|  Hans|Data Warehousing| 10000|\n",
      "|  Karl|  Data Analytics| 12500|\n",
      "|Thomas|  Data Analytics| 12500|\n",
      "|Thomas|  Infrastructure|  9000|\n",
      "|Thomas|Data Warehousing|  8000|\n",
      "|   Max|  Data Analytics| 15000|\n",
      "|   Max|Data Warehousing|  8000|\n",
      "+------+----------------+------+\n",
      "\n"
     ]
    }
   ],
   "source": [
    "df2 = df2.withColumnRenamed('Department', 'Dept')\n",
    "\n",
    "df2.show()"
   ]
  },
  {
   "cell_type": "markdown",
   "id": "8b04abf2",
   "metadata": {},
   "source": [
    "#### Convert to `.csv` format\n",
    "> Should it be necessary... keep in mind that this is ONLY recommended if you are working with **SMALL** datasets."
   ]
  },
  {
   "cell_type": "code",
   "execution_count": null,
   "id": "cf5948aa",
   "metadata": {},
   "outputs": [],
   "source": [
    "df2.toPandas() \\\n",
    "    .to_csv(filepath2)"
   ]
  },
  {
   "cell_type": "markdown",
   "id": "397bed63",
   "metadata": {},
   "source": [
    "> For high volume datasets, **Spark** will create a **directory**, possibly containing multiple **partitions**."
   ]
  },
  {
   "cell_type": "code",
   "execution_count": 32,
   "id": "cece24e6-7c5a-45bb-a595-ce5d4044804b",
   "metadata": {},
   "outputs": [
    {
     "name": "stdout",
     "output_type": "stream",
     "text": [
      "root\n",
      " |-- Name: string (nullable = true)\n",
      " |-- Department: string (nullable = true)\n",
      " |-- Salary: integer (nullable = true)\n",
      "\n"
     ]
    }
   ],
   "source": [
    "df2.printSchema()"
   ]
  },
  {
   "cell_type": "code",
   "execution_count": 33,
   "id": "c58e9459-89e2-4ddd-84bc-703d0aee331e",
   "metadata": {},
   "outputs": [
    {
     "name": "stdout",
     "output_type": "stream",
     "text": [
      "+-------+------+--------------+-----------------+\n",
      "|summary|  Name|    Department|           Salary|\n",
      "+-------+------+--------------+-----------------+\n",
      "|  count|    10|            10|               10|\n",
      "|   mean|  NULL|          NULL|          10750.0|\n",
      "| stddev|  NULL|          NULL|2791.355704074038|\n",
      "|    min|  Eric|Data Analytics|             8000|\n",
      "|    max|Thomas|Infrastructure|            15000|\n",
      "+-------+------+--------------+-----------------+\n",
      "\n"
     ]
    }
   ],
   "source": [
    "df2.describe().show()"
   ]
  },
  {
   "cell_type": "markdown",
   "id": "9a8323a8-4b50-4f6c-b862-b8f4f1fdbf10",
   "metadata": {},
   "source": [
    "#### Highest **total salary** by `Name`"
   ]
  },
  {
   "cell_type": "code",
   "execution_count": 34,
   "id": "51589771-5457-4a77-b215-5be53bc072fb",
   "metadata": {},
   "outputs": [
    {
     "name": "stdout",
     "output_type": "stream",
     "text": [
      "+------+------------+\n",
      "|  Name|Total Salary|\n",
      "+------+------------+\n",
      "|Thomas|       29500|\n",
      "+------+------------+\n",
      "\n"
     ]
    }
   ],
   "source": [
    "df2.groupby('Name') \\\n",
    "    .sum() \\\n",
    "    .withColumnRenamed('sum(Salary)', 'Total Salary') \\\n",
    "    .sort(['Total Salary'], ascending=False) \\\n",
    "    .limit(1) \\\n",
    "    .show()"
   ]
  },
  {
   "cell_type": "markdown",
   "id": "64df6d9e-e3d9-45ec-8838-1bb2293ddb53",
   "metadata": {},
   "source": [
    "#### Highest **average salary** by `Name`"
   ]
  },
  {
   "cell_type": "code",
   "execution_count": 35,
   "id": "f6f5facc-56d3-4552-abb1-00fb4aa8697b",
   "metadata": {},
   "outputs": [
    {
     "name": "stdout",
     "output_type": "stream",
     "text": [
      "+----+------------+\n",
      "|Name|Total Salary|\n",
      "+----+------------+\n",
      "|Eric|     11500.0|\n",
      "+----+------------+\n",
      "\n"
     ]
    }
   ],
   "source": [
    "df2.groupby('Name') \\\n",
    "    .avg() \\\n",
    "    .withColumnRenamed('avg(Salary)', 'Total Salary') \\\n",
    "    .sort(['Total Salary'], ascending=False) \\\n",
    "    .limit(1) \\\n",
    "    .show()"
   ]
  },
  {
   "cell_type": "markdown",
   "id": "412d921e-180d-420a-887f-663ca89a1658",
   "metadata": {},
   "source": [
    "#### Highest **total salary** by `Department`"
   ]
  },
  {
   "cell_type": "code",
   "execution_count": 36,
   "id": "57ab844c-c7c6-4387-9260-a647c89cea1c",
   "metadata": {},
   "outputs": [
    {
     "name": "stdout",
     "output_type": "stream",
     "text": [
      "+--------------+------------+\n",
      "|    Department|Total Salary|\n",
      "+--------------+------------+\n",
      "|Data Analytics|       55000|\n",
      "+--------------+------------+\n",
      "\n"
     ]
    }
   ],
   "source": [
    "df2.groupby('Department') \\\n",
    "    .sum() \\\n",
    "    .withColumnRenamed('sum(Salary)', 'Total Salary') \\\n",
    "    .sort(['Total Salary'], ascending=False) \\\n",
    "    .limit(1) \\\n",
    "    .show()"
   ]
  },
  {
   "cell_type": "markdown",
   "id": "a6d0cfcb-d8c4-4753-aa18-0af230de207d",
   "metadata": {},
   "source": [
    "#### **Number** of employees by `Department`"
   ]
  },
  {
   "cell_type": "code",
   "execution_count": 37,
   "id": "ee1ea648-0554-4c53-887f-7dddcee050f2",
   "metadata": {},
   "outputs": [
    {
     "name": "stdout",
     "output_type": "stream",
     "text": [
      "+----------------+-------------------+\n",
      "|      Department|Number of Employees|\n",
      "+----------------+-------------------+\n",
      "|  Data Analytics|                  4|\n",
      "|  Infrastructure|                  2|\n",
      "|Data Warehousing|                  4|\n",
      "+----------------+-------------------+\n",
      "\n"
     ]
    }
   ],
   "source": [
    "df2.groupby('Department') \\\n",
    "    .count() \\\n",
    "    .withColumnRenamed('count', 'Number of Employees') \\\n",
    "    .show()"
   ]
  },
  {
   "cell_type": "markdown",
   "id": "e0306a7d-5f23-4edf-a0c7-240204eab4b6",
   "metadata": {},
   "source": [
    "#### Grand total salary\n",
    "> **agg.** for all employees"
   ]
  },
  {
   "cell_type": "code",
   "execution_count": 38,
   "id": "0521edc1-d1ef-4240-87bc-453bdc5811cf",
   "metadata": {},
   "outputs": [
    {
     "name": "stdout",
     "output_type": "stream",
     "text": [
      "+------------------+\n",
      "|Grand Total Salary|\n",
      "+------------------+\n",
      "|            107500|\n",
      "+------------------+\n",
      "\n"
     ]
    }
   ],
   "source": [
    "df2.agg({'Salary' : 'sum'}) \\\n",
    "    .withColumnRenamed('sum(Salary)', 'Grand Total Salary') \\\n",
    "    .show()"
   ]
  },
  {
   "cell_type": "code",
   "execution_count": 31,
   "id": "89dcc134-173f-4322-98c1-ea04aef5766d",
   "metadata": {},
   "outputs": [],
   "source": [
    "# TODO: Be seein' ya."
   ]
  }
 ],
 "metadata": {
  "kernelspec": {
   "display_name": "base",
   "language": "python",
   "name": "python3"
  },
  "language_info": {
   "codemirror_mode": {
    "name": "ipython",
    "version": 3
   },
   "file_extension": ".py",
   "mimetype": "text/x-python",
   "name": "python",
   "nbconvert_exporter": "python",
   "pygments_lexer": "ipython3",
   "version": "3.12.3"
  }
 },
 "nbformat": 4,
 "nbformat_minor": 5
}
