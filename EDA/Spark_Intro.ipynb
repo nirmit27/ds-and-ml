{
 "cells": [
  {
   "cell_type": "markdown",
   "id": "5240a61a-b7f4-4b2d-8177-6ddd53cb2390",
   "metadata": {},
   "source": [
    "# Introduction to Spark"
   ]
  },
  {
   "cell_type": "markdown",
   "id": "cd5c2e9b-172b-4904-a930-04c364ce5e77",
   "metadata": {},
   "source": [
    "### Importing the necessary libraries"
   ]
  },
  {
   "cell_type": "code",
   "execution_count": 1,
   "id": "03dd510f-de4a-4335-8e59-2c4965f23a9f",
   "metadata": {},
   "outputs": [
    {
     "data": {
      "text/plain": [
       "Ellipsis"
      ]
     },
     "execution_count": 1,
     "metadata": {},
     "output_type": "execute_result"
    }
   ],
   "source": [
    "import os\n",
    "import re\n",
    "import json\n",
    "\n",
    "import warnings\n",
    "from pprint import pprint\n",
    "\n",
    "# DML\n",
    "import numpy as np\n",
    "import pandas as pd\n",
    "\n",
    "# Spark\n",
    "from pyspark.sql import SparkSession\n",
    "\n",
    "..."
   ]
  },
  {
   "cell_type": "markdown",
   "id": "29a588b6-916d-4da5-ac79-e3ed1668faca",
   "metadata": {},
   "source": [
    "### Setup and configuration"
   ]
  },
  {
   "cell_type": "code",
   "execution_count": 2,
   "id": "27153456-6e6f-4e98-8945-fd2e31e4730e",
   "metadata": {},
   "outputs": [],
   "source": [
    "spark = SparkSession.builder \\\n",
    "            .appName('Test0') \\\n",
    "            .getOrCreate()"
   ]
  },
  {
   "cell_type": "code",
   "execution_count": 3,
   "id": "01baa52a-da4d-41cf-9b2a-b65448a6f11d",
   "metadata": {},
   "outputs": [
    {
     "data": {
      "text/html": [
       "\n",
       "            <div>\n",
       "                <p><b>SparkSession - in-memory</b></p>\n",
       "                \n",
       "        <div>\n",
       "            <p><b>SparkContext</b></p>\n",
       "\n",
       "            <p><a href=\"http://192.168.1.5:4040\">Spark UI</a></p>\n",
       "\n",
       "            <dl>\n",
       "              <dt>Version</dt>\n",
       "                <dd><code>v4.0.1</code></dd>\n",
       "              <dt>Master</dt>\n",
       "                <dd><code>local[*]</code></dd>\n",
       "              <dt>AppName</dt>\n",
       "                <dd><code>Test0</code></dd>\n",
       "            </dl>\n",
       "        </div>\n",
       "        \n",
       "            </div>\n",
       "        "
      ],
      "text/plain": [
       "<pyspark.sql.session.SparkSession at 0x19d6a2ed3a0>"
      ]
     },
     "execution_count": 3,
     "metadata": {},
     "output_type": "execute_result"
    }
   ],
   "source": [
    "spark"
   ]
  },
  {
   "cell_type": "markdown",
   "id": "07d80e94-428d-411c-9fb1-12237759e4c9",
   "metadata": {},
   "source": [
    "## DQL"
   ]
  },
  {
   "cell_type": "code",
   "execution_count": 61,
   "id": "0b044a60-efdd-4c00-a0d5-4ea03a836ec5",
   "metadata": {},
   "outputs": [
    {
     "name": "stdout",
     "output_type": "stream",
     "text": [
      "+---------+---+----------+\n",
      "|     Name|Age|Experience|\n",
      "+---------+---+----------+\n",
      "|  Himmler| 23|         2|\n",
      "|  Hermann| 22|         1|\n",
      "|     Hans| 21|         0|\n",
      "|Hellstrom| 25|         3|\n",
      "+---------+---+----------+\n",
      "\n"
     ]
    }
   ],
   "source": [
    "filepath = r\"./datasets/Sample1.csv\"\n",
    "\n",
    "df = spark.read \\\n",
    "        .option('header', 'true') \\\n",
    "        .csv(filepath, inferSchema=True)\n",
    "df.show()"
   ]
  },
  {
   "cell_type": "code",
   "execution_count": 32,
   "id": "4dba13f5-4583-4911-9bcf-73e8646d77c8",
   "metadata": {},
   "outputs": [
    {
     "data": {
      "text/plain": [
       "pyspark.sql.classic.dataframe.DataFrame"
      ]
     },
     "execution_count": 32,
     "metadata": {},
     "output_type": "execute_result"
    }
   ],
   "source": [
    "type(df)"
   ]
  },
  {
   "cell_type": "markdown",
   "id": "d746225e-be52-4778-9a6d-a12f56fe62b7",
   "metadata": {},
   "source": [
    "### Fetching records"
   ]
  },
  {
   "cell_type": "code",
   "execution_count": 33,
   "id": "d6a62c43-0964-46d2-a7ec-b7ef8c0f8475",
   "metadata": {},
   "outputs": [
    {
     "name": "stdout",
     "output_type": "stream",
     "text": [
      "Himmler, 23, 2\n",
      "Hermann, 22, 1\n",
      "Hans, 21, 0\n",
      "Hellstrom, 25, 3\n"
     ]
    }
   ],
   "source": [
    "for row in df.head(5):\n",
    "    name, age, exp = row\n",
    "    print(f\"{name}, {age}, {exp}\")"
   ]
  },
  {
   "cell_type": "markdown",
   "id": "66bb4edf-52bb-43d5-8c20-b10ac30eb2a5",
   "metadata": {},
   "source": [
    "### Visualizing schema"
   ]
  },
  {
   "cell_type": "code",
   "execution_count": 35,
   "id": "ecd21b5b-eac6-480e-ae75-f731bf91df78",
   "metadata": {},
   "outputs": [
    {
     "name": "stdout",
     "output_type": "stream",
     "text": [
      "root\n",
      " |-- Name: string (nullable = true)\n",
      " |-- Age: integer (nullable = true)\n",
      " |-- Experience: integer (nullable = true)\n",
      "\n"
     ]
    }
   ],
   "source": [
    "df.printSchema()"
   ]
  },
  {
   "cell_type": "code",
   "execution_count": 36,
   "id": "6d167afc-043f-4dff-8bdd-9fd8f6b6f393",
   "metadata": {},
   "outputs": [
    {
     "data": {
      "text/plain": [
       "['Name', 'Age', 'Experience']"
      ]
     },
     "execution_count": 36,
     "metadata": {},
     "output_type": "execute_result"
    }
   ],
   "source": [
    "df.columns"
   ]
  },
  {
   "cell_type": "markdown",
   "id": "d0a366f1-6a63-4f42-b504-9c10b74caeb6",
   "metadata": {},
   "source": [
    "### Selecting columns"
   ]
  },
  {
   "cell_type": "code",
   "execution_count": 41,
   "id": "33304c86-1741-49d6-a39a-349b9bf8ee11",
   "metadata": {},
   "outputs": [
    {
     "name": "stdout",
     "output_type": "stream",
     "text": [
      "+---------+\n",
      "|     Name|\n",
      "+---------+\n",
      "|  Himmler|\n",
      "|  Hermann|\n",
      "|     Hans|\n",
      "|Hellstrom|\n",
      "+---------+\n",
      "\n",
      "+---+\n",
      "|Age|\n",
      "+---+\n",
      "| 23|\n",
      "| 22|\n",
      "| 21|\n",
      "| 25|\n",
      "+---+\n",
      "\n",
      "+----------+\n",
      "|Experience|\n",
      "+----------+\n",
      "|         2|\n",
      "|         1|\n",
      "|         0|\n",
      "|         3|\n",
      "+----------+\n",
      "\n"
     ]
    }
   ],
   "source": [
    "for column in df.columns:\n",
    "    df.select(column).show()"
   ]
  },
  {
   "cell_type": "code",
   "execution_count": 43,
   "id": "464d3c36-2282-477c-ac1f-90de743bcbab",
   "metadata": {},
   "outputs": [
    {
     "data": {
      "text/plain": [
       "[('Name', 'string'), ('Age', 'int'), ('Experience', 'int')]"
      ]
     },
     "execution_count": 43,
     "metadata": {},
     "output_type": "execute_result"
    }
   ],
   "source": [
    "df.dtypes"
   ]
  },
  {
   "cell_type": "code",
   "execution_count": 45,
   "id": "98d8be5c-878e-4af8-94fa-430cafea783b",
   "metadata": {},
   "outputs": [
    {
     "name": "stdout",
     "output_type": "stream",
     "text": [
      "+-------+-------+-----------------+------------------+\n",
      "|summary|   Name|              Age|        Experience|\n",
      "+-------+-------+-----------------+------------------+\n",
      "|  count|      4|                4|                 4|\n",
      "|   mean|   NULL|            22.75|               1.5|\n",
      "| stddev|   NULL|1.707825127659933|1.2909944487358056|\n",
      "|    min|   Hans|               21|                 0|\n",
      "|    max|Himmler|               25|                 3|\n",
      "+-------+-------+-----------------+------------------+\n",
      "\n"
     ]
    }
   ],
   "source": [
    "df.describe().show()"
   ]
  },
  {
   "cell_type": "markdown",
   "id": "65e27b66-aa67-4bef-a125-84d5ad090899",
   "metadata": {},
   "source": [
    "## DML"
   ]
  },
  {
   "cell_type": "markdown",
   "id": "447500bd-9b14-4c05-b10e-af7264be5265",
   "metadata": {},
   "source": [
    "### Adding columns with operations\n",
    "> Adding **2 years** of experience to the experience column values"
   ]
  },
  {
   "cell_type": "code",
   "execution_count": 56,
   "id": "258aafc0-11ef-4764-9598-b7b7f8e01c61",
   "metadata": {},
   "outputs": [
    {
     "name": "stdout",
     "output_type": "stream",
     "text": [
      "+---------+---+----------+------------------------+\n",
      "|     Name|Age|Experience|Experience After 2 Years|\n",
      "+---------+---+----------+------------------------+\n",
      "|  Himmler| 23|         2|                       4|\n",
      "|  Hermann| 22|         1|                       3|\n",
      "|     Hans| 21|         0|                       2|\n",
      "|Hellstrom| 25|         3|                       5|\n",
      "+---------+---+----------+------------------------+\n",
      "\n"
     ]
    }
   ],
   "source": [
    "df_exp_2 = df.withColumn('Experience After 2 Years', df['Experience'] + 2)\n",
    "df_exp_2.show()"
   ]
  },
  {
   "cell_type": "markdown",
   "id": "ba5acfa5-72f9-46b9-b3bc-b1e3f322a5fb",
   "metadata": {},
   "source": [
    "### Dropping columns\n",
    "> Dropping the **`Experience After 2 Years`** column"
   ]
  },
  {
   "cell_type": "code",
   "execution_count": 55,
   "id": "b737a485-62ce-454a-bbb4-00ce5ca2e81f",
   "metadata": {},
   "outputs": [
    {
     "name": "stdout",
     "output_type": "stream",
     "text": [
      "+---------+---+----------+\n",
      "|     Name|Age|Experience|\n",
      "+---------+---+----------+\n",
      "|  Himmler| 23|         2|\n",
      "|  Hermann| 22|         1|\n",
      "|     Hans| 21|         0|\n",
      "|Hellstrom| 25|         3|\n",
      "+---------+---+----------+\n",
      "\n"
     ]
    }
   ],
   "source": [
    "df_exp_2 = df_exp_2.drop('Experience After 2 Years')\n",
    "df_exp_2.show()"
   ]
  },
  {
   "cell_type": "markdown",
   "id": "dbbb2974-80e2-4dd8-8839-5c298c509ff7",
   "metadata": {},
   "source": [
    "### Renaming columns"
   ]
  },
  {
   "cell_type": "code",
   "execution_count": 60,
   "id": "bdcdcebc-9af2-4683-b26f-6fd4ccdf8f8b",
   "metadata": {},
   "outputs": [
    {
     "name": "stdout",
     "output_type": "stream",
     "text": [
      "+----------+---+----------+------------------------+\n",
      "|First Name|Age|Experience|Experience After 2 Years|\n",
      "+----------+---+----------+------------------------+\n",
      "|   Himmler| 23|         2|                       4|\n",
      "|   Hermann| 22|         1|                       3|\n",
      "|      Hans| 21|         0|                       2|\n",
      "| Hellstrom| 25|         3|                       5|\n",
      "+----------+---+----------+------------------------+\n",
      "\n"
     ]
    }
   ],
   "source": [
    "df_exp_2 = df_exp_2.withColumnRenamed('Name', 'First Name')\n",
    "df_exp_2.show()"
   ]
  },
  {
   "cell_type": "code",
   "execution_count": null,
   "id": "eeb3f69b-6606-4e5f-9d7a-a7a130e350a2",
   "metadata": {},
   "outputs": [],
   "source": []
  },
  {
   "cell_type": "code",
   "execution_count": 59,
   "id": "86b8c025-d598-44da-903c-0ffbc1aaccc5",
   "metadata": {},
   "outputs": [],
   "source": [
    "# TODO: TBD"
   ]
  }
 ],
 "metadata": {
  "kernelspec": {
   "display_name": "Python 3 (ipykernel)",
   "language": "python",
   "name": "python3"
  },
  "language_info": {
   "codemirror_mode": {
    "name": "ipython",
    "version": 3
   },
   "file_extension": ".py",
   "mimetype": "text/x-python",
   "name": "python",
   "nbconvert_exporter": "python",
   "pygments_lexer": "ipython3",
   "version": "3.12.3"
  }
 },
 "nbformat": 4,
 "nbformat_minor": 5
}
