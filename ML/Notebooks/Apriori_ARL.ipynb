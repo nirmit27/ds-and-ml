{
  "cells": [
    {
      "cell_type": "markdown",
      "metadata": {
        "id": "view-in-github",
        "colab_type": "text"
      },
      "source": [
        "<a href=\"https://colab.research.google.com/github/nirmit27/ml-notebooks/blob/main/ML/Apriori_ARL.ipynb\" target=\"_parent\"><img src=\"https://colab.research.google.com/assets/colab-badge.svg\" alt=\"Open In Colab\"/></a>"
      ]
    },
    {
      "cell_type": "markdown",
      "metadata": {
        "id": "Vvfa9ZC8unwN"
      },
      "source": [
        "# **Apriori** Algorithm for **Association Rule Learning**"
      ]
    },
    {
      "cell_type": "markdown",
      "metadata": {
        "id": "4wItOi5qve8N"
      },
      "source": [
        "### Importing the necessary modules"
      ]
    },
    {
      "cell_type": "code",
      "execution_count": null,
      "metadata": {
        "id": "4GFmGfGkeILp"
      },
      "outputs": [],
      "source": [
        "!pip install --upgrade ipykernel\n",
        "!pip install mlxtend\n",
        "\n",
        "from google.colab import drive\n",
        "drive.mount('/content/drive/')"
      ]
    },
    {
      "cell_type": "code",
      "execution_count": null,
      "metadata": {
        "id": "fM8SpBpDuyGm"
      },
      "outputs": [],
      "source": [
        "import numpy as np\n",
        "import pandas as pd\n",
        "\n",
        "import matplotlib.pyplot as plt\n",
        "%matplotlib inline\n",
        "\n",
        "from collections import Counter\n",
        "from mlxtend.frequent_patterns import apriori, association_rules"
      ]
    },
    {
      "cell_type": "markdown",
      "metadata": {
        "id": "0jQtFtlIvZTG"
      },
      "source": [
        "### Reading the **transactions**"
      ]
    },
    {
      "cell_type": "code",
      "execution_count": null,
      "metadata": {
        "colab": {
          "base_uri": "https://localhost:8080/"
        },
        "id": "dMuGsKnIvNEP",
        "outputId": "ff2fdfbb-cffe-4756-d50a-7ea80dd0a179"
      },
      "outputs": [
        {
          "name": "stdout",
          "output_type": "stream",
          "text": [
            "Number of transactions : 9836\n"
          ]
        }
      ],
      "source": [
        "groceries = []\n",
        "filepath = r\"data/groceries.csv\"\n",
        "\n",
        "with open(filepath, 'r') as input_data:\n",
        "  groceries = input_data.read().split(\"\\n\")\n",
        "\n",
        "print(f\"Number of transactions : {len(groceries)}\")"
      ]
    },
    {
      "cell_type": "markdown",
      "metadata": {
        "id": "aPIvMPFxwLec"
      },
      "source": [
        "### Obtaining the **items** in each transaction"
      ]
    },
    {
      "cell_type": "code",
      "execution_count": null,
      "metadata": {
        "colab": {
          "base_uri": "https://localhost:8080/"
        },
        "id": "FqAoeRZgwTUy",
        "outputId": "a7643ab4-5520-450b-82d9-df31b4e03b0d"
      },
      "outputs": [
        {
          "data": {
            "text/plain": [
              "9836"
            ]
          },
          "execution_count": 5,
          "metadata": {},
          "output_type": "execute_result"
        }
      ],
      "source": [
        "transactions = []\n",
        "for transaction in groceries:\n",
        "  transactions.append(transaction.split(\",\"))\n",
        "\n",
        "len(transactions)"
      ]
    },
    {
      "cell_type": "markdown",
      "metadata": {
        "id": "RL30SZLy0np7"
      },
      "source": [
        "### Obtaining the **unique** items and their **frequencies**"
      ]
    },
    {
      "cell_type": "code",
      "execution_count": null,
      "metadata": {
        "colab": {
          "base_uri": "https://localhost:8080/"
        },
        "id": "g6NlF3v_0tdQ",
        "outputId": "c2da5899-a7ca-41f4-a5ac-37b16e31dbad"
      },
      "outputs": [
        {
          "data": {
            "text/plain": [
              "[('citrus fruit', 814),\n",
              " ('semi-finished bread', 174),\n",
              " ('margarine', 576),\n",
              " ('ready soups', 18),\n",
              " ('tropical fruit', 1032)]"
            ]
          },
          "execution_count": 6,
          "metadata": {},
          "output_type": "execute_result"
        }
      ],
      "source": [
        "items_ = [item for transaction in transactions for item in transaction]\n",
        "item_counts = Counter(items_)\n",
        "\n",
        "# Removing an empty '' item\n",
        "del item_counts[\"\"]\n",
        "\n",
        "# for key, value in item_counts.items():\n",
        "#   print(f\"{key} : {value}\")\n",
        "\n",
        "list(item_counts.items())[:5]"
      ]
    },
    {
      "cell_type": "markdown",
      "metadata": {
        "id": "x85WX9IU24IM"
      },
      "source": [
        "### Storing item **names** and **frequency** seperately\n",
        "> In **descending** order"
      ]
    },
    {
      "cell_type": "code",
      "execution_count": null,
      "metadata": {
        "colab": {
          "base_uri": "https://localhost:8080/"
        },
        "id": "TZ0sos-j276P",
        "outputId": "bb3e130a-8dec-40b8-a45e-02d6ce35125e"
      },
      "outputs": [
        {
          "data": {
            "text/plain": [
              "(['Whole Milk', 'Other Vegetables', 'Rolls/Buns', 'Soda', 'Yogurt'],\n",
              " [2513, 1903, 1809, 1715, 1372])"
            ]
          },
          "execution_count": 7,
          "metadata": {},
          "output_type": "execute_result"
        }
      ],
      "source": [
        "temp = sorted(item_counts.items(), key=lambda x: x[1], reverse=True)\n",
        "freq_sorted = [x[1] for x in temp]\n",
        "items_sorted = [x[0].title() for x in temp]\n",
        "\n",
        "items_sorted[:5], freq_sorted[:5]"
      ]
    },
    {
      "cell_type": "code",
      "execution_count": null,
      "metadata": {
        "colab": {
          "base_uri": "https://localhost:8080/"
        },
        "id": "PtUVyITnf0to",
        "outputId": "e10afeaf-aa59-4195-af05-58739b335dc3"
      },
      "outputs": [
        {
          "name": "stdout",
          "output_type": "stream",
          "text": [
            "Number of items : 169\n"
          ]
        }
      ],
      "source": [
        "print(f\"Number of items : {len(items_sorted)}\")"
      ]
    },
    {
      "cell_type": "markdown",
      "metadata": {
        "id": "moqt2H9j5rkx"
      },
      "source": [
        "### Plotting the item **frequencies**\n",
        "> Only the **top 10** items"
      ]
    },
    {
      "cell_type": "code",
      "execution_count": null,
      "metadata": {
        "colab": {
          "base_uri": "https://localhost:8080/",
          "height": 662
        },
        "id": "rNFcNdKQ5l3B",
        "outputId": "973eb4c0-5f91-4fed-a3fc-f248eb2e11b0"
      },
      "outputs": [
        {
          "data": {
            "image/png": "[encoded data removed]",
            "text/plain": [
              "<Figure size 1200x600 with 1 Axes>"
            ]
          },
          "metadata": {},
          "output_type": "display_data"
        }
      ],
      "source": [
        "plt.figure(figsize=(12, 6))\n",
        "plt.bar(height = freq_sorted[0:10], x = items_sorted[0:10], color=['r', 'g', 'b'])\n",
        "\n",
        "plt.title(\"Top 10 items\", fontweight='bold', fontsize=16)\n",
        "plt.xlabel(\"Items\", fontweight='bold',)\n",
        "plt.ylabel(\"Frequency\", fontweight='bold',)\n",
        "\n",
        "plt.xticks(rotation=45, ha=\"right\")\n",
        "plt.tight_layout()\n",
        "plt.show()"
      ]
    },
    {
      "cell_type": "markdown",
      "metadata": {
        "id": "0FS9u9bW7Uig"
      },
      "source": [
        "### Creating a **dataframe** for the transactions"
      ]
    },
    {
      "cell_type": "code",
      "execution_count": null,
      "metadata": {
        "colab": {
          "base_uri": "https://localhost:8080/",
          "height": 261
        },
        "id": "L5GjR75m7U7g",
        "outputId": "29684a8f-b6aa-43f9-ad1c-9dfacfdc7b3b"
      },
      "outputs": [
        {
          "data": {
            "text/html": [
              "<div>\n",
              "<style scoped>\n",
              "    .dataframe tbody tr th:only-of-type {\n",
              "        vertical-align: middle;\n",
              "    }\n",
              "\n",
              "    .dataframe tbody tr th {\n",
              "        vertical-align: top;\n",
              "    }\n",
              "\n",
              "    .dataframe thead th {\n",
              "        text-align: right;\n",
              "    }\n",
              "</style>\n",
              "<table border=\"1\" class=\"dataframe\">\n",
              "  <thead>\n",
              "    <tr style=\"text-align: right;\">\n",
              "      <th></th>\n",
              "      <th>Transactions</th>\n",
              "    </tr>\n",
              "  </thead>\n",
              "  <tbody>\n",
              "    <tr>\n",
              "      <th>0</th>\n",
              "      <td>[citrus fruit, semi-finished bread, margarine,...</td>\n",
              "    </tr>\n",
              "    <tr>\n",
              "      <th>1</th>\n",
              "      <td>[tropical fruit, yogurt, coffee]</td>\n",
              "    </tr>\n",
              "    <tr>\n",
              "      <th>2</th>\n",
              "      <td>[whole milk]</td>\n",
              "    </tr>\n",
              "    <tr>\n",
              "      <th>3</th>\n",
              "      <td>[pip fruit, yogurt, cream cheese , meat spreads]</td>\n",
              "    </tr>\n",
              "    <tr>\n",
              "      <th>4</th>\n",
              "      <td>[other vegetables, whole milk, condensed milk,...</td>\n",
              "    </tr>\n",
              "  </tbody>\n",
              "</table>\n",
              "</div>"
            ],
            "text/plain": [
              "                                        Transactions\n",
              "0  [citrus fruit, semi-finished bread, margarine,...\n",
              "1                   [tropical fruit, yogurt, coffee]\n",
              "2                                       [whole milk]\n",
              "3   [pip fruit, yogurt, cream cheese , meat spreads]\n",
              "4  [other vegetables, whole milk, condensed milk,..."
            ]
          },
          "execution_count": 11,
          "metadata": {},
          "output_type": "execute_result"
        }
      ],
      "source": [
        "df = pd.DataFrame(pd.Series(transactions), columns = [\"Transactions\"])\n",
        "df.head()"
      ]
    },
    {
      "cell_type": "markdown",
      "metadata": {
        "id": "DV7cGMe3fQ1D"
      },
      "source": [
        "### Creating **dummy columns** for each item in a transaction"
      ]
    },
    {
      "cell_type": "code",
      "execution_count": null,
      "metadata": {
        "colab": {
          "base_uri": "https://localhost:8080/",
          "height": 261
        },
        "id": "DDuI-Cg1835r",
        "outputId": "891ecadc-67f8-4062-9c2d-99c4ecdf5863"
      },
      "outputs": [
        {
          "data": {
            "text/html": [
              "<div>\n",
              "<style scoped>\n",
              "    .dataframe tbody tr th:only-of-type {\n",
              "        vertical-align: middle;\n",
              "    }\n",
              "\n",
              "    .dataframe tbody tr th {\n",
              "        vertical-align: top;\n",
              "    }\n",
              "\n",
              "    .dataframe thead th {\n",
              "        text-align: right;\n",
              "    }\n",
              "</style>\n",
              "<table border=\"1\" class=\"dataframe\">\n",
              "  <thead>\n",
              "    <tr style=\"text-align: right;\">\n",
              "      <th></th>\n",
              "      <th>Instant food products</th>\n",
              "      <th>UHT-milk</th>\n",
              "      <th>abrasive cleaner</th>\n",
              "      <th>artif. sweetener</th>\n",
              "      <th>baby cosmetics</th>\n",
              "    </tr>\n",
              "  </thead>\n",
              "  <tbody>\n",
              "    <tr>\n",
              "      <th>0</th>\n",
              "      <td>0</td>\n",
              "      <td>0</td>\n",
              "      <td>0</td>\n",
              "      <td>0</td>\n",
              "      <td>0</td>\n",
              "    </tr>\n",
              "    <tr>\n",
              "      <th>1</th>\n",
              "      <td>0</td>\n",
              "      <td>0</td>\n",
              "      <td>0</td>\n",
              "      <td>0</td>\n",
              "      <td>0</td>\n",
              "    </tr>\n",
              "    <tr>\n",
              "      <th>2</th>\n",
              "      <td>0</td>\n",
              "      <td>0</td>\n",
              "      <td>0</td>\n",
              "      <td>0</td>\n",
              "      <td>0</td>\n",
              "    </tr>\n",
              "    <tr>\n",
              "      <th>3</th>\n",
              "      <td>0</td>\n",
              "      <td>0</td>\n",
              "      <td>0</td>\n",
              "      <td>0</td>\n",
              "      <td>0</td>\n",
              "    </tr>\n",
              "    <tr>\n",
              "      <th>4</th>\n",
              "      <td>0</td>\n",
              "      <td>0</td>\n",
              "      <td>0</td>\n",
              "      <td>0</td>\n",
              "      <td>0</td>\n",
              "    </tr>\n",
              "  </tbody>\n",
              "</table>\n",
              "</div>"
            ],
            "text/plain": [
              "   Instant food products  UHT-milk  abrasive cleaner  artif. sweetener  \\\n",
              "0                      0         0                 0                 0   \n",
              "1                      0         0                 0                 0   \n",
              "2                      0         0                 0                 0   \n",
              "3                      0         0                 0                 0   \n",
              "4                      0         0                 0                 0   \n",
              "\n",
              "   baby cosmetics  \n",
              "0               0  \n",
              "1               0  \n",
              "2               0  \n",
              "3               0  \n",
              "4               0  "
            ]
          },
          "execution_count": 12,
          "metadata": {},
          "output_type": "execute_result"
        }
      ],
      "source": [
        "X = df['Transactions'].str.join(sep=\"*\").str.get_dummies(sep=\"*\")\n",
        "X.iloc[:5, :5]"
      ]
    },
    {
      "cell_type": "markdown",
      "metadata": {
        "id": "iRxx22fbgdCg"
      },
      "source": [
        "### Creating frequent **item-sets**\n",
        "> Using the `apriori` method, that returns the corresponding `DataFrame` with the support values computed for each item-set"
      ]
    },
    {
      "cell_type": "code",
      "execution_count": null,
      "metadata": {
        "colab": {
          "base_uri": "https://localhost:8080/"
        },
        "id": "T953zLWYgdxZ",
        "outputId": "47d8d4ff-2f58-4b1c-8e0c-31a19cf4394b"
      },
      "outputs": [
        {
          "data": {
            "text/plain": [
              "(531, 2)"
            ]
          },
          "execution_count": 14,
          "metadata": {},
          "output_type": "execute_result"
        }
      ],
      "source": [
        "freq_itemsets = apriori(X.astype('bool'), min_support=0.0075, max_len=4, use_colnames=True)\n",
        "# freq_itemsets[-6: -1]\n",
        "freq_itemsets.shape"
      ]
    },
    {
      "cell_type": "markdown",
      "metadata": {
        "id": "7ZZNbNUbh0h0"
      },
      "source": [
        "### Sorting the item-sets\n",
        "> In **decreasing** order of their `support` values"
      ]
    },
    {
      "cell_type": "code",
      "execution_count": null,
      "metadata": {
        "colab": {
          "base_uri": "https://localhost:8080/",
          "height": 261
        },
        "id": "rYY0BbH5h1X7",
        "outputId": "501a131b-3aaa-454e-802d-a9268b05a0c0"
      },
      "outputs": [
        {
          "data": {
            "text/html": [
              "<div>\n",
              "<style scoped>\n",
              "    .dataframe tbody tr th:only-of-type {\n",
              "        vertical-align: middle;\n",
              "    }\n",
              "\n",
              "    .dataframe tbody tr th {\n",
              "        vertical-align: top;\n",
              "    }\n",
              "\n",
              "    .dataframe thead th {\n",
              "        text-align: right;\n",
              "    }\n",
              "</style>\n",
              "<table border=\"1\" class=\"dataframe\">\n",
              "  <thead>\n",
              "    <tr style=\"text-align: right;\">\n",
              "      <th></th>\n",
              "      <th>support</th>\n",
              "      <th>itemsets</th>\n",
              "    </tr>\n",
              "  </thead>\n",
              "  <tbody>\n",
              "    <tr>\n",
              "      <th>100</th>\n",
              "      <td>0.255490</td>\n",
              "      <td>(whole milk)</td>\n",
              "    </tr>\n",
              "    <tr>\n",
              "      <th>63</th>\n",
              "      <td>0.193473</td>\n",
              "      <td>(other vegetables)</td>\n",
              "    </tr>\n",
              "    <tr>\n",
              "      <th>77</th>\n",
              "      <td>0.183916</td>\n",
              "      <td>(rolls/buns)</td>\n",
              "    </tr>\n",
              "    <tr>\n",
              "      <th>86</th>\n",
              "      <td>0.174359</td>\n",
              "      <td>(soda)</td>\n",
              "    </tr>\n",
              "    <tr>\n",
              "      <th>101</th>\n",
              "      <td>0.139488</td>\n",
              "      <td>(yogurt)</td>\n",
              "    </tr>\n",
              "  </tbody>\n",
              "</table>\n",
              "</div>"
            ],
            "text/plain": [
              "      support            itemsets\n",
              "100  0.255490        (whole milk)\n",
              "63   0.193473  (other vegetables)\n",
              "77   0.183916        (rolls/buns)\n",
              "86   0.174359              (soda)\n",
              "101  0.139488            (yogurt)"
            ]
          },
          "execution_count": 15,
          "metadata": {},
          "output_type": "execute_result"
        }
      ],
      "source": [
        "freq_itemsets.sort_values(by='support', ascending=False, inplace=True)\n",
        "freq_itemsets.head()"
      ]
    },
    {
      "cell_type": "markdown",
      "metadata": {
        "id": "qFCllbtMieQu"
      },
      "source": [
        "### Plotting the item-sets' `support`\n",
        "> Only the **top 10** item-sets"
      ]
    },
    {
      "cell_type": "code",
      "execution_count": null,
      "metadata": {
        "colab": {
          "base_uri": "https://localhost:8080/",
          "height": 662
        },
        "id": "lxqb79njie-t",
        "outputId": "e2481664-c27d-4484-cd33-c3edf675bc97"
      },
      "outputs": [
        {
          "data": {
            "image/png": "[encoded data removed]",
            "text/plain": [
              "<Figure size 1200x600 with 1 Axes>"
            ]
          },
          "metadata": {},
          "output_type": "display_data"
        }
      ],
      "source": [
        "plt.figure(figsize=(12, 6))\n",
        "plt.bar(height = freq_itemsets.support[0:10], x = list(range(0, 10)), color=['r', 'g', 'b'])\n",
        "\n",
        "plt.title(\"Top 10 item-sets\", fontweight='bold', fontsize=16)\n",
        "plt.xlabel(\"Itemsets\", fontweight='bold',)\n",
        "plt.ylabel(\"Support\", fontweight='bold',)\n",
        "\n",
        "plt.xticks(list(range(0, 10)), freq_itemsets.itemsets[0:10], rotation=45, ha=\"right\")\n",
        "plt.tight_layout()\n",
        "plt.show()"
      ]
    },
    {
      "cell_type": "markdown",
      "metadata": {
        "id": "eU_Cl_goi5rN"
      },
      "source": [
        "### Generating the **association rules**\n",
        "> Using the `association_rules` method, which returns the corresponding `DataFrame` that contains the association rules for potential antecedent-consequent sets"
      ]
    },
    {
      "cell_type": "code",
      "execution_count": null,
      "metadata": {
        "colab": {
          "base_uri": "https://localhost:8080/",
          "height": 261
        },
        "id": "PzlmZuGui6Yd",
        "outputId": "0e00e754-0037-465b-d099-1467e1c1e641"
      },
      "outputs": [
        {
          "data": {
            "text/html": [
              "<div>\n",
              "<style scoped>\n",
              "    .dataframe tbody tr th:only-of-type {\n",
              "        vertical-align: middle;\n",
              "    }\n",
              "\n",
              "    .dataframe tbody tr th {\n",
              "        vertical-align: top;\n",
              "    }\n",
              "\n",
              "    .dataframe thead th {\n",
              "        text-align: right;\n",
              "    }\n",
              "</style>\n",
              "<table border=\"1\" class=\"dataframe\">\n",
              "  <thead>\n",
              "    <tr style=\"text-align: right;\">\n",
              "      <th></th>\n",
              "      <th>antecedents</th>\n",
              "      <th>consequents</th>\n",
              "      <th>antecedent support</th>\n",
              "      <th>consequent support</th>\n",
              "      <th>support</th>\n",
              "      <th>confidence</th>\n",
              "      <th>lift</th>\n",
              "      <th>leverage</th>\n",
              "      <th>conviction</th>\n",
              "      <th>zhangs_metric</th>\n",
              "    </tr>\n",
              "  </thead>\n",
              "  <tbody>\n",
              "    <tr>\n",
              "      <th>1175</th>\n",
              "      <td>(tropical fruit, whole milk)</td>\n",
              "      <td>(other vegetables, yogurt)</td>\n",
              "      <td>0.042294</td>\n",
              "      <td>0.043412</td>\n",
              "      <td>0.007625</td>\n",
              "      <td>0.180288</td>\n",
              "      <td>4.152968</td>\n",
              "      <td>0.005789</td>\n",
              "      <td>1.166981</td>\n",
              "      <td>0.792736</td>\n",
              "    </tr>\n",
              "    <tr>\n",
              "      <th>1170</th>\n",
              "      <td>(other vegetables, yogurt)</td>\n",
              "      <td>(tropical fruit, whole milk)</td>\n",
              "      <td>0.043412</td>\n",
              "      <td>0.042294</td>\n",
              "      <td>0.007625</td>\n",
              "      <td>0.175644</td>\n",
              "      <td>4.152968</td>\n",
              "      <td>0.005789</td>\n",
              "      <td>1.161763</td>\n",
              "      <td>0.793663</td>\n",
              "    </tr>\n",
              "    <tr>\n",
              "      <th>1090</th>\n",
              "      <td>(other vegetables, whole milk)</td>\n",
              "      <td>(yogurt, root vegetables)</td>\n",
              "      <td>0.074827</td>\n",
              "      <td>0.025824</td>\n",
              "      <td>0.007828</td>\n",
              "      <td>0.104620</td>\n",
              "      <td>4.051331</td>\n",
              "      <td>0.005896</td>\n",
              "      <td>1.088003</td>\n",
              "      <td>0.814083</td>\n",
              "    </tr>\n",
              "    <tr>\n",
              "      <th>1091</th>\n",
              "      <td>(yogurt, root vegetables)</td>\n",
              "      <td>(other vegetables, whole milk)</td>\n",
              "      <td>0.025824</td>\n",
              "      <td>0.074827</td>\n",
              "      <td>0.007828</td>\n",
              "      <td>0.303150</td>\n",
              "      <td>4.051331</td>\n",
              "      <td>0.005896</td>\n",
              "      <td>1.327649</td>\n",
              "      <td>0.773133</td>\n",
              "    </tr>\n",
              "    <tr>\n",
              "      <th>792</th>\n",
              "      <td>(whipped/sour cream)</td>\n",
              "      <td>(berries)</td>\n",
              "      <td>0.071675</td>\n",
              "      <td>0.033245</td>\n",
              "      <td>0.009048</td>\n",
              "      <td>0.126241</td>\n",
              "      <td>3.797272</td>\n",
              "      <td>0.006666</td>\n",
              "      <td>1.106432</td>\n",
              "      <td>0.793530</td>\n",
              "    </tr>\n",
              "  </tbody>\n",
              "</table>\n",
              "</div>"
            ],
            "text/plain": [
              "                         antecedents                     consequents  \\\n",
              "1175    (tropical fruit, whole milk)      (other vegetables, yogurt)   \n",
              "1170      (other vegetables, yogurt)    (tropical fruit, whole milk)   \n",
              "1090  (other vegetables, whole milk)       (yogurt, root vegetables)   \n",
              "1091       (yogurt, root vegetables)  (other vegetables, whole milk)   \n",
              "792             (whipped/sour cream)                       (berries)   \n",
              "\n",
              "      antecedent support  consequent support   support  confidence      lift  \\\n",
              "1175            0.042294            0.043412  0.007625    0.180288  4.152968   \n",
              "1170            0.043412            0.042294  0.007625    0.175644  4.152968   \n",
              "1090            0.074827            0.025824  0.007828    0.104620  4.051331   \n",
              "1091            0.025824            0.074827  0.007828    0.303150  4.051331   \n",
              "792             0.071675            0.033245  0.009048    0.126241  3.797272   \n",
              "\n",
              "      leverage  conviction  zhangs_metric  \n",
              "1175  0.005789    1.166981       0.792736  \n",
              "1170  0.005789    1.161763       0.793663  \n",
              "1090  0.005896    1.088003       0.814083  \n",
              "1091  0.005896    1.327649       0.773133  \n",
              "792   0.006666    1.106432       0.793530  "
            ]
          },
          "execution_count": 17,
          "metadata": {},
          "output_type": "execute_result"
        }
      ],
      "source": [
        "rules = association_rules(freq_itemsets, metric = \"lift\", min_threshold = 1)\n",
        "rules.sort_values('lift', ascending = False, inplace=True)\n",
        "\n",
        "rules.head()"
      ]
    },
    {
      "cell_type": "markdown",
      "metadata": {
        "id": "dwF4NfC6pB9p"
      },
      "source": [
        "### **Formatting** the rules for display\n",
        "\n",
        "<img src=\"https://static.javatpoint.com/tutorial/machine-learning/images/association-rule-learning2.png\">\n",
        "\n",
        "> Printing the **top 5** rules (by `lift`) in the above format"
      ]
    },
    {
      "cell_type": "code",
      "execution_count": null,
      "metadata": {
        "colab": {
          "base_uri": "https://localhost:8080/"
        },
        "id": "u-0TdBuCp5nw",
        "outputId": "4d6b8e18-500a-4b3a-9c08-ca0b32c127e2"
      },
      "outputs": [
        {
          "name": "stdout",
          "output_type": "stream",
          "text": [
            "{tropical fruit, whole milk} -> {other vegetables, yogurt}  |  LIFT = 4.15\n",
            "\n",
            "{other vegetables, yogurt} -> {tropical fruit, whole milk}  |  LIFT = 4.15\n",
            "\n",
            "{other vegetables, whole milk} -> {yogurt, root vegetables}  |  LIFT = 4.05\n",
            "\n",
            "{yogurt, root vegetables} -> {other vegetables, whole milk}  |  LIFT = 4.05\n",
            "\n",
            "{whipped/sour cream} -> {berries}  |  LIFT = 3.80\n",
            "\n"
          ]
        }
      ],
      "source": [
        "rules[\"formatted_rule\"] = rules.apply(lambda row: f\"{{{', '.join(row['antecedents'])}}} -> {{{', '.join(row['consequents'])}}}  |  LIFT = {row['lift']:.2f}\", axis=1)\n",
        "\n",
        "for rule in rules[\"formatted_rule\"].head():\n",
        "  print(rule, end=\"\\n\\n\")"
      ]
    }
  ],
  "metadata": {
    "colab": {
      "collapsed_sections": [
        "4wItOi5qve8N"
      ],
      "provenance": [],
      "include_colab_link": true
    },
    "kernelspec": {
      "display_name": "Python 3",
      "name": "python3"
    },
    "language_info": {
      "codemirror_mode": {
        "name": "ipython",
        "version": 3
      },
      "file_extension": ".py",
      "mimetype": "text/x-python",
      "name": "python",
      "nbconvert_exporter": "python",
      "pygments_lexer": "ipython3",
      "version": "3.12.4"
    }
  },
  "nbformat": 4,
  "nbformat_minor": 0
}
