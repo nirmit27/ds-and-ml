{
 "cells": [
  {
   "cell_type": "markdown",
   "id": "2fb6e87d",
   "metadata": {
    "execution": {
     "iopub.execute_input": "2024-02-18T18:04:03.594798Z",
     "iopub.status.busy": "2024-02-18T18:04:03.594343Z",
     "iopub.status.idle": "2024-02-18T18:04:03.600335Z",
     "shell.execute_reply": "2024-02-18T18:04:03.598921Z",
     "shell.execute_reply.started": "2024-02-18T18:04:03.594764Z"
    },
    "papermill": {
     "duration": 0.005748,
     "end_time": "2024-02-19T05:44:51.758059",
     "exception": false,
     "start_time": "2024-02-19T05:44:51.752311",
     "status": "completed"
    },
    "tags": []
   },
   "source": [
    "## Importing the modules"
   ]
  },
  {
   "cell_type": "code",
   "execution_count": 1,
   "id": "51a08019",
   "metadata": {
    "_cell_guid": "b1076dfc-b9ad-4769-8c92-a6c4dae69d19",
    "_uuid": "8f2839f25d086af736a60e9eeb907d3b93b6e0e5",
    "execution": {
     "iopub.execute_input": "2024-02-19T05:44:51.770752Z",
     "iopub.status.busy": "2024-02-19T05:44:51.770329Z",
     "iopub.status.idle": "2024-02-19T05:44:54.498388Z",
     "shell.execute_reply": "2024-02-19T05:44:54.496971Z"
    },
    "papermill": {
     "duration": 2.738273,
     "end_time": "2024-02-19T05:44:54.501852",
     "exception": false,
     "start_time": "2024-02-19T05:44:51.763579",
     "status": "completed"
    },
    "tags": []
   },
   "outputs": [],
   "source": [
    "import numpy as np\n",
    "import pandas as pd\n",
    "import seaborn as sns\n",
    "from matplotlib import pyplot as plt\n",
    "\n",
    "# https://github.com/nirmit27/kaggle-notebooks/tree/main/Models"
   ]
  },
  {
   "cell_type": "markdown",
   "id": "403abc77",
   "metadata": {
    "papermill": {
     "duration": 0.004972,
     "end_time": "2024-02-19T05:44:54.512038",
     "exception": false,
     "start_time": "2024-02-19T05:44:54.507066",
     "status": "completed"
    },
    "tags": []
   },
   "source": [
    "## Importing the datasets"
   ]
  },
  {
   "cell_type": "code",
   "execution_count": 2,
   "id": "62b91f61",
   "metadata": {
    "execution": {
     "iopub.execute_input": "2024-02-19T05:44:54.525497Z",
     "iopub.status.busy": "2024-02-19T05:44:54.523480Z",
     "iopub.status.idle": "2024-02-19T05:44:59.108551Z",
     "shell.execute_reply": "2024-02-19T05:44:59.107077Z"
    },
    "papermill": {
     "duration": 4.594577,
     "end_time": "2024-02-19T05:44:59.111547",
     "exception": false,
     "start_time": "2024-02-19T05:44:54.516970",
     "status": "completed"
    },
    "tags": []
   },
   "outputs": [
    {
     "name": "stderr",
     "output_type": "stream",
     "text": [
      "/tmp/ipykernel_18/2910231406.py:1: DtypeWarning: Columns (3) have mixed types. Specify dtype option on import or set low_memory=False.\n",
      "  books = pd.read_csv('/kaggle/input/book-recommendation-dataset/Books.csv')\n"
     ]
    }
   ],
   "source": [
    "books = pd.read_csv('/kaggle/input/book-recommendation-dataset/Books.csv')\n",
    "users = pd.read_csv('/kaggle/input/book-recommendation-dataset/Users.csv')\n",
    "ratings = pd.read_csv('/kaggle/input/book-recommendation-dataset/Ratings.csv')"
   ]
  },
  {
   "cell_type": "markdown",
   "id": "6f959996",
   "metadata": {
    "papermill": {
     "duration": 0.004532,
     "end_time": "2024-02-19T05:44:59.121060",
     "exception": false,
     "start_time": "2024-02-19T05:44:59.116528",
     "status": "completed"
    },
    "tags": []
   },
   "source": [
    "## Removing **columns**"
   ]
  },
  {
   "cell_type": "code",
   "execution_count": 3,
   "id": "6469d5ce",
   "metadata": {
    "execution": {
     "iopub.execute_input": "2024-02-19T05:44:59.132578Z",
     "iopub.status.busy": "2024-02-19T05:44:59.132133Z",
     "iopub.status.idle": "2024-02-19T05:44:59.181394Z",
     "shell.execute_reply": "2024-02-19T05:44:59.179870Z"
    },
    "papermill": {
     "duration": 0.058219,
     "end_time": "2024-02-19T05:44:59.184038",
     "exception": false,
     "start_time": "2024-02-19T05:44:59.125819",
     "status": "completed"
    },
    "tags": []
   },
   "outputs": [
    {
     "data": {
      "text/html": [
       "<div>\n",
       "<style scoped>\n",
       "    .dataframe tbody tr th:only-of-type {\n",
       "        vertical-align: middle;\n",
       "    }\n",
       "\n",
       "    .dataframe tbody tr th {\n",
       "        vertical-align: top;\n",
       "    }\n",
       "\n",
       "    .dataframe thead th {\n",
       "        text-align: right;\n",
       "    }\n",
       "</style>\n",
       "<table border=\"1\" class=\"dataframe\">\n",
       "  <thead>\n",
       "    <tr style=\"text-align: right;\">\n",
       "      <th></th>\n",
       "      <th>ISBN</th>\n",
       "      <th>Book-Title</th>\n",
       "      <th>Book-Author</th>\n",
       "      <th>Year-Of-Publication</th>\n",
       "      <th>Publisher</th>\n",
       "    </tr>\n",
       "  </thead>\n",
       "  <tbody>\n",
       "    <tr>\n",
       "      <th>0</th>\n",
       "      <td>0195153448</td>\n",
       "      <td>Classical Mythology</td>\n",
       "      <td>Mark P. O. Morford</td>\n",
       "      <td>2002</td>\n",
       "      <td>Oxford University Press</td>\n",
       "    </tr>\n",
       "    <tr>\n",
       "      <th>1</th>\n",
       "      <td>0002005018</td>\n",
       "      <td>Clara Callan</td>\n",
       "      <td>Richard Bruce Wright</td>\n",
       "      <td>2001</td>\n",
       "      <td>HarperFlamingo Canada</td>\n",
       "    </tr>\n",
       "    <tr>\n",
       "      <th>2</th>\n",
       "      <td>0060973129</td>\n",
       "      <td>Decision in Normandy</td>\n",
       "      <td>Carlo D'Este</td>\n",
       "      <td>1991</td>\n",
       "      <td>HarperPerennial</td>\n",
       "    </tr>\n",
       "    <tr>\n",
       "      <th>3</th>\n",
       "      <td>0374157065</td>\n",
       "      <td>Flu: The Story of the Great Influenza Pandemic...</td>\n",
       "      <td>Gina Bari Kolata</td>\n",
       "      <td>1999</td>\n",
       "      <td>Farrar Straus Giroux</td>\n",
       "    </tr>\n",
       "    <tr>\n",
       "      <th>4</th>\n",
       "      <td>0393045218</td>\n",
       "      <td>The Mummies of Urumchi</td>\n",
       "      <td>E. J. W. Barber</td>\n",
       "      <td>1999</td>\n",
       "      <td>W. W. Norton &amp;amp; Company</td>\n",
       "    </tr>\n",
       "  </tbody>\n",
       "</table>\n",
       "</div>"
      ],
      "text/plain": [
       "         ISBN                                         Book-Title  \\\n",
       "0  0195153448                                Classical Mythology   \n",
       "1  0002005018                                       Clara Callan   \n",
       "2  0060973129                               Decision in Normandy   \n",
       "3  0374157065  Flu: The Story of the Great Influenza Pandemic...   \n",
       "4  0393045218                             The Mummies of Urumchi   \n",
       "\n",
       "            Book-Author Year-Of-Publication                   Publisher  \n",
       "0    Mark P. O. Morford                2002     Oxford University Press  \n",
       "1  Richard Bruce Wright                2001       HarperFlamingo Canada  \n",
       "2          Carlo D'Este                1991             HarperPerennial  \n",
       "3      Gina Bari Kolata                1999        Farrar Straus Giroux  \n",
       "4       E. J. W. Barber                1999  W. W. Norton &amp; Company  "
      ]
     },
     "execution_count": 3,
     "metadata": {},
     "output_type": "execute_result"
    }
   ],
   "source": [
    "books_data = books.drop(columns=['Image-URL-S', 'Image-URL-M', 'Image-URL-L'])\n",
    "books_data.head()"
   ]
  },
  {
   "cell_type": "markdown",
   "id": "3595982e",
   "metadata": {
    "papermill": {
     "duration": 0.005007,
     "end_time": "2024-02-19T05:44:59.194442",
     "exception": false,
     "start_time": "2024-02-19T05:44:59.189435",
     "status": "completed"
    },
    "tags": []
   },
   "source": [
    "## Converting **dates**"
   ]
  },
  {
   "cell_type": "code",
   "execution_count": 4,
   "id": "a29063a0",
   "metadata": {
    "execution": {
     "iopub.execute_input": "2024-02-19T05:44:59.207412Z",
     "iopub.status.busy": "2024-02-19T05:44:59.206436Z",
     "iopub.status.idle": "2024-02-19T05:44:59.291379Z",
     "shell.execute_reply": "2024-02-19T05:44:59.289908Z"
    },
    "papermill": {
     "duration": 0.09536,
     "end_time": "2024-02-19T05:44:59.294955",
     "exception": false,
     "start_time": "2024-02-19T05:44:59.199595",
     "status": "completed"
    },
    "tags": []
   },
   "outputs": [
    {
     "name": "stderr",
     "output_type": "stream",
     "text": [
      "/tmp/ipykernel_18/387929141.py:3: FutureWarning: A value is trying to be set on a copy of a DataFrame or Series through chained assignment using an inplace method.\n",
      "The behavior will change in pandas 3.0. This inplace method will never work because the intermediate object on which we are setting values always behaves as a copy.\n",
      "\n",
      "For example, when doing 'df[col].method(value, inplace=True)', try using 'df.method({col: value}, inplace=True)' or df[col] = df[col].method(value) instead, to perform the operation inplace on the original object.\n",
      "\n",
      "\n",
      "  books_data['Year-Of-Publication'].fillna(books_data['Year-Of-Publication'].mean(), inplace=True)\n"
     ]
    },
    {
     "data": {
      "text/plain": [
       "0         1970\n",
       "1         1970\n",
       "2         1970\n",
       "3         1970\n",
       "4         1970\n",
       "          ... \n",
       "271355    1970\n",
       "271356    1970\n",
       "271357    1970\n",
       "271358    1970\n",
       "271359    1970\n",
       "Name: Year-Of-Publication, Length: 271360, dtype: int64"
      ]
     },
     "execution_count": 4,
     "metadata": {},
     "output_type": "execute_result"
    }
   ],
   "source": [
    "books_data['Year-Of-Publication'] = pd.to_datetime(books_data['Year-Of-Publication'], errors='coerce').dt.year\n",
    "\n",
    "books_data['Year-Of-Publication'].fillna(books_data['Year-Of-Publication'].mean(), inplace=True)\n",
    "\n",
    "books_data['Year-Of-Publication'] = books_data['Year-Of-Publication'].astype(np.int64)\n",
    "\n",
    "books_data['Year-Of-Publication']"
   ]
  },
  {
   "cell_type": "markdown",
   "id": "ad9d11f8",
   "metadata": {
    "papermill": {
     "duration": 0.005467,
     "end_time": "2024-02-19T05:44:59.306010",
     "exception": false,
     "start_time": "2024-02-19T05:44:59.300543",
     "status": "completed"
    },
    "tags": []
   },
   "source": [
    "## **Merging** `books_data` and `ratings`"
   ]
  },
  {
   "cell_type": "code",
   "execution_count": 5,
   "id": "b931d2f1",
   "metadata": {
    "execution": {
     "iopub.execute_input": "2024-02-19T05:44:59.318753Z",
     "iopub.status.busy": "2024-02-19T05:44:59.318343Z",
     "iopub.status.idle": "2024-02-19T05:45:00.414126Z",
     "shell.execute_reply": "2024-02-19T05:45:00.412786Z"
    },
    "papermill": {
     "duration": 1.105433,
     "end_time": "2024-02-19T05:45:00.416947",
     "exception": false,
     "start_time": "2024-02-19T05:44:59.311514",
     "status": "completed"
    },
    "tags": []
   },
   "outputs": [
    {
     "data": {
      "text/html": [
       "<div>\n",
       "<style scoped>\n",
       "    .dataframe tbody tr th:only-of-type {\n",
       "        vertical-align: middle;\n",
       "    }\n",
       "\n",
       "    .dataframe tbody tr th {\n",
       "        vertical-align: top;\n",
       "    }\n",
       "\n",
       "    .dataframe thead th {\n",
       "        text-align: right;\n",
       "    }\n",
       "</style>\n",
       "<table border=\"1\" class=\"dataframe\">\n",
       "  <thead>\n",
       "    <tr style=\"text-align: right;\">\n",
       "      <th></th>\n",
       "      <th>ISBN</th>\n",
       "      <th>Book-Title</th>\n",
       "      <th>Book-Author</th>\n",
       "      <th>Year-Of-Publication</th>\n",
       "      <th>Publisher</th>\n",
       "      <th>User-ID</th>\n",
       "      <th>Book-Rating</th>\n",
       "    </tr>\n",
       "  </thead>\n",
       "  <tbody>\n",
       "    <tr>\n",
       "      <th>0</th>\n",
       "      <td>0195153448</td>\n",
       "      <td>Classical Mythology</td>\n",
       "      <td>Mark P. O. Morford</td>\n",
       "      <td>1970</td>\n",
       "      <td>Oxford University Press</td>\n",
       "      <td>2</td>\n",
       "      <td>0</td>\n",
       "    </tr>\n",
       "    <tr>\n",
       "      <th>1</th>\n",
       "      <td>0002005018</td>\n",
       "      <td>Clara Callan</td>\n",
       "      <td>Richard Bruce Wright</td>\n",
       "      <td>1970</td>\n",
       "      <td>HarperFlamingo Canada</td>\n",
       "      <td>8</td>\n",
       "      <td>5</td>\n",
       "    </tr>\n",
       "    <tr>\n",
       "      <th>2</th>\n",
       "      <td>0002005018</td>\n",
       "      <td>Clara Callan</td>\n",
       "      <td>Richard Bruce Wright</td>\n",
       "      <td>1970</td>\n",
       "      <td>HarperFlamingo Canada</td>\n",
       "      <td>11400</td>\n",
       "      <td>0</td>\n",
       "    </tr>\n",
       "    <tr>\n",
       "      <th>3</th>\n",
       "      <td>0002005018</td>\n",
       "      <td>Clara Callan</td>\n",
       "      <td>Richard Bruce Wright</td>\n",
       "      <td>1970</td>\n",
       "      <td>HarperFlamingo Canada</td>\n",
       "      <td>11676</td>\n",
       "      <td>8</td>\n",
       "    </tr>\n",
       "    <tr>\n",
       "      <th>4</th>\n",
       "      <td>0002005018</td>\n",
       "      <td>Clara Callan</td>\n",
       "      <td>Richard Bruce Wright</td>\n",
       "      <td>1970</td>\n",
       "      <td>HarperFlamingo Canada</td>\n",
       "      <td>41385</td>\n",
       "      <td>0</td>\n",
       "    </tr>\n",
       "  </tbody>\n",
       "</table>\n",
       "</div>"
      ],
      "text/plain": [
       "         ISBN           Book-Title           Book-Author  Year-Of-Publication  \\\n",
       "0  0195153448  Classical Mythology    Mark P. O. Morford                 1970   \n",
       "1  0002005018         Clara Callan  Richard Bruce Wright                 1970   \n",
       "2  0002005018         Clara Callan  Richard Bruce Wright                 1970   \n",
       "3  0002005018         Clara Callan  Richard Bruce Wright                 1970   \n",
       "4  0002005018         Clara Callan  Richard Bruce Wright                 1970   \n",
       "\n",
       "                 Publisher  User-ID  Book-Rating  \n",
       "0  Oxford University Press        2            0  \n",
       "1    HarperFlamingo Canada        8            5  \n",
       "2    HarperFlamingo Canada    11400            0  \n",
       "3    HarperFlamingo Canada    11676            8  \n",
       "4    HarperFlamingo Canada    41385            0  "
      ]
     },
     "execution_count": 5,
     "metadata": {},
     "output_type": "execute_result"
    }
   ],
   "source": [
    "books_data_ratings = books_data.merge(ratings, on='ISBN')\n",
    "\n",
    "books_data_ratings.head()"
   ]
  },
  {
   "cell_type": "markdown",
   "id": "9c03f8e0",
   "metadata": {
    "papermill": {
     "duration": 0.00586,
     "end_time": "2024-02-19T05:45:00.429344",
     "exception": false,
     "start_time": "2024-02-19T05:45:00.423484",
     "status": "completed"
    },
    "tags": []
   },
   "source": [
    "# **Collaborative Filtering**\n",
    "### Making of the Recommender System"
   ]
  },
  {
   "cell_type": "markdown",
   "id": "7c0269f8",
   "metadata": {
    "papermill": {
     "duration": 0.005793,
     "end_time": "2024-02-19T05:45:00.441439",
     "exception": false,
     "start_time": "2024-02-19T05:45:00.435646",
     "status": "completed"
    },
    "tags": []
   },
   "source": []
  },
  {
   "cell_type": "markdown",
   "id": "c2dc40d5",
   "metadata": {
    "papermill": {
     "duration": 0.005723,
     "end_time": "2024-02-19T05:45:00.453334",
     "exception": false,
     "start_time": "2024-02-19T05:45:00.447611",
     "status": "completed"
    },
    "tags": []
   },
   "source": [
    "### Finding **Average** and **Total** number of ratings"
   ]
  },
  {
   "cell_type": "code",
   "execution_count": 6,
   "id": "a18f5c26",
   "metadata": {
    "execution": {
     "iopub.execute_input": "2024-02-19T05:45:00.467489Z",
     "iopub.status.busy": "2024-02-19T05:45:00.467103Z",
     "iopub.status.idle": "2024-02-19T05:45:00.481503Z",
     "shell.execute_reply": "2024-02-19T05:45:00.480094Z"
    },
    "papermill": {
     "duration": 0.024898,
     "end_time": "2024-02-19T05:45:00.484360",
     "exception": false,
     "start_time": "2024-02-19T05:45:00.459462",
     "status": "completed"
    },
    "tags": []
   },
   "outputs": [
    {
     "data": {
      "text/html": [
       "<div>\n",
       "<style scoped>\n",
       "    .dataframe tbody tr th:only-of-type {\n",
       "        vertical-align: middle;\n",
       "    }\n",
       "\n",
       "    .dataframe tbody tr th {\n",
       "        vertical-align: top;\n",
       "    }\n",
       "\n",
       "    .dataframe thead th {\n",
       "        text-align: right;\n",
       "    }\n",
       "</style>\n",
       "<table border=\"1\" class=\"dataframe\">\n",
       "  <thead>\n",
       "    <tr style=\"text-align: right;\">\n",
       "      <th></th>\n",
       "      <th>ISBN</th>\n",
       "      <th>Book-Title</th>\n",
       "      <th>Book-Author</th>\n",
       "      <th>Year-Of-Publication</th>\n",
       "      <th>Publisher</th>\n",
       "    </tr>\n",
       "  </thead>\n",
       "  <tbody>\n",
       "    <tr>\n",
       "      <th>0</th>\n",
       "      <td>0195153448</td>\n",
       "      <td>Classical Mythology</td>\n",
       "      <td>Mark P. O. Morford</td>\n",
       "      <td>1970</td>\n",
       "      <td>Oxford University Press</td>\n",
       "    </tr>\n",
       "    <tr>\n",
       "      <th>1</th>\n",
       "      <td>0002005018</td>\n",
       "      <td>Clara Callan</td>\n",
       "      <td>Richard Bruce Wright</td>\n",
       "      <td>1970</td>\n",
       "      <td>HarperFlamingo Canada</td>\n",
       "    </tr>\n",
       "    <tr>\n",
       "      <th>2</th>\n",
       "      <td>0060973129</td>\n",
       "      <td>Decision in Normandy</td>\n",
       "      <td>Carlo D'Este</td>\n",
       "      <td>1970</td>\n",
       "      <td>HarperPerennial</td>\n",
       "    </tr>\n",
       "    <tr>\n",
       "      <th>3</th>\n",
       "      <td>0374157065</td>\n",
       "      <td>Flu: The Story of the Great Influenza Pandemic...</td>\n",
       "      <td>Gina Bari Kolata</td>\n",
       "      <td>1970</td>\n",
       "      <td>Farrar Straus Giroux</td>\n",
       "    </tr>\n",
       "    <tr>\n",
       "      <th>4</th>\n",
       "      <td>0393045218</td>\n",
       "      <td>The Mummies of Urumchi</td>\n",
       "      <td>E. J. W. Barber</td>\n",
       "      <td>1970</td>\n",
       "      <td>W. W. Norton &amp;amp; Company</td>\n",
       "    </tr>\n",
       "  </tbody>\n",
       "</table>\n",
       "</div>"
      ],
      "text/plain": [
       "         ISBN                                         Book-Title  \\\n",
       "0  0195153448                                Classical Mythology   \n",
       "1  0002005018                                       Clara Callan   \n",
       "2  0060973129                               Decision in Normandy   \n",
       "3  0374157065  Flu: The Story of the Great Influenza Pandemic...   \n",
       "4  0393045218                             The Mummies of Urumchi   \n",
       "\n",
       "            Book-Author  Year-Of-Publication                   Publisher  \n",
       "0    Mark P. O. Morford                 1970     Oxford University Press  \n",
       "1  Richard Bruce Wright                 1970       HarperFlamingo Canada  \n",
       "2          Carlo D'Este                 1970             HarperPerennial  \n",
       "3      Gina Bari Kolata                 1970        Farrar Straus Giroux  \n",
       "4       E. J. W. Barber                 1970  W. W. Norton &amp; Company  "
      ]
     },
     "execution_count": 6,
     "metadata": {},
     "output_type": "execute_result"
    }
   ],
   "source": [
    "books_data.head()"
   ]
  }
 ],
 "metadata": {
  "kaggle": {
   "accelerator": "none",
   "dataSources": [
    {
     "datasetId": 1004280,
     "sourceId": 7595263,
     "sourceType": "datasetVersion"
    }
   ],
   "dockerImageVersionId": 30646,
   "isGpuEnabled": false,
   "isInternetEnabled": true,
   "language": "python",
   "sourceType": "notebook"
  },
  "kernelspec": {
   "display_name": "Python 3",
   "language": "python",
   "name": "python3"
  },
  "language_info": {
   "codemirror_mode": {
    "name": "ipython",
    "version": 3
   },
   "file_extension": ".py",
   "mimetype": "text/x-python",
   "name": "python",
   "nbconvert_exporter": "python",
   "pygments_lexer": "ipython3",
   "version": "3.10.13"
  },
  "papermill": {
   "default_parameters": {},
   "duration": 12.717742,
   "end_time": "2024-02-19T05:45:01.315398",
   "environment_variables": {},
   "exception": null,
   "input_path": "__notebook__.ipynb",
   "output_path": "__notebook__.ipynb",
   "parameters": {},
   "start_time": "2024-02-19T05:44:48.597656",
   "version": "2.5.0"
  }
 },
 "nbformat": 4,
 "nbformat_minor": 5
}
