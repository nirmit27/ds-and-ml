{
 "cells": [
  {
   "cell_type": "markdown",
   "id": "293e20c9",
   "metadata": {
    "execution": {
     "iopub.execute_input": "2024-02-18T18:04:03.594798Z",
     "iopub.status.busy": "2024-02-18T18:04:03.594343Z",
     "iopub.status.idle": "2024-02-18T18:04:03.600335Z",
     "shell.execute_reply": "2024-02-18T18:04:03.598921Z",
     "shell.execute_reply.started": "2024-02-18T18:04:03.594764Z"
    },
    "papermill": {
     "duration": 0.00894,
     "end_time": "2024-02-19T14:25:08.638152",
     "exception": false,
     "start_time": "2024-02-19T14:25:08.629212",
     "status": "completed"
    },
    "tags": []
   },
   "source": [
    "## Importing the modules"
   ]
  },
  {
   "cell_type": "code",
   "execution_count": 1,
   "id": "59ba9b62",
   "metadata": {
    "_cell_guid": "b1076dfc-b9ad-4769-8c92-a6c4dae69d19",
    "_uuid": "8f2839f25d086af736a60e9eeb907d3b93b6e0e5",
    "execution": {
     "iopub.execute_input": "2024-02-19T14:25:08.657622Z",
     "iopub.status.busy": "2024-02-19T14:25:08.657150Z",
     "iopub.status.idle": "2024-02-19T14:25:11.310837Z",
     "shell.execute_reply": "2024-02-19T14:25:11.309209Z"
    },
    "papermill": {
     "duration": 2.667419,
     "end_time": "2024-02-19T14:25:11.314153",
     "exception": false,
     "start_time": "2024-02-19T14:25:08.646734",
     "status": "completed"
    },
    "tags": []
   },
   "outputs": [],
   "source": [
    "import numpy as np\n",
    "import pandas as pd\n",
    "\n",
    "# For Collaborative Filtering\n",
    "from sklearn.metrics.pairwise import cosine_similarity as cos_sim\n",
    "\n",
    "# Repo URL : https://github.com/nirmit27/kaggle-notebooks/tree/main/Models"
   ]
  },
  {
   "cell_type": "markdown",
   "id": "28e73167",
   "metadata": {
    "papermill": {
     "duration": 0.008485,
     "end_time": "2024-02-19T14:25:11.332672",
     "exception": false,
     "start_time": "2024-02-19T14:25:11.324187",
     "status": "completed"
    },
    "tags": []
   },
   "source": [
    "## Importing the datasets"
   ]
  },
  {
   "cell_type": "code",
   "execution_count": 2,
   "id": "d8c12708",
   "metadata": {
    "execution": {
     "iopub.execute_input": "2024-02-19T14:25:11.352803Z",
     "iopub.status.busy": "2024-02-19T14:25:11.352136Z",
     "iopub.status.idle": "2024-02-19T14:25:16.332813Z",
     "shell.execute_reply": "2024-02-19T14:25:16.330573Z"
    },
    "papermill": {
     "duration": 4.994971,
     "end_time": "2024-02-19T14:25:16.336716",
     "exception": false,
     "start_time": "2024-02-19T14:25:11.341745",
     "status": "completed"
    },
    "tags": []
   },
   "outputs": [
    {
     "name": "stderr",
     "output_type": "stream",
     "text": [
      "/tmp/ipykernel_18/2910231406.py:1: DtypeWarning: Columns (3) have mixed types. Specify dtype option on import or set low_memory=False.\n",
      "  books = pd.read_csv('/kaggle/input/book-recommendation-dataset/Books.csv')\n"
     ]
    }
   ],
   "source": [
    "books = pd.read_csv('/kaggle/input/book-recommendation-dataset/Books.csv')\n",
    "users = pd.read_csv('/kaggle/input/book-recommendation-dataset/Users.csv')\n",
    "ratings = pd.read_csv('/kaggle/input/book-recommendation-dataset/Ratings.csv')"
   ]
  },
  {
   "cell_type": "markdown",
   "id": "0fc67285",
   "metadata": {
    "papermill": {
     "duration": 0.008301,
     "end_time": "2024-02-19T14:25:16.354535",
     "exception": false,
     "start_time": "2024-02-19T14:25:16.346234",
     "status": "completed"
    },
    "tags": []
   },
   "source": [
    "# Data **Preprocessing**"
   ]
  },
  {
   "cell_type": "markdown",
   "id": "aedbbe2e",
   "metadata": {
    "papermill": {
     "duration": 0.008915,
     "end_time": "2024-02-19T14:25:16.372698",
     "exception": false,
     "start_time": "2024-02-19T14:25:16.363783",
     "status": "completed"
    },
    "tags": []
   },
   "source": [
    "## Removing **columns**"
   ]
  },
  {
   "cell_type": "code",
   "execution_count": 3,
   "id": "7ee1f70c",
   "metadata": {
    "execution": {
     "iopub.execute_input": "2024-02-19T14:25:16.393713Z",
     "iopub.status.busy": "2024-02-19T14:25:16.392332Z",
     "iopub.status.idle": "2024-02-19T14:25:16.441582Z",
     "shell.execute_reply": "2024-02-19T14:25:16.440557Z"
    },
    "papermill": {
     "duration": 0.062635,
     "end_time": "2024-02-19T14:25:16.444662",
     "exception": false,
     "start_time": "2024-02-19T14:25:16.382027",
     "status": "completed"
    },
    "tags": []
   },
   "outputs": [
    {
     "data": {
      "text/html": [
       "<div>\n",
       "<style scoped>\n",
       "    .dataframe tbody tr th:only-of-type {\n",
       "        vertical-align: middle;\n",
       "    }\n",
       "\n",
       "    .dataframe tbody tr th {\n",
       "        vertical-align: top;\n",
       "    }\n",
       "\n",
       "    .dataframe thead th {\n",
       "        text-align: right;\n",
       "    }\n",
       "</style>\n",
       "<table border=\"1\" class=\"dataframe\">\n",
       "  <thead>\n",
       "    <tr style=\"text-align: right;\">\n",
       "      <th></th>\n",
       "      <th>ISBN</th>\n",
       "      <th>Book-Title</th>\n",
       "      <th>Book-Author</th>\n",
       "      <th>Year-Of-Publication</th>\n",
       "      <th>Publisher</th>\n",
       "    </tr>\n",
       "  </thead>\n",
       "  <tbody>\n",
       "    <tr>\n",
       "      <th>0</th>\n",
       "      <td>0195153448</td>\n",
       "      <td>Classical Mythology</td>\n",
       "      <td>Mark P. O. Morford</td>\n",
       "      <td>2002</td>\n",
       "      <td>Oxford University Press</td>\n",
       "    </tr>\n",
       "    <tr>\n",
       "      <th>1</th>\n",
       "      <td>0002005018</td>\n",
       "      <td>Clara Callan</td>\n",
       "      <td>Richard Bruce Wright</td>\n",
       "      <td>2001</td>\n",
       "      <td>HarperFlamingo Canada</td>\n",
       "    </tr>\n",
       "    <tr>\n",
       "      <th>2</th>\n",
       "      <td>0060973129</td>\n",
       "      <td>Decision in Normandy</td>\n",
       "      <td>Carlo D'Este</td>\n",
       "      <td>1991</td>\n",
       "      <td>HarperPerennial</td>\n",
       "    </tr>\n",
       "    <tr>\n",
       "      <th>3</th>\n",
       "      <td>0374157065</td>\n",
       "      <td>Flu: The Story of the Great Influenza Pandemic...</td>\n",
       "      <td>Gina Bari Kolata</td>\n",
       "      <td>1999</td>\n",
       "      <td>Farrar Straus Giroux</td>\n",
       "    </tr>\n",
       "    <tr>\n",
       "      <th>4</th>\n",
       "      <td>0393045218</td>\n",
       "      <td>The Mummies of Urumchi</td>\n",
       "      <td>E. J. W. Barber</td>\n",
       "      <td>1999</td>\n",
       "      <td>W. W. Norton &amp;amp; Company</td>\n",
       "    </tr>\n",
       "  </tbody>\n",
       "</table>\n",
       "</div>"
      ],
      "text/plain": [
       "         ISBN                                         Book-Title  \\\n",
       "0  0195153448                                Classical Mythology   \n",
       "1  0002005018                                       Clara Callan   \n",
       "2  0060973129                               Decision in Normandy   \n",
       "3  0374157065  Flu: The Story of the Great Influenza Pandemic...   \n",
       "4  0393045218                             The Mummies of Urumchi   \n",
       "\n",
       "            Book-Author Year-Of-Publication                   Publisher  \n",
       "0    Mark P. O. Morford                2002     Oxford University Press  \n",
       "1  Richard Bruce Wright                2001       HarperFlamingo Canada  \n",
       "2          Carlo D'Este                1991             HarperPerennial  \n",
       "3      Gina Bari Kolata                1999        Farrar Straus Giroux  \n",
       "4       E. J. W. Barber                1999  W. W. Norton &amp; Company  "
      ]
     },
     "execution_count": 3,
     "metadata": {},
     "output_type": "execute_result"
    }
   ],
   "source": [
    "books_data = books.drop(columns=['Image-URL-S', 'Image-URL-M', 'Image-URL-L'])\n",
    "books_data.head()"
   ]
  },
  {
   "cell_type": "markdown",
   "id": "090d4621",
   "metadata": {
    "papermill": {
     "duration": 0.008562,
     "end_time": "2024-02-19T14:25:16.462246",
     "exception": false,
     "start_time": "2024-02-19T14:25:16.453684",
     "status": "completed"
    },
    "tags": []
   },
   "source": [
    "## Converting **dates**"
   ]
  },
  {
   "cell_type": "code",
   "execution_count": 4,
   "id": "731cc181",
   "metadata": {
    "execution": {
     "iopub.execute_input": "2024-02-19T14:25:16.482921Z",
     "iopub.status.busy": "2024-02-19T14:25:16.482455Z",
     "iopub.status.idle": "2024-02-19T14:25:16.571370Z",
     "shell.execute_reply": "2024-02-19T14:25:16.569647Z"
    },
    "papermill": {
     "duration": 0.102402,
     "end_time": "2024-02-19T14:25:16.574344",
     "exception": false,
     "start_time": "2024-02-19T14:25:16.471942",
     "status": "completed"
    },
    "tags": []
   },
   "outputs": [
    {
     "name": "stderr",
     "output_type": "stream",
     "text": [
      "/tmp/ipykernel_18/387929141.py:3: FutureWarning: A value is trying to be set on a copy of a DataFrame or Series through chained assignment using an inplace method.\n",
      "The behavior will change in pandas 3.0. This inplace method will never work because the intermediate object on which we are setting values always behaves as a copy.\n",
      "\n",
      "For example, when doing 'df[col].method(value, inplace=True)', try using 'df.method({col: value}, inplace=True)' or df[col] = df[col].method(value) instead, to perform the operation inplace on the original object.\n",
      "\n",
      "\n",
      "  books_data['Year-Of-Publication'].fillna(books_data['Year-Of-Publication'].mean(), inplace=True)\n"
     ]
    },
    {
     "data": {
      "text/plain": [
       "0         1970\n",
       "1         1970\n",
       "2         1970\n",
       "3         1970\n",
       "4         1970\n",
       "          ... \n",
       "271355    1970\n",
       "271356    1970\n",
       "271357    1970\n",
       "271358    1970\n",
       "271359    1970\n",
       "Name: Year-Of-Publication, Length: 271360, dtype: int64"
      ]
     },
     "execution_count": 4,
     "metadata": {},
     "output_type": "execute_result"
    }
   ],
   "source": [
    "books_data['Year-Of-Publication'] = pd.to_datetime(books_data['Year-Of-Publication'], errors='coerce').dt.year\n",
    "\n",
    "books_data['Year-Of-Publication'].fillna(books_data['Year-Of-Publication'].mean(), inplace=True)\n",
    "\n",
    "books_data['Year-Of-Publication'] = books_data['Year-Of-Publication'].astype(np.int64)\n",
    "\n",
    "books_data['Year-Of-Publication']"
   ]
  },
  {
   "cell_type": "markdown",
   "id": "629b94c3",
   "metadata": {
    "papermill": {
     "duration": 0.008851,
     "end_time": "2024-02-19T14:25:16.593229",
     "exception": false,
     "start_time": "2024-02-19T14:25:16.584378",
     "status": "completed"
    },
    "tags": []
   },
   "source": [
    "## **Merging** `books_data` and `ratings`"
   ]
  },
  {
   "cell_type": "code",
   "execution_count": 5,
   "id": "b5fae512",
   "metadata": {
    "execution": {
     "iopub.execute_input": "2024-02-19T14:25:16.614547Z",
     "iopub.status.busy": "2024-02-19T14:25:16.614095Z",
     "iopub.status.idle": "2024-02-19T14:25:17.808280Z",
     "shell.execute_reply": "2024-02-19T14:25:17.806768Z"
    },
    "papermill": {
     "duration": 1.207532,
     "end_time": "2024-02-19T14:25:17.811146",
     "exception": false,
     "start_time": "2024-02-19T14:25:16.603614",
     "status": "completed"
    },
    "tags": []
   },
   "outputs": [
    {
     "data": {
      "text/html": [
       "<div>\n",
       "<style scoped>\n",
       "    .dataframe tbody tr th:only-of-type {\n",
       "        vertical-align: middle;\n",
       "    }\n",
       "\n",
       "    .dataframe tbody tr th {\n",
       "        vertical-align: top;\n",
       "    }\n",
       "\n",
       "    .dataframe thead th {\n",
       "        text-align: right;\n",
       "    }\n",
       "</style>\n",
       "<table border=\"1\" class=\"dataframe\">\n",
       "  <thead>\n",
       "    <tr style=\"text-align: right;\">\n",
       "      <th></th>\n",
       "      <th>ISBN</th>\n",
       "      <th>Book-Title</th>\n",
       "      <th>Book-Author</th>\n",
       "      <th>Year-Of-Publication</th>\n",
       "      <th>Publisher</th>\n",
       "      <th>User-ID</th>\n",
       "      <th>Book-Rating</th>\n",
       "    </tr>\n",
       "  </thead>\n",
       "  <tbody>\n",
       "    <tr>\n",
       "      <th>0</th>\n",
       "      <td>0195153448</td>\n",
       "      <td>Classical Mythology</td>\n",
       "      <td>Mark P. O. Morford</td>\n",
       "      <td>1970</td>\n",
       "      <td>Oxford University Press</td>\n",
       "      <td>2</td>\n",
       "      <td>0</td>\n",
       "    </tr>\n",
       "    <tr>\n",
       "      <th>1</th>\n",
       "      <td>0002005018</td>\n",
       "      <td>Clara Callan</td>\n",
       "      <td>Richard Bruce Wright</td>\n",
       "      <td>1970</td>\n",
       "      <td>HarperFlamingo Canada</td>\n",
       "      <td>8</td>\n",
       "      <td>5</td>\n",
       "    </tr>\n",
       "    <tr>\n",
       "      <th>2</th>\n",
       "      <td>0002005018</td>\n",
       "      <td>Clara Callan</td>\n",
       "      <td>Richard Bruce Wright</td>\n",
       "      <td>1970</td>\n",
       "      <td>HarperFlamingo Canada</td>\n",
       "      <td>11400</td>\n",
       "      <td>0</td>\n",
       "    </tr>\n",
       "    <tr>\n",
       "      <th>3</th>\n",
       "      <td>0002005018</td>\n",
       "      <td>Clara Callan</td>\n",
       "      <td>Richard Bruce Wright</td>\n",
       "      <td>1970</td>\n",
       "      <td>HarperFlamingo Canada</td>\n",
       "      <td>11676</td>\n",
       "      <td>8</td>\n",
       "    </tr>\n",
       "    <tr>\n",
       "      <th>4</th>\n",
       "      <td>0002005018</td>\n",
       "      <td>Clara Callan</td>\n",
       "      <td>Richard Bruce Wright</td>\n",
       "      <td>1970</td>\n",
       "      <td>HarperFlamingo Canada</td>\n",
       "      <td>41385</td>\n",
       "      <td>0</td>\n",
       "    </tr>\n",
       "  </tbody>\n",
       "</table>\n",
       "</div>"
      ],
      "text/plain": [
       "         ISBN           Book-Title           Book-Author  Year-Of-Publication  \\\n",
       "0  0195153448  Classical Mythology    Mark P. O. Morford                 1970   \n",
       "1  0002005018         Clara Callan  Richard Bruce Wright                 1970   \n",
       "2  0002005018         Clara Callan  Richard Bruce Wright                 1970   \n",
       "3  0002005018         Clara Callan  Richard Bruce Wright                 1970   \n",
       "4  0002005018         Clara Callan  Richard Bruce Wright                 1970   \n",
       "\n",
       "                 Publisher  User-ID  Book-Rating  \n",
       "0  Oxford University Press        2            0  \n",
       "1    HarperFlamingo Canada        8            5  \n",
       "2    HarperFlamingo Canada    11400            0  \n",
       "3    HarperFlamingo Canada    11676            8  \n",
       "4    HarperFlamingo Canada    41385            0  "
      ]
     },
     "execution_count": 5,
     "metadata": {},
     "output_type": "execute_result"
    }
   ],
   "source": [
    "books_data_ratings = books_data.merge(ratings, on='ISBN')\n",
    "\n",
    "books_data_ratings.head()"
   ]
  },
  {
   "cell_type": "markdown",
   "id": "21396dfb",
   "metadata": {
    "papermill": {
     "duration": 0.008951,
     "end_time": "2024-02-19T14:25:17.829551",
     "exception": false,
     "start_time": "2024-02-19T14:25:17.820600",
     "status": "completed"
    },
    "tags": []
   },
   "source": [
    "# **Collaborative Filtering**\n",
    "-----------------------------\n",
    "### Building the **Recommender System** model"
   ]
  },
  {
   "cell_type": "markdown",
   "id": "b9b743b5",
   "metadata": {
    "papermill": {
     "duration": 0.008863,
     "end_time": "2024-02-19T14:25:17.847797",
     "exception": false,
     "start_time": "2024-02-19T14:25:17.838934",
     "status": "completed"
    },
    "tags": []
   },
   "source": [
    "### Finding users who have rated **over 200** books"
   ]
  },
  {
   "cell_type": "code",
   "execution_count": 6,
   "id": "6cbcaa03",
   "metadata": {
    "execution": {
     "iopub.execute_input": "2024-02-19T14:25:17.868417Z",
     "iopub.status.busy": "2024-02-19T14:25:17.867964Z",
     "iopub.status.idle": "2024-02-19T14:25:18.413420Z",
     "shell.execute_reply": "2024-02-19T14:25:18.412173Z"
    },
    "papermill": {
     "duration": 0.559418,
     "end_time": "2024-02-19T14:25:18.416375",
     "exception": false,
     "start_time": "2024-02-19T14:25:17.856957",
     "status": "completed"
    },
    "tags": []
   },
   "outputs": [
    {
     "data": {
      "text/plain": [
       "Index([   254,   2276,   2766,   2977,   3363,   4017,   4385,   6251,   6323,\n",
       "         6543,\n",
       "       ...\n",
       "       271705, 273979, 274004, 274061, 274301, 274308, 275970, 277427, 277639,\n",
       "       278418],\n",
       "      dtype='int64', name='User-ID', length=811)"
      ]
     },
     "execution_count": 6,
     "metadata": {},
     "output_type": "execute_result"
    }
   ],
   "source": [
    "chosen_ratings = books_data_ratings.groupby('User-ID').count()['Book-Rating'] > 200\n",
    "chosen_users = chosen_ratings[chosen_ratings].index\n",
    "chosen_users"
   ]
  },
  {
   "cell_type": "markdown",
   "id": "68ff36ba",
   "metadata": {
    "papermill": {
     "duration": 0.009323,
     "end_time": "2024-02-19T14:25:18.435506",
     "exception": false,
     "start_time": "2024-02-19T14:25:18.426183",
     "status": "completed"
    },
    "tags": []
   },
   "source": [
    "### **Filtering** out the ratings from the **chosen users** ONLY"
   ]
  },
  {
   "cell_type": "code",
   "execution_count": 7,
   "id": "112915f4",
   "metadata": {
    "execution": {
     "iopub.execute_input": "2024-02-19T14:25:18.457435Z",
     "iopub.status.busy": "2024-02-19T14:25:18.456376Z",
     "iopub.status.idle": "2024-02-19T14:25:18.544610Z",
     "shell.execute_reply": "2024-02-19T14:25:18.543172Z"
    },
    "papermill": {
     "duration": 0.102252,
     "end_time": "2024-02-19T14:25:18.547328",
     "exception": false,
     "start_time": "2024-02-19T14:25:18.445076",
     "status": "completed"
    },
    "tags": []
   },
   "outputs": [
    {
     "data": {
      "text/html": [
       "<div>\n",
       "<style scoped>\n",
       "    .dataframe tbody tr th:only-of-type {\n",
       "        vertical-align: middle;\n",
       "    }\n",
       "\n",
       "    .dataframe tbody tr th {\n",
       "        vertical-align: top;\n",
       "    }\n",
       "\n",
       "    .dataframe thead th {\n",
       "        text-align: right;\n",
       "    }\n",
       "</style>\n",
       "<table border=\"1\" class=\"dataframe\">\n",
       "  <thead>\n",
       "    <tr style=\"text-align: right;\">\n",
       "      <th></th>\n",
       "      <th>ISBN</th>\n",
       "      <th>Book-Title</th>\n",
       "      <th>Book-Author</th>\n",
       "      <th>Year-Of-Publication</th>\n",
       "      <th>Publisher</th>\n",
       "      <th>User-ID</th>\n",
       "      <th>Book-Rating</th>\n",
       "    </tr>\n",
       "  </thead>\n",
       "  <tbody>\n",
       "    <tr>\n",
       "      <th>3</th>\n",
       "      <td>0002005018</td>\n",
       "      <td>Clara Callan</td>\n",
       "      <td>Richard Bruce Wright</td>\n",
       "      <td>1970</td>\n",
       "      <td>HarperFlamingo Canada</td>\n",
       "      <td>11676</td>\n",
       "      <td>8</td>\n",
       "    </tr>\n",
       "    <tr>\n",
       "      <th>6</th>\n",
       "      <td>0002005018</td>\n",
       "      <td>Clara Callan</td>\n",
       "      <td>Richard Bruce Wright</td>\n",
       "      <td>1970</td>\n",
       "      <td>HarperFlamingo Canada</td>\n",
       "      <td>85526</td>\n",
       "      <td>0</td>\n",
       "    </tr>\n",
       "    <tr>\n",
       "      <th>7</th>\n",
       "      <td>0002005018</td>\n",
       "      <td>Clara Callan</td>\n",
       "      <td>Richard Bruce Wright</td>\n",
       "      <td>1970</td>\n",
       "      <td>HarperFlamingo Canada</td>\n",
       "      <td>96054</td>\n",
       "      <td>0</td>\n",
       "    </tr>\n",
       "    <tr>\n",
       "      <th>10</th>\n",
       "      <td>0002005018</td>\n",
       "      <td>Clara Callan</td>\n",
       "      <td>Richard Bruce Wright</td>\n",
       "      <td>1970</td>\n",
       "      <td>HarperFlamingo Canada</td>\n",
       "      <td>177458</td>\n",
       "      <td>0</td>\n",
       "    </tr>\n",
       "    <tr>\n",
       "      <th>21</th>\n",
       "      <td>0374157065</td>\n",
       "      <td>Flu: The Story of the Great Influenza Pandemic...</td>\n",
       "      <td>Gina Bari Kolata</td>\n",
       "      <td>1970</td>\n",
       "      <td>Farrar Straus Giroux</td>\n",
       "      <td>110912</td>\n",
       "      <td>10</td>\n",
       "    </tr>\n",
       "    <tr>\n",
       "      <th>...</th>\n",
       "      <td>...</td>\n",
       "      <td>...</td>\n",
       "      <td>...</td>\n",
       "      <td>...</td>\n",
       "      <td>...</td>\n",
       "      <td>...</td>\n",
       "      <td>...</td>\n",
       "    </tr>\n",
       "    <tr>\n",
       "      <th>1031124</th>\n",
       "      <td>0231128444</td>\n",
       "      <td>Slow Food(The Case For Taste)</td>\n",
       "      <td>Carlo Petrini</td>\n",
       "      <td>1970</td>\n",
       "      <td>Columbia University Press</td>\n",
       "      <td>275970</td>\n",
       "      <td>0</td>\n",
       "    </tr>\n",
       "    <tr>\n",
       "      <th>1031125</th>\n",
       "      <td>0520242335</td>\n",
       "      <td>Strong Democracy : Participatory Politics for ...</td>\n",
       "      <td>Benjamin R. Barber</td>\n",
       "      <td>1970</td>\n",
       "      <td>University of California Press</td>\n",
       "      <td>275970</td>\n",
       "      <td>0</td>\n",
       "    </tr>\n",
       "    <tr>\n",
       "      <th>1031126</th>\n",
       "      <td>0762412119</td>\n",
       "      <td>Burpee Gardening Cyclopedia: A Concise, Up to ...</td>\n",
       "      <td>Allan Armitage</td>\n",
       "      <td>1970</td>\n",
       "      <td>Running Press Book Publishers</td>\n",
       "      <td>275970</td>\n",
       "      <td>0</td>\n",
       "    </tr>\n",
       "    <tr>\n",
       "      <th>1031127</th>\n",
       "      <td>1582380805</td>\n",
       "      <td>Tropical Rainforests: 230 Species in Full Colo...</td>\n",
       "      <td>Allen M., Ph.D. Young</td>\n",
       "      <td>1970</td>\n",
       "      <td>Golden Guides from St. Martin's Press</td>\n",
       "      <td>275970</td>\n",
       "      <td>0</td>\n",
       "    </tr>\n",
       "    <tr>\n",
       "      <th>1031128</th>\n",
       "      <td>1845170423</td>\n",
       "      <td>Cocktail Classics</td>\n",
       "      <td>David Biggs</td>\n",
       "      <td>1970</td>\n",
       "      <td>Connaught</td>\n",
       "      <td>275970</td>\n",
       "      <td>7</td>\n",
       "    </tr>\n",
       "  </tbody>\n",
       "</table>\n",
       "<p>474007 rows × 7 columns</p>\n",
       "</div>"
      ],
      "text/plain": [
       "               ISBN                                         Book-Title  \\\n",
       "3        0002005018                                       Clara Callan   \n",
       "6        0002005018                                       Clara Callan   \n",
       "7        0002005018                                       Clara Callan   \n",
       "10       0002005018                                       Clara Callan   \n",
       "21       0374157065  Flu: The Story of the Great Influenza Pandemic...   \n",
       "...             ...                                                ...   \n",
       "1031124  0231128444                      Slow Food(The Case For Taste)   \n",
       "1031125  0520242335  Strong Democracy : Participatory Politics for ...   \n",
       "1031126  0762412119  Burpee Gardening Cyclopedia: A Concise, Up to ...   \n",
       "1031127  1582380805  Tropical Rainforests: 230 Species in Full Colo...   \n",
       "1031128  1845170423                                  Cocktail Classics   \n",
       "\n",
       "                   Book-Author  Year-Of-Publication  \\\n",
       "3         Richard Bruce Wright                 1970   \n",
       "6         Richard Bruce Wright                 1970   \n",
       "7         Richard Bruce Wright                 1970   \n",
       "10        Richard Bruce Wright                 1970   \n",
       "21            Gina Bari Kolata                 1970   \n",
       "...                        ...                  ...   \n",
       "1031124          Carlo Petrini                 1970   \n",
       "1031125     Benjamin R. Barber                 1970   \n",
       "1031126         Allan Armitage                 1970   \n",
       "1031127  Allen M., Ph.D. Young                 1970   \n",
       "1031128            David Biggs                 1970   \n",
       "\n",
       "                                     Publisher  User-ID  Book-Rating  \n",
       "3                        HarperFlamingo Canada    11676            8  \n",
       "6                        HarperFlamingo Canada    85526            0  \n",
       "7                        HarperFlamingo Canada    96054            0  \n",
       "10                       HarperFlamingo Canada   177458            0  \n",
       "21                        Farrar Straus Giroux   110912           10  \n",
       "...                                        ...      ...          ...  \n",
       "1031124              Columbia University Press   275970            0  \n",
       "1031125         University of California Press   275970            0  \n",
       "1031126          Running Press Book Publishers   275970            0  \n",
       "1031127  Golden Guides from St. Martin's Press   275970            0  \n",
       "1031128                              Connaught   275970            7  \n",
       "\n",
       "[474007 rows x 7 columns]"
      ]
     },
     "execution_count": 7,
     "metadata": {},
     "output_type": "execute_result"
    }
   ],
   "source": [
    "filtered_ratings = books_data_ratings[books_data_ratings['User-ID'].isin(chosen_users)]\n",
    "filtered_ratings"
   ]
  },
  {
   "cell_type": "markdown",
   "id": "11b2fce2",
   "metadata": {
    "papermill": {
     "duration": 0.009688,
     "end_time": "2024-02-19T14:25:18.567069",
     "exception": false,
     "start_time": "2024-02-19T14:25:18.557381",
     "status": "completed"
    },
    "tags": []
   },
   "source": [
    "### **Book titles** having **more than 50** ratings"
   ]
  },
  {
   "cell_type": "code",
   "execution_count": 8,
   "id": "ffbc9af6",
   "metadata": {
    "execution": {
     "iopub.execute_input": "2024-02-19T14:25:18.591231Z",
     "iopub.status.busy": "2024-02-19T14:25:18.590791Z",
     "iopub.status.idle": "2024-02-19T14:25:19.390090Z",
     "shell.execute_reply": "2024-02-19T14:25:19.388605Z"
    },
    "papermill": {
     "duration": 0.814386,
     "end_time": "2024-02-19T14:25:19.392794",
     "exception": false,
     "start_time": "2024-02-19T14:25:18.578408",
     "status": "completed"
    },
    "tags": []
   },
   "outputs": [
    {
     "data": {
      "text/plain": [
       "Index(['1984', '1st to Die: A Novel', '2nd Chance', '4 Blondes',\n",
       "       'A Bend in the Road', 'A Case of Need',\n",
       "       'A Child Called \\It\\\": One Child's Courage to Survive\"',\n",
       "       'A Civil Action', 'A Day Late and a Dollar Short', 'A Fine Balance',\n",
       "       ...\n",
       "       'Winter Solstice', 'Wish You Well', 'Without Remorse',\n",
       "       'Wizard and Glass (The Dark Tower, Book 4)', 'Wuthering Heights',\n",
       "       'Year of Wonders', 'You Belong To Me',\n",
       "       'Zen and the Art of Motorcycle Maintenance: An Inquiry into Values',\n",
       "       'Zoya', '\\O\\\" Is for Outlaw\"'],\n",
       "      dtype='object', name='Book-Title', length=706)"
      ]
     },
     "execution_count": 8,
     "metadata": {},
     "output_type": "execute_result"
    }
   ],
   "source": [
    "filter_book_titles = filtered_ratings.groupby('Book-Title').count()['Book-Rating'] >= 50\n",
    "famous_books = filter_book_titles[filter_book_titles].index\n",
    "famous_books"
   ]
  },
  {
   "cell_type": "markdown",
   "id": "839329cc",
   "metadata": {
    "papermill": {
     "duration": 0.010833,
     "end_time": "2024-02-19T14:25:19.414691",
     "exception": false,
     "start_time": "2024-02-19T14:25:19.403858",
     "status": "completed"
    },
    "tags": []
   },
   "source": [
    "### **Filtering** out the books that have **more than 50** ratings"
   ]
  },
  {
   "cell_type": "code",
   "execution_count": 9,
   "id": "c2191dff",
   "metadata": {
    "execution": {
     "iopub.execute_input": "2024-02-19T14:25:19.438833Z",
     "iopub.status.busy": "2024-02-19T14:25:19.437877Z",
     "iopub.status.idle": "2024-02-19T14:25:19.541920Z",
     "shell.execute_reply": "2024-02-19T14:25:19.540553Z"
    },
    "papermill": {
     "duration": 0.120222,
     "end_time": "2024-02-19T14:25:19.545415",
     "exception": false,
     "start_time": "2024-02-19T14:25:19.425193",
     "status": "completed"
    },
    "tags": []
   },
   "outputs": [
    {
     "name": "stdout",
     "output_type": "stream",
     "text": [
      "<class 'pandas.core.frame.DataFrame'>\n",
      "Index: 58586 entries, 31 to 1028817\n",
      "Data columns (total 7 columns):\n",
      " #   Column               Non-Null Count  Dtype \n",
      "---  ------               --------------  ----- \n",
      " 0   ISBN                 58586 non-null  object\n",
      " 1   Book-Title           58586 non-null  object\n",
      " 2   Book-Author          58586 non-null  object\n",
      " 3   Year-Of-Publication  58586 non-null  int64 \n",
      " 4   Publisher            58586 non-null  object\n",
      " 5   User-ID              58586 non-null  int64 \n",
      " 6   Book-Rating          58586 non-null  int64 \n",
      "dtypes: int64(3), object(4)\n",
      "memory usage: 3.6+ MB\n"
     ]
    }
   ],
   "source": [
    "final_df = filtered_ratings[filtered_ratings['Book-Title'].isin(famous_books)]\n",
    "final_df.info()"
   ]
  },
  {
   "cell_type": "markdown",
   "id": "05d759c4",
   "metadata": {
    "papermill": {
     "duration": 0.009981,
     "end_time": "2024-02-19T14:25:19.567127",
     "exception": false,
     "start_time": "2024-02-19T14:25:19.557146",
     "status": "completed"
    },
    "tags": []
   },
   "source": [
    "### **Processing** the final subset of data\n",
    "-------------------------------------------\n",
    "**Pivoting** the table on the `Book-Title` as **index**, `User-ID` as **columns** with `Book-Rating` as **values**."
   ]
  },
  {
   "cell_type": "code",
   "execution_count": 10,
   "id": "9cd43470",
   "metadata": {
    "execution": {
     "iopub.execute_input": "2024-02-19T14:25:19.590949Z",
     "iopub.status.busy": "2024-02-19T14:25:19.589775Z",
     "iopub.status.idle": "2024-02-19T14:25:19.653460Z",
     "shell.execute_reply": "2024-02-19T14:25:19.652545Z"
    },
    "papermill": {
     "duration": 0.078694,
     "end_time": "2024-02-19T14:25:19.656160",
     "exception": false,
     "start_time": "2024-02-19T14:25:19.577466",
     "status": "completed"
    },
    "tags": []
   },
   "outputs": [
    {
     "data": {
      "text/plain": [
       "Index(['1984', '1st to Die: A Novel', '2nd Chance', '4 Blondes',\n",
       "       'A Bend in the Road', 'A Case of Need',\n",
       "       'A Child Called \\It\\\": One Child's Courage to Survive\"',\n",
       "       'A Civil Action', 'A Day Late and a Dollar Short', 'A Fine Balance',\n",
       "       ...\n",
       "       'Winter Solstice', 'Wish You Well', 'Without Remorse',\n",
       "       'Wizard and Glass (The Dark Tower, Book 4)', 'Wuthering Heights',\n",
       "       'Year of Wonders', 'You Belong To Me',\n",
       "       'Zen and the Art of Motorcycle Maintenance: An Inquiry into Values',\n",
       "       'Zoya', '\\O\\\" Is for Outlaw\"'],\n",
       "      dtype='object', name='Book-Title', length=706)"
      ]
     },
     "execution_count": 10,
     "metadata": {},
     "output_type": "execute_result"
    }
   ],
   "source": [
    "pt = final_df.pivot_table(index='Book-Title', columns='User-ID', values='Book-Rating').fillna(0.0)\n",
    "pt.index"
   ]
  },
  {
   "cell_type": "markdown",
   "id": "1ccf8a99",
   "metadata": {
    "papermill": {
     "duration": 0.011351,
     "end_time": "2024-02-19T14:25:19.678296",
     "exception": false,
     "start_time": "2024-02-19T14:25:19.666945",
     "status": "completed"
    },
    "tags": []
   },
   "source": [
    "### Computing the **cosine similarity scores** of the books\n",
    "We are computing the **Euclidean distances** of **706** books from **706** books."
   ]
  },
  {
   "cell_type": "code",
   "execution_count": 11,
   "id": "39ba0252",
   "metadata": {
    "execution": {
     "iopub.execute_input": "2024-02-19T14:25:19.701509Z",
     "iopub.status.busy": "2024-02-19T14:25:19.700754Z",
     "iopub.status.idle": "2024-02-19T14:25:19.737731Z",
     "shell.execute_reply": "2024-02-19T14:25:19.735754Z"
    },
    "papermill": {
     "duration": 0.053321,
     "end_time": "2024-02-19T14:25:19.742085",
     "exception": false,
     "start_time": "2024-02-19T14:25:19.688764",
     "status": "completed"
    },
    "tags": []
   },
   "outputs": [
    {
     "data": {
      "text/plain": [
       "array([[1.        , 0.10255025, 0.01220856, ..., 0.12110367, 0.07347567,\n",
       "        0.04316046],\n",
       "       [0.10255025, 1.        , 0.2364573 , ..., 0.07446129, 0.16773875,\n",
       "        0.14263397],\n",
       "       [0.01220856, 0.2364573 , 1.        , ..., 0.04558758, 0.04938579,\n",
       "        0.10796119],\n",
       "       ...,\n",
       "       [0.12110367, 0.07446129, 0.04558758, ..., 1.        , 0.07085128,\n",
       "        0.0196177 ],\n",
       "       [0.07347567, 0.16773875, 0.04938579, ..., 0.07085128, 1.        ,\n",
       "        0.10602962],\n",
       "       [0.04316046, 0.14263397, 0.10796119, ..., 0.0196177 , 0.10602962,\n",
       "        1.        ]])"
      ]
     },
     "execution_count": 11,
     "metadata": {},
     "output_type": "execute_result"
    }
   ],
   "source": [
    "sims = cos_sim(pt)\n",
    "sims"
   ]
  },
  {
   "cell_type": "markdown",
   "id": "4174ae22",
   "metadata": {
    "papermill": {
     "duration": 0.023155,
     "end_time": "2024-02-19T14:25:19.789875",
     "exception": false,
     "start_time": "2024-02-19T14:25:19.766720",
     "status": "completed"
    },
    "tags": []
   },
   "source": [
    "### **Recommender** function\n",
    "This function will ***suggest*** the **top 5** books based on their **similarity scores** closest to the **given** book."
   ]
  },
  {
   "cell_type": "code",
   "execution_count": 12,
   "id": "2f921043",
   "metadata": {
    "execution": {
     "iopub.execute_input": "2024-02-19T14:25:19.837881Z",
     "iopub.status.busy": "2024-02-19T14:25:19.836949Z",
     "iopub.status.idle": "2024-02-19T14:25:19.849715Z",
     "shell.execute_reply": "2024-02-19T14:25:19.848816Z"
    },
    "papermill": {
     "duration": 0.040312,
     "end_time": "2024-02-19T14:25:19.852398",
     "exception": false,
     "start_time": "2024-02-19T14:25:19.812086",
     "status": "completed"
    },
    "tags": []
   },
   "outputs": [],
   "source": [
    "def recommend(book_name):\n",
    "    \n",
    "    suggestions = []\n",
    "    \n",
    "    # Fetching the book's index number\n",
    "    i = np.where(pt.index == book_name)[0][0]\n",
    "    \n",
    "    # Fetching the similarity scores\n",
    "    top_5_scores = sorted(list(enumerate(sims[i])), key=lambda x: x[1], reverse=True)[1:6]\n",
    "    \n",
    "    # Fetching the book title suggestions that match the similarity scores\n",
    "    for i in sorted(list(enumerate(sims[i])), key=lambda x: x[1], reverse=True)[1:6]:\n",
    "        suggestions.append(pt.index[i[0]])\n",
    "    \n",
    "    return suggestions"
   ]
  },
  {
   "cell_type": "markdown",
   "id": "b887c4a1",
   "metadata": {
    "papermill": {
     "duration": 0.011173,
     "end_time": "2024-02-19T14:25:19.875882",
     "exception": false,
     "start_time": "2024-02-19T14:25:19.864709",
     "status": "completed"
    },
    "tags": []
   },
   "source": [
    "### **Output**\n",
    "--------------\n",
    "A table of **top 5** suggestions for each of the **706** most famous books."
   ]
  },
  {
   "cell_type": "code",
   "execution_count": 13,
   "id": "1874d5d9",
   "metadata": {
    "execution": {
     "iopub.execute_input": "2024-02-19T14:25:19.901028Z",
     "iopub.status.busy": "2024-02-19T14:25:19.900223Z",
     "iopub.status.idle": "2024-02-19T14:25:20.829402Z",
     "shell.execute_reply": "2024-02-19T14:25:20.827966Z"
    },
    "papermill": {
     "duration": 0.945152,
     "end_time": "2024-02-19T14:25:20.832634",
     "exception": false,
     "start_time": "2024-02-19T14:25:19.887482",
     "status": "completed"
    },
    "tags": []
   },
   "outputs": [],
   "source": [
    "all_suggestions = {}\n",
    "\n",
    "for name in pt.index:\n",
    "    all_suggestions.update({name: recommend(name)})\n",
    "    \n",
    "suggestions_df = pd.DataFrame(all_suggestions).T\n",
    "suggestions_df.rename(columns={0: \"1st\", 1: \"2nd\", 2: \"3rd\", 3: \"4th\", 4: \"5th\"}, inplace=True)\n",
    "\n",
    "suggestions_df.to_csv('suggestions.csv')"
   ]
  }
 ],
 "metadata": {
  "kaggle": {
   "accelerator": "none",
   "dataSources": [
    {
     "datasetId": 1004280,
     "sourceId": 7595263,
     "sourceType": "datasetVersion"
    }
   ],
   "dockerImageVersionId": 30646,
   "isGpuEnabled": false,
   "isInternetEnabled": true,
   "language": "python",
   "sourceType": "notebook"
  },
  "kernelspec": {
   "display_name": "Python 3",
   "language": "python",
   "name": "python3"
  },
  "language_info": {
   "codemirror_mode": {
    "name": "ipython",
    "version": 3
   },
   "file_extension": ".py",
   "mimetype": "text/x-python",
   "name": "python",
   "nbconvert_exporter": "python",
   "pygments_lexer": "ipython3",
   "version": "3.10.13"
  },
  "papermill": {
   "default_parameters": {},
   "duration": 16.510811,
   "end_time": "2024-02-19T14:25:21.769755",
   "environment_variables": {},
   "exception": null,
   "input_path": "__notebook__.ipynb",
   "output_path": "__notebook__.ipynb",
   "parameters": {},
   "start_time": "2024-02-19T14:25:05.258944",
   "version": "2.5.0"
  }
 },
 "nbformat": 4,
 "nbformat_minor": 5
}
